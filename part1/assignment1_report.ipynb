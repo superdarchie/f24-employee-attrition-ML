{
  "cells": [
    {
      "cell_type": "markdown",
      "id": "2268a1c1-9157-4536-aea7-038bc8448d62",
      "metadata": {
        "id": "2268a1c1-9157-4536-aea7-038bc8448d62"
      },
      "source": [
        "# Assignment #1: Predicting Employee Attrition / Burnout"
      ]
    },
    {
      "cell_type": "markdown",
      "id": "d837085e-ffbd-4fd2-92d9-425e095b8b96",
      "metadata": {
        "id": "d837085e-ffbd-4fd2-92d9-425e095b8b96"
      },
      "source": [
        "### Members - NIU"
      ]
    },
    {
      "cell_type": "markdown",
      "id": "c2d48f62-81a3-4412-9d71-8084d3d1611a",
      "metadata": {
        "id": "c2d48f62-81a3-4412-9d71-8084d3d1611a"
      },
      "source": [
        "Dallon Archibald - 100547834\\\n",
        "Keanu Simons - 100545207"
      ]
    },
    {
      "cell_type": "code",
      "execution_count": 1,
      "id": "e0041b26-4377-4837-88b3-b2f429d34d5f",
      "metadata": {
        "id": "e0041b26-4377-4837-88b3-b2f429d34d5f"
      },
      "outputs": [],
      "source": [
        "import numpy as np\n",
        "\n",
        "NIU = 100547834\n",
        "np.random.seed(NIU)"
      ]
    },
    {
      "cell_type": "markdown",
      "id": "fcccb543-1292-4e12-91e9-d2599656cdc4",
      "metadata": {
        "id": "fcccb543-1292-4e12-91e9-d2599656cdc4"
      },
      "source": [
        "## 1. EDA"
      ]
    },
    {
      "cell_type": "markdown",
      "id": "24e50b05-b5da-4b34-a4f9-cdeaf50e2a8e",
      "metadata": {
        "id": "24e50b05-b5da-4b34-a4f9-cdeaf50e2a8e"
      },
      "source": [
        "First, we will load the data from a pickle (.pkl) file. This should be located at the root of the directory. Otherwise, run the below cell to upload the appropiate file, \"attrition_available_26.pkl\"."
      ]
    },
    {
      "cell_type": "code",
      "execution_count": 2,
      "id": "mVuPnR5YQioD",
      "metadata": {
        "id": "mVuPnR5YQioD",
        "colab": {
          "base_uri": "https://localhost:8080/",
          "height": 73
        },
        "outputId": "2c1b5261-938d-4772-87f1-f2ed47057e1f"
      },
      "outputs": [
        {
          "output_type": "display_data",
          "data": {
            "text/plain": [
              "<IPython.core.display.HTML object>"
            ],
            "text/html": [
              "\n",
              "     <input type=\"file\" id=\"files-0fa3ed14-dfdf-4583-83e5-71f119479309\" name=\"files[]\" multiple disabled\n",
              "        style=\"border:none\" />\n",
              "     <output id=\"result-0fa3ed14-dfdf-4583-83e5-71f119479309\">\n",
              "      Upload widget is only available when the cell has been executed in the\n",
              "      current browser session. Please rerun this cell to enable.\n",
              "      </output>\n",
              "      <script>// Copyright 2017 Google LLC\n",
              "//\n",
              "// Licensed under the Apache License, Version 2.0 (the \"License\");\n",
              "// you may not use this file except in compliance with the License.\n",
              "// You may obtain a copy of the License at\n",
              "//\n",
              "//      http://www.apache.org/licenses/LICENSE-2.0\n",
              "//\n",
              "// Unless required by applicable law or agreed to in writing, software\n",
              "// distributed under the License is distributed on an \"AS IS\" BASIS,\n",
              "// WITHOUT WARRANTIES OR CONDITIONS OF ANY KIND, either express or implied.\n",
              "// See the License for the specific language governing permissions and\n",
              "// limitations under the License.\n",
              "\n",
              "/**\n",
              " * @fileoverview Helpers for google.colab Python module.\n",
              " */\n",
              "(function(scope) {\n",
              "function span(text, styleAttributes = {}) {\n",
              "  const element = document.createElement('span');\n",
              "  element.textContent = text;\n",
              "  for (const key of Object.keys(styleAttributes)) {\n",
              "    element.style[key] = styleAttributes[key];\n",
              "  }\n",
              "  return element;\n",
              "}\n",
              "\n",
              "// Max number of bytes which will be uploaded at a time.\n",
              "const MAX_PAYLOAD_SIZE = 100 * 1024;\n",
              "\n",
              "function _uploadFiles(inputId, outputId) {\n",
              "  const steps = uploadFilesStep(inputId, outputId);\n",
              "  const outputElement = document.getElementById(outputId);\n",
              "  // Cache steps on the outputElement to make it available for the next call\n",
              "  // to uploadFilesContinue from Python.\n",
              "  outputElement.steps = steps;\n",
              "\n",
              "  return _uploadFilesContinue(outputId);\n",
              "}\n",
              "\n",
              "// This is roughly an async generator (not supported in the browser yet),\n",
              "// where there are multiple asynchronous steps and the Python side is going\n",
              "// to poll for completion of each step.\n",
              "// This uses a Promise to block the python side on completion of each step,\n",
              "// then passes the result of the previous step as the input to the next step.\n",
              "function _uploadFilesContinue(outputId) {\n",
              "  const outputElement = document.getElementById(outputId);\n",
              "  const steps = outputElement.steps;\n",
              "\n",
              "  const next = steps.next(outputElement.lastPromiseValue);\n",
              "  return Promise.resolve(next.value.promise).then((value) => {\n",
              "    // Cache the last promise value to make it available to the next\n",
              "    // step of the generator.\n",
              "    outputElement.lastPromiseValue = value;\n",
              "    return next.value.response;\n",
              "  });\n",
              "}\n",
              "\n",
              "/**\n",
              " * Generator function which is called between each async step of the upload\n",
              " * process.\n",
              " * @param {string} inputId Element ID of the input file picker element.\n",
              " * @param {string} outputId Element ID of the output display.\n",
              " * @return {!Iterable<!Object>} Iterable of next steps.\n",
              " */\n",
              "function* uploadFilesStep(inputId, outputId) {\n",
              "  const inputElement = document.getElementById(inputId);\n",
              "  inputElement.disabled = false;\n",
              "\n",
              "  const outputElement = document.getElementById(outputId);\n",
              "  outputElement.innerHTML = '';\n",
              "\n",
              "  const pickedPromise = new Promise((resolve) => {\n",
              "    inputElement.addEventListener('change', (e) => {\n",
              "      resolve(e.target.files);\n",
              "    });\n",
              "  });\n",
              "\n",
              "  const cancel = document.createElement('button');\n",
              "  inputElement.parentElement.appendChild(cancel);\n",
              "  cancel.textContent = 'Cancel upload';\n",
              "  const cancelPromise = new Promise((resolve) => {\n",
              "    cancel.onclick = () => {\n",
              "      resolve(null);\n",
              "    };\n",
              "  });\n",
              "\n",
              "  // Wait for the user to pick the files.\n",
              "  const files = yield {\n",
              "    promise: Promise.race([pickedPromise, cancelPromise]),\n",
              "    response: {\n",
              "      action: 'starting',\n",
              "    }\n",
              "  };\n",
              "\n",
              "  cancel.remove();\n",
              "\n",
              "  // Disable the input element since further picks are not allowed.\n",
              "  inputElement.disabled = true;\n",
              "\n",
              "  if (!files) {\n",
              "    return {\n",
              "      response: {\n",
              "        action: 'complete',\n",
              "      }\n",
              "    };\n",
              "  }\n",
              "\n",
              "  for (const file of files) {\n",
              "    const li = document.createElement('li');\n",
              "    li.append(span(file.name, {fontWeight: 'bold'}));\n",
              "    li.append(span(\n",
              "        `(${file.type || 'n/a'}) - ${file.size} bytes, ` +\n",
              "        `last modified: ${\n",
              "            file.lastModifiedDate ? file.lastModifiedDate.toLocaleDateString() :\n",
              "                                    'n/a'} - `));\n",
              "    const percent = span('0% done');\n",
              "    li.appendChild(percent);\n",
              "\n",
              "    outputElement.appendChild(li);\n",
              "\n",
              "    const fileDataPromise = new Promise((resolve) => {\n",
              "      const reader = new FileReader();\n",
              "      reader.onload = (e) => {\n",
              "        resolve(e.target.result);\n",
              "      };\n",
              "      reader.readAsArrayBuffer(file);\n",
              "    });\n",
              "    // Wait for the data to be ready.\n",
              "    let fileData = yield {\n",
              "      promise: fileDataPromise,\n",
              "      response: {\n",
              "        action: 'continue',\n",
              "      }\n",
              "    };\n",
              "\n",
              "    // Use a chunked sending to avoid message size limits. See b/62115660.\n",
              "    let position = 0;\n",
              "    do {\n",
              "      const length = Math.min(fileData.byteLength - position, MAX_PAYLOAD_SIZE);\n",
              "      const chunk = new Uint8Array(fileData, position, length);\n",
              "      position += length;\n",
              "\n",
              "      const base64 = btoa(String.fromCharCode.apply(null, chunk));\n",
              "      yield {\n",
              "        response: {\n",
              "          action: 'append',\n",
              "          file: file.name,\n",
              "          data: base64,\n",
              "        },\n",
              "      };\n",
              "\n",
              "      let percentDone = fileData.byteLength === 0 ?\n",
              "          100 :\n",
              "          Math.round((position / fileData.byteLength) * 100);\n",
              "      percent.textContent = `${percentDone}% done`;\n",
              "\n",
              "    } while (position < fileData.byteLength);\n",
              "  }\n",
              "\n",
              "  // All done.\n",
              "  yield {\n",
              "    response: {\n",
              "      action: 'complete',\n",
              "    }\n",
              "  };\n",
              "}\n",
              "\n",
              "scope.google = scope.google || {};\n",
              "scope.google.colab = scope.google.colab || {};\n",
              "scope.google.colab._files = {\n",
              "  _uploadFiles,\n",
              "  _uploadFilesContinue,\n",
              "};\n",
              "})(self);\n",
              "</script> "
            ]
          },
          "metadata": {}
        },
        {
          "output_type": "stream",
          "name": "stdout",
          "text": [
            "Saving attrition_available_26.pkl to attrition_available_26 (1).pkl\n"
          ]
        }
      ],
      "source": [
        "from google.colab import files\n",
        "import io\n",
        "\n",
        "uploaded = files.upload()"
      ]
    },
    {
      "cell_type": "code",
      "execution_count": 3,
      "id": "c6e8dd7e-747a-4382-91c3-9ec80190d98d",
      "metadata": {
        "id": "c6e8dd7e-747a-4382-91c3-9ec80190d98d"
      },
      "outputs": [],
      "source": [
        "import pandas as pd\n",
        "\n",
        "pd.set_option('display.max_colwidth', None)\n",
        "employee_data_df = pd.read_pickle(\"attrition_available_26.pkl\")"
      ]
    },
    {
      "cell_type": "markdown",
      "id": "b62550ae-4018-4463-ac56-fe75faaeb3fa",
      "metadata": {
        "id": "b62550ae-4018-4463-ac56-fe75faaeb3fa"
      },
      "source": [
        "We will observe the top and characteristics of the data to ensure it was properly loaded then separate the **target** (\"Attrition\") from the **feature** variables."
      ]
    },
    {
      "cell_type": "code",
      "execution_count": 4,
      "id": "c2111761-c4bf-4a04-bf7c-fb5fdd336835",
      "metadata": {
        "id": "c2111761-c4bf-4a04-bf7c-fb5fdd336835",
        "colab": {
          "base_uri": "https://localhost:8080/",
          "height": 255
        },
        "outputId": "9f66ad6d-01c3-4cdc-c96b-734018d861f2"
      },
      "outputs": [
        {
          "output_type": "execute_result",
          "data": {
            "text/plain": [
              "          hrs  absences  JobInvolvement  PerformanceRating  \\\n",
              "1    7.315971        13               2                4.0   \n",
              "6    6.450877        17               3                4.0   \n",
              "13   8.871421        14               2                3.0   \n",
              "28  10.713066         6               2                3.0   \n",
              "30   9.662808        11               2                NaN   \n",
              "\n",
              "    EnvironmentSatisfaction  JobSatisfaction  WorkLifeBalance  Age Attrition  \\\n",
              "1                       3.0              2.0              4.0   31       Yes   \n",
              "6                       1.0              3.0              1.0   28       Yes   \n",
              "13                      1.0              2.0              2.0   47       Yes   \n",
              "28                      4.0              3.0              1.0   44       Yes   \n",
              "30                      1.0              2.0              3.0   26       Yes   \n",
              "\n",
              "       BusinessTravel  ... NumCompaniesWorked  Over18  PercentSalaryHike  \\\n",
              "1   Travel_Frequently  ...                0.0       Y                 23   \n",
              "6       Travel_Rarely  ...                2.0       Y                 20   \n",
              "13         Non-Travel  ...                1.0       Y                 11   \n",
              "28  Travel_Frequently  ...                3.0       Y                 14   \n",
              "30      Travel_Rarely  ...                2.0       Y                 11   \n",
              "\n",
              "   StandardHours  StockOptionLevel  TotalWorkingYears TrainingTimesLastYear  \\\n",
              "1              8                 1                6.0                   3.0   \n",
              "6              8                 1                5.0                   2.0   \n",
              "13             8                 2               10.0                   4.0   \n",
              "28             8                 1               19.0                   2.0   \n",
              "30             8                 0                5.0                   5.0   \n",
              "\n",
              "    YearsAtCompany YearsSinceLastPromotion YearsWithCurrManager  \n",
              "1                5                       1                    4  \n",
              "6                0                       0                    0  \n",
              "13              10                       9                    9  \n",
              "28               1                       0                    0  \n",
              "30               3                       0                    2  \n",
              "\n",
              "[5 rows x 31 columns]"
            ],
            "text/html": [
              "\n",
              "  <div id=\"df-8a0e2e4d-3440-4533-9544-ef4a26e8a888\" class=\"colab-df-container\">\n",
              "    <div>\n",
              "<style scoped>\n",
              "    .dataframe tbody tr th:only-of-type {\n",
              "        vertical-align: middle;\n",
              "    }\n",
              "\n",
              "    .dataframe tbody tr th {\n",
              "        vertical-align: top;\n",
              "    }\n",
              "\n",
              "    .dataframe thead th {\n",
              "        text-align: right;\n",
              "    }\n",
              "</style>\n",
              "<table border=\"1\" class=\"dataframe\">\n",
              "  <thead>\n",
              "    <tr style=\"text-align: right;\">\n",
              "      <th></th>\n",
              "      <th>hrs</th>\n",
              "      <th>absences</th>\n",
              "      <th>JobInvolvement</th>\n",
              "      <th>PerformanceRating</th>\n",
              "      <th>EnvironmentSatisfaction</th>\n",
              "      <th>JobSatisfaction</th>\n",
              "      <th>WorkLifeBalance</th>\n",
              "      <th>Age</th>\n",
              "      <th>Attrition</th>\n",
              "      <th>BusinessTravel</th>\n",
              "      <th>...</th>\n",
              "      <th>NumCompaniesWorked</th>\n",
              "      <th>Over18</th>\n",
              "      <th>PercentSalaryHike</th>\n",
              "      <th>StandardHours</th>\n",
              "      <th>StockOptionLevel</th>\n",
              "      <th>TotalWorkingYears</th>\n",
              "      <th>TrainingTimesLastYear</th>\n",
              "      <th>YearsAtCompany</th>\n",
              "      <th>YearsSinceLastPromotion</th>\n",
              "      <th>YearsWithCurrManager</th>\n",
              "    </tr>\n",
              "  </thead>\n",
              "  <tbody>\n",
              "    <tr>\n",
              "      <th>1</th>\n",
              "      <td>7.315971</td>\n",
              "      <td>13</td>\n",
              "      <td>2</td>\n",
              "      <td>4.0</td>\n",
              "      <td>3.0</td>\n",
              "      <td>2.0</td>\n",
              "      <td>4.0</td>\n",
              "      <td>31</td>\n",
              "      <td>Yes</td>\n",
              "      <td>Travel_Frequently</td>\n",
              "      <td>...</td>\n",
              "      <td>0.0</td>\n",
              "      <td>Y</td>\n",
              "      <td>23</td>\n",
              "      <td>8</td>\n",
              "      <td>1</td>\n",
              "      <td>6.0</td>\n",
              "      <td>3.0</td>\n",
              "      <td>5</td>\n",
              "      <td>1</td>\n",
              "      <td>4</td>\n",
              "    </tr>\n",
              "    <tr>\n",
              "      <th>6</th>\n",
              "      <td>6.450877</td>\n",
              "      <td>17</td>\n",
              "      <td>3</td>\n",
              "      <td>4.0</td>\n",
              "      <td>1.0</td>\n",
              "      <td>3.0</td>\n",
              "      <td>1.0</td>\n",
              "      <td>28</td>\n",
              "      <td>Yes</td>\n",
              "      <td>Travel_Rarely</td>\n",
              "      <td>...</td>\n",
              "      <td>2.0</td>\n",
              "      <td>Y</td>\n",
              "      <td>20</td>\n",
              "      <td>8</td>\n",
              "      <td>1</td>\n",
              "      <td>5.0</td>\n",
              "      <td>2.0</td>\n",
              "      <td>0</td>\n",
              "      <td>0</td>\n",
              "      <td>0</td>\n",
              "    </tr>\n",
              "    <tr>\n",
              "      <th>13</th>\n",
              "      <td>8.871421</td>\n",
              "      <td>14</td>\n",
              "      <td>2</td>\n",
              "      <td>3.0</td>\n",
              "      <td>1.0</td>\n",
              "      <td>2.0</td>\n",
              "      <td>2.0</td>\n",
              "      <td>47</td>\n",
              "      <td>Yes</td>\n",
              "      <td>Non-Travel</td>\n",
              "      <td>...</td>\n",
              "      <td>1.0</td>\n",
              "      <td>Y</td>\n",
              "      <td>11</td>\n",
              "      <td>8</td>\n",
              "      <td>2</td>\n",
              "      <td>10.0</td>\n",
              "      <td>4.0</td>\n",
              "      <td>10</td>\n",
              "      <td>9</td>\n",
              "      <td>9</td>\n",
              "    </tr>\n",
              "    <tr>\n",
              "      <th>28</th>\n",
              "      <td>10.713066</td>\n",
              "      <td>6</td>\n",
              "      <td>2</td>\n",
              "      <td>3.0</td>\n",
              "      <td>4.0</td>\n",
              "      <td>3.0</td>\n",
              "      <td>1.0</td>\n",
              "      <td>44</td>\n",
              "      <td>Yes</td>\n",
              "      <td>Travel_Frequently</td>\n",
              "      <td>...</td>\n",
              "      <td>3.0</td>\n",
              "      <td>Y</td>\n",
              "      <td>14</td>\n",
              "      <td>8</td>\n",
              "      <td>1</td>\n",
              "      <td>19.0</td>\n",
              "      <td>2.0</td>\n",
              "      <td>1</td>\n",
              "      <td>0</td>\n",
              "      <td>0</td>\n",
              "    </tr>\n",
              "    <tr>\n",
              "      <th>30</th>\n",
              "      <td>9.662808</td>\n",
              "      <td>11</td>\n",
              "      <td>2</td>\n",
              "      <td>NaN</td>\n",
              "      <td>1.0</td>\n",
              "      <td>2.0</td>\n",
              "      <td>3.0</td>\n",
              "      <td>26</td>\n",
              "      <td>Yes</td>\n",
              "      <td>Travel_Rarely</td>\n",
              "      <td>...</td>\n",
              "      <td>2.0</td>\n",
              "      <td>Y</td>\n",
              "      <td>11</td>\n",
              "      <td>8</td>\n",
              "      <td>0</td>\n",
              "      <td>5.0</td>\n",
              "      <td>5.0</td>\n",
              "      <td>3</td>\n",
              "      <td>0</td>\n",
              "      <td>2</td>\n",
              "    </tr>\n",
              "  </tbody>\n",
              "</table>\n",
              "<p>5 rows × 31 columns</p>\n",
              "</div>\n",
              "    <div class=\"colab-df-buttons\">\n",
              "\n",
              "  <div class=\"colab-df-container\">\n",
              "    <button class=\"colab-df-convert\" onclick=\"convertToInteractive('df-8a0e2e4d-3440-4533-9544-ef4a26e8a888')\"\n",
              "            title=\"Convert this dataframe to an interactive table.\"\n",
              "            style=\"display:none;\">\n",
              "\n",
              "  <svg xmlns=\"http://www.w3.org/2000/svg\" height=\"24px\" viewBox=\"0 -960 960 960\">\n",
              "    <path d=\"M120-120v-720h720v720H120Zm60-500h600v-160H180v160Zm220 220h160v-160H400v160Zm0 220h160v-160H400v160ZM180-400h160v-160H180v160Zm440 0h160v-160H620v160ZM180-180h160v-160H180v160Zm440 0h160v-160H620v160Z\"/>\n",
              "  </svg>\n",
              "    </button>\n",
              "\n",
              "  <style>\n",
              "    .colab-df-container {\n",
              "      display:flex;\n",
              "      gap: 12px;\n",
              "    }\n",
              "\n",
              "    .colab-df-convert {\n",
              "      background-color: #E8F0FE;\n",
              "      border: none;\n",
              "      border-radius: 50%;\n",
              "      cursor: pointer;\n",
              "      display: none;\n",
              "      fill: #1967D2;\n",
              "      height: 32px;\n",
              "      padding: 0 0 0 0;\n",
              "      width: 32px;\n",
              "    }\n",
              "\n",
              "    .colab-df-convert:hover {\n",
              "      background-color: #E2EBFA;\n",
              "      box-shadow: 0px 1px 2px rgba(60, 64, 67, 0.3), 0px 1px 3px 1px rgba(60, 64, 67, 0.15);\n",
              "      fill: #174EA6;\n",
              "    }\n",
              "\n",
              "    .colab-df-buttons div {\n",
              "      margin-bottom: 4px;\n",
              "    }\n",
              "\n",
              "    [theme=dark] .colab-df-convert {\n",
              "      background-color: #3B4455;\n",
              "      fill: #D2E3FC;\n",
              "    }\n",
              "\n",
              "    [theme=dark] .colab-df-convert:hover {\n",
              "      background-color: #434B5C;\n",
              "      box-shadow: 0px 1px 3px 1px rgba(0, 0, 0, 0.15);\n",
              "      filter: drop-shadow(0px 1px 2px rgba(0, 0, 0, 0.3));\n",
              "      fill: #FFFFFF;\n",
              "    }\n",
              "  </style>\n",
              "\n",
              "    <script>\n",
              "      const buttonEl =\n",
              "        document.querySelector('#df-8a0e2e4d-3440-4533-9544-ef4a26e8a888 button.colab-df-convert');\n",
              "      buttonEl.style.display =\n",
              "        google.colab.kernel.accessAllowed ? 'block' : 'none';\n",
              "\n",
              "      async function convertToInteractive(key) {\n",
              "        const element = document.querySelector('#df-8a0e2e4d-3440-4533-9544-ef4a26e8a888');\n",
              "        const dataTable =\n",
              "          await google.colab.kernel.invokeFunction('convertToInteractive',\n",
              "                                                    [key], {});\n",
              "        if (!dataTable) return;\n",
              "\n",
              "        const docLinkHtml = 'Like what you see? Visit the ' +\n",
              "          '<a target=\"_blank\" href=https://colab.research.google.com/notebooks/data_table.ipynb>data table notebook</a>'\n",
              "          + ' to learn more about interactive tables.';\n",
              "        element.innerHTML = '';\n",
              "        dataTable['output_type'] = 'display_data';\n",
              "        await google.colab.output.renderOutput(dataTable, element);\n",
              "        const docLink = document.createElement('div');\n",
              "        docLink.innerHTML = docLinkHtml;\n",
              "        element.appendChild(docLink);\n",
              "      }\n",
              "    </script>\n",
              "  </div>\n",
              "\n",
              "\n",
              "<div id=\"df-457ebd27-a370-4717-9676-96c7ee06a87a\">\n",
              "  <button class=\"colab-df-quickchart\" onclick=\"quickchart('df-457ebd27-a370-4717-9676-96c7ee06a87a')\"\n",
              "            title=\"Suggest charts\"\n",
              "            style=\"display:none;\">\n",
              "\n",
              "<svg xmlns=\"http://www.w3.org/2000/svg\" height=\"24px\"viewBox=\"0 0 24 24\"\n",
              "     width=\"24px\">\n",
              "    <g>\n",
              "        <path d=\"M19 3H5c-1.1 0-2 .9-2 2v14c0 1.1.9 2 2 2h14c1.1 0 2-.9 2-2V5c0-1.1-.9-2-2-2zM9 17H7v-7h2v7zm4 0h-2V7h2v10zm4 0h-2v-4h2v4z\"/>\n",
              "    </g>\n",
              "</svg>\n",
              "  </button>\n",
              "\n",
              "<style>\n",
              "  .colab-df-quickchart {\n",
              "      --bg-color: #E8F0FE;\n",
              "      --fill-color: #1967D2;\n",
              "      --hover-bg-color: #E2EBFA;\n",
              "      --hover-fill-color: #174EA6;\n",
              "      --disabled-fill-color: #AAA;\n",
              "      --disabled-bg-color: #DDD;\n",
              "  }\n",
              "\n",
              "  [theme=dark] .colab-df-quickchart {\n",
              "      --bg-color: #3B4455;\n",
              "      --fill-color: #D2E3FC;\n",
              "      --hover-bg-color: #434B5C;\n",
              "      --hover-fill-color: #FFFFFF;\n",
              "      --disabled-bg-color: #3B4455;\n",
              "      --disabled-fill-color: #666;\n",
              "  }\n",
              "\n",
              "  .colab-df-quickchart {\n",
              "    background-color: var(--bg-color);\n",
              "    border: none;\n",
              "    border-radius: 50%;\n",
              "    cursor: pointer;\n",
              "    display: none;\n",
              "    fill: var(--fill-color);\n",
              "    height: 32px;\n",
              "    padding: 0;\n",
              "    width: 32px;\n",
              "  }\n",
              "\n",
              "  .colab-df-quickchart:hover {\n",
              "    background-color: var(--hover-bg-color);\n",
              "    box-shadow: 0 1px 2px rgba(60, 64, 67, 0.3), 0 1px 3px 1px rgba(60, 64, 67, 0.15);\n",
              "    fill: var(--button-hover-fill-color);\n",
              "  }\n",
              "\n",
              "  .colab-df-quickchart-complete:disabled,\n",
              "  .colab-df-quickchart-complete:disabled:hover {\n",
              "    background-color: var(--disabled-bg-color);\n",
              "    fill: var(--disabled-fill-color);\n",
              "    box-shadow: none;\n",
              "  }\n",
              "\n",
              "  .colab-df-spinner {\n",
              "    border: 2px solid var(--fill-color);\n",
              "    border-color: transparent;\n",
              "    border-bottom-color: var(--fill-color);\n",
              "    animation:\n",
              "      spin 1s steps(1) infinite;\n",
              "  }\n",
              "\n",
              "  @keyframes spin {\n",
              "    0% {\n",
              "      border-color: transparent;\n",
              "      border-bottom-color: var(--fill-color);\n",
              "      border-left-color: var(--fill-color);\n",
              "    }\n",
              "    20% {\n",
              "      border-color: transparent;\n",
              "      border-left-color: var(--fill-color);\n",
              "      border-top-color: var(--fill-color);\n",
              "    }\n",
              "    30% {\n",
              "      border-color: transparent;\n",
              "      border-left-color: var(--fill-color);\n",
              "      border-top-color: var(--fill-color);\n",
              "      border-right-color: var(--fill-color);\n",
              "    }\n",
              "    40% {\n",
              "      border-color: transparent;\n",
              "      border-right-color: var(--fill-color);\n",
              "      border-top-color: var(--fill-color);\n",
              "    }\n",
              "    60% {\n",
              "      border-color: transparent;\n",
              "      border-right-color: var(--fill-color);\n",
              "    }\n",
              "    80% {\n",
              "      border-color: transparent;\n",
              "      border-right-color: var(--fill-color);\n",
              "      border-bottom-color: var(--fill-color);\n",
              "    }\n",
              "    90% {\n",
              "      border-color: transparent;\n",
              "      border-bottom-color: var(--fill-color);\n",
              "    }\n",
              "  }\n",
              "</style>\n",
              "\n",
              "  <script>\n",
              "    async function quickchart(key) {\n",
              "      const quickchartButtonEl =\n",
              "        document.querySelector('#' + key + ' button');\n",
              "      quickchartButtonEl.disabled = true;  // To prevent multiple clicks.\n",
              "      quickchartButtonEl.classList.add('colab-df-spinner');\n",
              "      try {\n",
              "        const charts = await google.colab.kernel.invokeFunction(\n",
              "            'suggestCharts', [key], {});\n",
              "      } catch (error) {\n",
              "        console.error('Error during call to suggestCharts:', error);\n",
              "      }\n",
              "      quickchartButtonEl.classList.remove('colab-df-spinner');\n",
              "      quickchartButtonEl.classList.add('colab-df-quickchart-complete');\n",
              "    }\n",
              "    (() => {\n",
              "      let quickchartButtonEl =\n",
              "        document.querySelector('#df-457ebd27-a370-4717-9676-96c7ee06a87a button');\n",
              "      quickchartButtonEl.style.display =\n",
              "        google.colab.kernel.accessAllowed ? 'block' : 'none';\n",
              "    })();\n",
              "  </script>\n",
              "</div>\n",
              "\n",
              "    </div>\n",
              "  </div>\n"
            ],
            "application/vnd.google.colaboratory.intrinsic+json": {
              "type": "dataframe",
              "variable_name": "employee_data_df"
            }
          },
          "metadata": {},
          "execution_count": 4
        }
      ],
      "source": [
        "employee_data_df.head()"
      ]
    },
    {
      "cell_type": "code",
      "execution_count": 5,
      "id": "534cf9ae-4d66-414f-bc28-56d0f29ccd9b",
      "metadata": {
        "id": "534cf9ae-4d66-414f-bc28-56d0f29ccd9b",
        "colab": {
          "base_uri": "https://localhost:8080/"
        },
        "outputId": "419c9d36-3aab-445e-aca6-e17e34c88b5e"
      },
      "outputs": [
        {
          "output_type": "stream",
          "name": "stdout",
          "text": [
            "<class 'pandas.core.frame.DataFrame'>\n",
            "Index: 1426 entries, 1 to 3865\n",
            "Data columns (total 31 columns):\n",
            " #   Column                   Non-Null Count  Dtype  \n",
            "---  ------                   --------------  -----  \n",
            " 0   hrs                      1426 non-null   float64\n",
            " 1   absences                 1426 non-null   int64  \n",
            " 2   JobInvolvement           1426 non-null   int64  \n",
            " 3   PerformanceRating        1292 non-null   float64\n",
            " 4   EnvironmentSatisfaction  1415 non-null   float64\n",
            " 5   JobSatisfaction          1422 non-null   float64\n",
            " 6   WorkLifeBalance          1413 non-null   float64\n",
            " 7   Age                      1426 non-null   int64  \n",
            " 8   Attrition                1426 non-null   object \n",
            " 9   BusinessTravel           1290 non-null   object \n",
            " 10  Department               1426 non-null   object \n",
            " 11  DistanceFromHome         1426 non-null   int64  \n",
            " 12  Education                1276 non-null   float64\n",
            " 13  EducationField           1426 non-null   object \n",
            " 14  EmployeeCount            1426 non-null   int64  \n",
            " 15  EmployeeID               1426 non-null   int64  \n",
            " 16  Gender                   1426 non-null   object \n",
            " 17  JobLevel                 1426 non-null   int64  \n",
            " 18  JobRole                  1426 non-null   object \n",
            " 19  MaritalStatus            1426 non-null   object \n",
            " 20  MonthlyIncome            1426 non-null   int64  \n",
            " 21  NumCompaniesWorked       1419 non-null   float64\n",
            " 22  Over18                   1426 non-null   object \n",
            " 23  PercentSalaryHike        1426 non-null   int64  \n",
            " 24  StandardHours            1426 non-null   int64  \n",
            " 25  StockOptionLevel         1426 non-null   int64  \n",
            " 26  TotalWorkingYears        1424 non-null   float64\n",
            " 27  TrainingTimesLastYear    1292 non-null   float64\n",
            " 28  YearsAtCompany           1426 non-null   int64  \n",
            " 29  YearsSinceLastPromotion  1426 non-null   int64  \n",
            " 30  YearsWithCurrManager     1426 non-null   int64  \n",
            "dtypes: float64(9), int64(14), object(8)\n",
            "memory usage: 356.5+ KB\n"
          ]
        }
      ],
      "source": [
        "employee_data_df.info()"
      ]
    },
    {
      "cell_type": "code",
      "execution_count": 6,
      "id": "9eec7dc3-7943-4d90-bba3-470539318e38",
      "metadata": {
        "id": "9eec7dc3-7943-4d90-bba3-470539318e38",
        "colab": {
          "base_uri": "https://localhost:8080/"
        },
        "outputId": "66ac1ce9-3cb1-4812-f75e-191e71ec0ed5"
      },
      "outputs": [
        {
          "output_type": "stream",
          "name": "stdout",
          "text": [
            "Shape of X (features): (1426, 30)\n",
            "Shape of y (target): (1426,)\n",
            "Feature names: ['hrs', 'absences', 'JobInvolvement', 'PerformanceRating', 'EnvironmentSatisfaction', 'JobSatisfaction', 'WorkLifeBalance', 'Age', 'BusinessTravel', 'Department', 'DistanceFromHome', 'Education', 'EducationField', 'EmployeeCount', 'EmployeeID', 'Gender', 'JobLevel', 'JobRole', 'MaritalStatus', 'MonthlyIncome', 'NumCompaniesWorked', 'Over18', 'PercentSalaryHike', 'StandardHours', 'StockOptionLevel', 'TotalWorkingYears', 'TrainingTimesLastYear', 'YearsAtCompany', 'YearsSinceLastPromotion', 'YearsWithCurrManager']\n",
            "Target options: ['Yes' 'No']\n"
          ]
        }
      ],
      "source": [
        "y = employee_data_df['Attrition']\n",
        "X = employee_data_df.drop('Attrition', axis=1)\n",
        "\n",
        "# Display the shape of features and target\n",
        "print(\"Shape of X (features):\", X.shape)\n",
        "print(\"Shape of y (target):\", y.shape)\n",
        "\n",
        "# Feature names and target options\n",
        "feature_names = X.columns.tolist()\n",
        "target_names = y.unique()\n",
        "print(\"Feature names:\", feature_names)\n",
        "print(\"Target options:\", target_names)"
      ]
    },
    {
      "cell_type": "markdown",
      "id": "d850e5a3-714e-460a-9f4f-0f0e15139cd2",
      "metadata": {
        "id": "d850e5a3-714e-460a-9f4f-0f0e15139cd2"
      },
      "source": [
        "---\n",
        "Considering the features, we can check which variables are **numerical** or **categorical**."
      ]
    },
    {
      "cell_type": "code",
      "execution_count": 7,
      "id": "9936efd2-aa2f-4549-ac4b-eaf9576c0c33",
      "metadata": {
        "id": "9936efd2-aa2f-4549-ac4b-eaf9576c0c33",
        "colab": {
          "base_uri": "https://localhost:8080/"
        },
        "outputId": "31d34e3d-e790-48cb-ecbe-2418b0aa3902"
      },
      "outputs": [
        {
          "output_type": "stream",
          "name": "stdout",
          "text": [
            "Numerical columns: ['hrs', 'absences', 'JobInvolvement', 'PerformanceRating', 'EnvironmentSatisfaction', 'JobSatisfaction', 'WorkLifeBalance', 'Age', 'DistanceFromHome', 'Education', 'EmployeeCount', 'EmployeeID', 'JobLevel', 'MonthlyIncome', 'NumCompaniesWorked', 'PercentSalaryHike', 'StandardHours', 'StockOptionLevel', 'TotalWorkingYears', 'TrainingTimesLastYear', 'YearsAtCompany', 'YearsSinceLastPromotion', 'YearsWithCurrManager']\n"
          ]
        }
      ],
      "source": [
        "numerical_cols = X.select_dtypes(include=['number']).columns.tolist()\n",
        "print(\"Numerical columns:\", numerical_cols)"
      ]
    },
    {
      "cell_type": "code",
      "execution_count": 8,
      "id": "294e73c7-5f93-49b6-98cb-271167f87d19",
      "metadata": {
        "id": "294e73c7-5f93-49b6-98cb-271167f87d19",
        "colab": {
          "base_uri": "https://localhost:8080/"
        },
        "outputId": "3d8e7c18-d5d4-4024-eae2-7816fe2d37d7"
      },
      "outputs": [
        {
          "output_type": "stream",
          "name": "stdout",
          "text": [
            "Categorical columns: ['BusinessTravel', 'Department', 'EducationField', 'Gender', 'JobRole', 'MaritalStatus', 'Over18']\n"
          ]
        }
      ],
      "source": [
        "categorical_cols = X.select_dtypes(include=['object', 'category', 'bool']).columns.tolist()\n",
        "print(\"Categorical columns:\", categorical_cols)\n"
      ]
    },
    {
      "cell_type": "markdown",
      "id": "3b0489df-28be-4796-b54d-6f89f346392e",
      "metadata": {
        "id": "3b0489df-28be-4796-b54d-6f89f346392e"
      },
      "source": [
        "We will find which have **high cardinality**, or the number of elements in a group, among the categorical columns."
      ]
    },
    {
      "cell_type": "code",
      "execution_count": 9,
      "id": "0bba72ea-26d3-40ba-ae70-8b1c5a040d12",
      "metadata": {
        "id": "0bba72ea-26d3-40ba-ae70-8b1c5a040d12",
        "colab": {
          "base_uri": "https://localhost:8080/",
          "height": 321
        },
        "outputId": "8441e07f-e757-4365-9937-b2307aa7eac1"
      },
      "outputs": [
        {
          "output_type": "stream",
          "name": "stdout",
          "text": [
            "The cardinality of each categorical column:\n"
          ]
        },
        {
          "output_type": "execute_result",
          "data": {
            "text/plain": [
              "BusinessTravel    3\n",
              "Department        3\n",
              "EducationField    6\n",
              "Gender            2\n",
              "JobRole           9\n",
              "MaritalStatus     3\n",
              "Over18            1\n",
              "dtype: int64"
            ],
            "text/html": [
              "<div>\n",
              "<style scoped>\n",
              "    .dataframe tbody tr th:only-of-type {\n",
              "        vertical-align: middle;\n",
              "    }\n",
              "\n",
              "    .dataframe tbody tr th {\n",
              "        vertical-align: top;\n",
              "    }\n",
              "\n",
              "    .dataframe thead th {\n",
              "        text-align: right;\n",
              "    }\n",
              "</style>\n",
              "<table border=\"1\" class=\"dataframe\">\n",
              "  <thead>\n",
              "    <tr style=\"text-align: right;\">\n",
              "      <th></th>\n",
              "      <th>0</th>\n",
              "    </tr>\n",
              "  </thead>\n",
              "  <tbody>\n",
              "    <tr>\n",
              "      <th>BusinessTravel</th>\n",
              "      <td>3</td>\n",
              "    </tr>\n",
              "    <tr>\n",
              "      <th>Department</th>\n",
              "      <td>3</td>\n",
              "    </tr>\n",
              "    <tr>\n",
              "      <th>EducationField</th>\n",
              "      <td>6</td>\n",
              "    </tr>\n",
              "    <tr>\n",
              "      <th>Gender</th>\n",
              "      <td>2</td>\n",
              "    </tr>\n",
              "    <tr>\n",
              "      <th>JobRole</th>\n",
              "      <td>9</td>\n",
              "    </tr>\n",
              "    <tr>\n",
              "      <th>MaritalStatus</th>\n",
              "      <td>3</td>\n",
              "    </tr>\n",
              "    <tr>\n",
              "      <th>Over18</th>\n",
              "      <td>1</td>\n",
              "    </tr>\n",
              "  </tbody>\n",
              "</table>\n",
              "</div><br><label><b>dtype:</b> int64</label>"
            ]
          },
          "metadata": {},
          "execution_count": 9
        }
      ],
      "source": [
        "categorical_cardinalities = X[categorical_cols].nunique()\n",
        "print(\"The cardinality of each categorical column:\")\n",
        "categorical_cardinalities"
      ]
    },
    {
      "cell_type": "code",
      "execution_count": 10,
      "id": "71d85f5f-943d-48d6-b1fb-029d2c3826ac",
      "metadata": {
        "id": "71d85f5f-943d-48d6-b1fb-029d2c3826ac",
        "colab": {
          "base_uri": "https://localhost:8080/",
          "height": 164
        },
        "outputId": "af1034b7-4dc4-44df-fbee-306c4e75f4e8"
      },
      "outputs": [
        {
          "output_type": "stream",
          "name": "stdout",
          "text": [
            "The two columns with the highest cardinality are:\n"
          ]
        },
        {
          "output_type": "execute_result",
          "data": {
            "text/plain": [
              "JobRole           9\n",
              "EducationField    6\n",
              "dtype: int64"
            ],
            "text/html": [
              "<div>\n",
              "<style scoped>\n",
              "    .dataframe tbody tr th:only-of-type {\n",
              "        vertical-align: middle;\n",
              "    }\n",
              "\n",
              "    .dataframe tbody tr th {\n",
              "        vertical-align: top;\n",
              "    }\n",
              "\n",
              "    .dataframe thead th {\n",
              "        text-align: right;\n",
              "    }\n",
              "</style>\n",
              "<table border=\"1\" class=\"dataframe\">\n",
              "  <thead>\n",
              "    <tr style=\"text-align: right;\">\n",
              "      <th></th>\n",
              "      <th>0</th>\n",
              "    </tr>\n",
              "  </thead>\n",
              "  <tbody>\n",
              "    <tr>\n",
              "      <th>JobRole</th>\n",
              "      <td>9</td>\n",
              "    </tr>\n",
              "    <tr>\n",
              "      <th>EducationField</th>\n",
              "      <td>6</td>\n",
              "    </tr>\n",
              "  </tbody>\n",
              "</table>\n",
              "</div><br><label><b>dtype:</b> int64</label>"
            ]
          },
          "metadata": {},
          "execution_count": 10
        }
      ],
      "source": [
        "print(\"The two columns with the highest cardinality are:\")\n",
        "categorical_cardinalities.nlargest(2)"
      ]
    },
    {
      "cell_type": "markdown",
      "id": "3a1f4a5f-b79e-47c2-bf7c-b213ae175b82",
      "metadata": {
        "id": "3a1f4a5f-b79e-47c2-bf7c-b213ae175b82"
      },
      "source": [
        "Additionally, we should encode these columns as integer representations as most machine learning models require numerical inputs. We will also create a backup to preserve the original values, if needed later."
      ]
    },
    {
      "cell_type": "code",
      "execution_count": 11,
      "id": "aee283ed-bbf7-4a3b-89a5-710e316a80f7",
      "metadata": {
        "id": "aee283ed-bbf7-4a3b-89a5-710e316a80f7"
      },
      "outputs": [],
      "source": [
        "from sklearn.preprocessing import LabelEncoder\n",
        "\n",
        "categorical_cols_copy = X[categorical_cols].copy()\n",
        "\n",
        "le = LabelEncoder()\n",
        "\n",
        "for col in categorical_cols:\n",
        "    X[col] = le.fit_transform(X[col])"
      ]
    },
    {
      "cell_type": "markdown",
      "id": "b910b0d4-d65a-491c-a37c-90d54542fa4a",
      "metadata": {
        "id": "b910b0d4-d65a-491c-a37c-90d54542fa4a"
      },
      "source": [
        "---\n",
        "Next, we will review the presence and occurence of values in the feature variables."
      ]
    },
    {
      "cell_type": "code",
      "execution_count": 12,
      "id": "3e88ec06-705d-49d5-bdfa-7851e4e57e40",
      "metadata": {
        "id": "3e88ec06-705d-49d5-bdfa-7851e4e57e40",
        "colab": {
          "base_uri": "https://localhost:8080/"
        },
        "outputId": "0bdf4174-0949-40e6-a949-40d0a2e7d00c"
      },
      "outputs": [
        {
          "output_type": "stream",
          "name": "stdout",
          "text": [
            "Columns with a constant value: ['EmployeeCount', 'Over18', 'StandardHours']\n"
          ]
        }
      ],
      "source": [
        "sg_val_cols = employee_data_df.columns[employee_data_df.nunique() == 1].tolist()\n",
        "print(\"Columns with a constant value:\", sg_val_cols)"
      ]
    },
    {
      "cell_type": "markdown",
      "id": "eKozkj94crVB",
      "metadata": {
        "id": "eKozkj94crVB"
      },
      "source": [
        "Since these columns are constant, we can remove them from the feature sets to save computational power. We also remove EmployeeID, since this is just an arbitrary number and doens't provide value to the predictions"
      ]
    },
    {
      "cell_type": "code",
      "execution_count": 13,
      "id": "hYNiHPxscWfZ",
      "metadata": {
        "id": "hYNiHPxscWfZ"
      },
      "outputs": [],
      "source": [
        "sg_val_cols.append('EmployeeID')\n",
        "X.drop(sg_val_cols, axis=1, inplace=True)\n",
        "\n",
        "feature_names = X.columns.tolist()"
      ]
    },
    {
      "cell_type": "code",
      "execution_count": 14,
      "id": "82dc966e-69b1-45d4-bc3c-42d1a30d5172",
      "metadata": {
        "id": "82dc966e-69b1-45d4-bc3c-42d1a30d5172",
        "colab": {
          "base_uri": "https://localhost:8080/"
        },
        "outputId": "d65b7457-05c2-470a-8da8-ebdc3a2734c8"
      },
      "outputs": [
        {
          "output_type": "stream",
          "name": "stdout",
          "text": [
            "The following features contain missing values (NaN):\n",
            "PerformanceRating: 9.396914446002805%\n",
            "EnvironmentSatisfaction: 0.7713884992987377%\n",
            "JobSatisfaction: 0.2805049088359046%\n",
            "WorkLifeBalance: 0.9116409537166901%\n",
            "Education: 10.518934081346423%\n",
            "NumCompaniesWorked: 0.4908835904628331%\n",
            "TotalWorkingYears: 0.1402524544179523%\n",
            "TrainingTimesLastYear: 9.396914446002805%\n"
          ]
        }
      ],
      "source": [
        "print(\"The following features contain missing values (NaN):\")\n",
        "for i, val in X.isnull().mean().items():\n",
        "    if not val == 0:\n",
        "        print(f'{i}: {val*100}%')"
      ]
    },
    {
      "cell_type": "markdown",
      "id": "a57e650a-5797-4eb4-ac93-2a1a872e94ef",
      "metadata": {
        "id": "a57e650a-5797-4eb4-ac93-2a1a872e94ef"
      },
      "source": [
        "We will use an IterativeImputer to fill missing values making predictions based on the other columns."
      ]
    },
    {
      "cell_type": "code",
      "execution_count": 15,
      "id": "56e6e814-f6ed-453b-9637-c05c70f60143",
      "metadata": {
        "id": "56e6e814-f6ed-453b-9637-c05c70f60143"
      },
      "outputs": [],
      "source": [
        "from sklearn.experimental import enable_iterative_imputer\n",
        "from sklearn.impute import IterativeImputer\n",
        "\n",
        "ii = IterativeImputer()\n",
        "X = pd.DataFrame(ii.fit_transform(X))"
      ]
    },
    {
      "cell_type": "markdown",
      "id": "a0b9936c-8eac-49a0-b451-2c6afd4accff",
      "metadata": {
        "id": "a0b9936c-8eac-49a0-b451-2c6afd4accff"
      },
      "source": [
        "Finally, since the target values belong either to 'No' or 'Yes', this indicates a **2-class classification problem**."
      ]
    },
    {
      "cell_type": "code",
      "execution_count": 16,
      "id": "de35c88d-23da-42d6-9d4e-1b79b634300e",
      "metadata": {
        "id": "de35c88d-23da-42d6-9d4e-1b79b634300e",
        "colab": {
          "base_uri": "https://localhost:8080/",
          "height": 178
        },
        "outputId": "3a44ab55-c79e-4a6a-c070-5e717f94d9ec"
      },
      "outputs": [
        {
          "output_type": "execute_result",
          "data": {
            "text/plain": [
              "Attrition\n",
              "No     715\n",
              "Yes    711\n",
              "Name: count, dtype: int64"
            ],
            "text/html": [
              "<div>\n",
              "<style scoped>\n",
              "    .dataframe tbody tr th:only-of-type {\n",
              "        vertical-align: middle;\n",
              "    }\n",
              "\n",
              "    .dataframe tbody tr th {\n",
              "        vertical-align: top;\n",
              "    }\n",
              "\n",
              "    .dataframe thead th {\n",
              "        text-align: right;\n",
              "    }\n",
              "</style>\n",
              "<table border=\"1\" class=\"dataframe\">\n",
              "  <thead>\n",
              "    <tr style=\"text-align: right;\">\n",
              "      <th></th>\n",
              "      <th>count</th>\n",
              "    </tr>\n",
              "    <tr>\n",
              "      <th>Attrition</th>\n",
              "      <th></th>\n",
              "    </tr>\n",
              "  </thead>\n",
              "  <tbody>\n",
              "    <tr>\n",
              "      <th>No</th>\n",
              "      <td>715</td>\n",
              "    </tr>\n",
              "    <tr>\n",
              "      <th>Yes</th>\n",
              "      <td>711</td>\n",
              "    </tr>\n",
              "  </tbody>\n",
              "</table>\n",
              "</div><br><label><b>dtype:</b> int64</label>"
            ]
          },
          "metadata": {},
          "execution_count": 16
        }
      ],
      "source": [
        "y.value_counts()"
      ]
    },
    {
      "cell_type": "code",
      "execution_count": 17,
      "id": "32384171-7b81-4d4a-93ab-1e4776c60265",
      "metadata": {
        "id": "32384171-7b81-4d4a-93ab-1e4776c60265",
        "colab": {
          "base_uri": "https://localhost:8080/",
          "height": 178
        },
        "outputId": "6d8ac120-fcf9-4cb4-bdf8-6f864be376f0"
      },
      "outputs": [
        {
          "output_type": "execute_result",
          "data": {
            "text/plain": [
              "Attrition\n",
              "No     0.501403\n",
              "Yes    0.498597\n",
              "Name: count, dtype: float64"
            ],
            "text/html": [
              "<div>\n",
              "<style scoped>\n",
              "    .dataframe tbody tr th:only-of-type {\n",
              "        vertical-align: middle;\n",
              "    }\n",
              "\n",
              "    .dataframe tbody tr th {\n",
              "        vertical-align: top;\n",
              "    }\n",
              "\n",
              "    .dataframe thead th {\n",
              "        text-align: right;\n",
              "    }\n",
              "</style>\n",
              "<table border=\"1\" class=\"dataframe\">\n",
              "  <thead>\n",
              "    <tr style=\"text-align: right;\">\n",
              "      <th></th>\n",
              "      <th>count</th>\n",
              "    </tr>\n",
              "    <tr>\n",
              "      <th>Attrition</th>\n",
              "      <th></th>\n",
              "    </tr>\n",
              "  </thead>\n",
              "  <tbody>\n",
              "    <tr>\n",
              "      <th>No</th>\n",
              "      <td>0.501403</td>\n",
              "    </tr>\n",
              "    <tr>\n",
              "      <th>Yes</th>\n",
              "      <td>0.498597</td>\n",
              "    </tr>\n",
              "  </tbody>\n",
              "</table>\n",
              "</div><br><label><b>dtype:</b> float64</label>"
            ]
          },
          "metadata": {},
          "execution_count": 17
        }
      ],
      "source": [
        "y.value_counts() / y.count()"
      ]
    },
    {
      "cell_type": "markdown",
      "id": "dbd7053d-3316-4b0c-b81d-f9c8b9578003",
      "metadata": {
        "id": "dbd7053d-3316-4b0c-b81d-f9c8b9578003"
      },
      "source": [
        "The occurences of each value are nearly 50/50, so we have a balanced dataset."
      ]
    },
    {
      "cell_type": "markdown",
      "id": "d84e25ae-fa26-4bac-a94a-eec8de615cad",
      "metadata": {
        "id": "d84e25ae-fa26-4bac-a94a-eec8de615cad"
      },
      "source": [
        "## 2. Basic Methods: KNN and Trees"
      ]
    },
    {
      "cell_type": "markdown",
      "id": "ecTMrzaYWb3V",
      "metadata": {
        "id": "ecTMrzaYWb3V"
      },
      "source": [
        "To start, we will train a simple KNN and Decision Tree model with default hyperparameters using 70% of the data for training and 30% for testing. These percentages were obtained following a rule of thumb to partition the data."
      ]
    },
    {
      "cell_type": "markdown",
      "id": "zNTwk6YNk-Lj",
      "metadata": {
        "id": "zNTwk6YNk-Lj"
      },
      "source": [
        "While it is possible to train a model using Linear Regression, we decided that using methods specifically designed for classification would be more effective and interpretable."
      ]
    },
    {
      "cell_type": "markdown",
      "source": [
        "Furthermore, to keep track of the progression of accuracy scores, we will store trials in a dataframe as we progress."
      ],
      "metadata": {
        "id": "F-Jnq1DW-Jva"
      },
      "id": "F-Jnq1DW-Jva"
    },
    {
      "cell_type": "code",
      "source": [
        "scores = pd.DataFrame(columns=[\"Accuracy\",'Confidence I.', \"Method\", \"Runtime\"])"
      ],
      "metadata": {
        "id": "8gAzcnhE-FAO"
      },
      "id": "8gAzcnhE-FAO",
      "execution_count": 18,
      "outputs": []
    },
    {
      "cell_type": "markdown",
      "id": "wLnLKoc2kpKo",
      "metadata": {
        "id": "wLnLKoc2kpKo"
      },
      "source": [
        "### Simple Models"
      ]
    },
    {
      "cell_type": "code",
      "execution_count": 19,
      "id": "80fbb54a-6b80-4e4a-84cd-a832e4fe6bc7",
      "metadata": {
        "id": "80fbb54a-6b80-4e4a-84cd-a832e4fe6bc7",
        "colab": {
          "base_uri": "https://localhost:8080/"
        },
        "outputId": "1633d547-d8ae-492b-97bb-bfb5fd424af2"
      },
      "outputs": [
        {
          "output_type": "stream",
          "name": "stdout",
          "text": [
            "Accuracy of the KNN model: 66.1215%\n",
            "(0.6151183254381379, 0.7044433960715594)\n",
            "Execution time: 0.01s\n"
          ]
        }
      ],
      "source": [
        "import time\n",
        "from sklearn.model_selection import train_test_split\n",
        "from sklearn.preprocessing import MinMaxScaler\n",
        "from sklearn.neighbors import KNeighborsClassifier\n",
        "from sklearn.pipeline import Pipeline\n",
        "from sklearn import metrics\n",
        "from statsmodels.stats.proportion import proportion_confint\n",
        "\n",
        "\n",
        "X_train, X_test, y_train, y_test = train_test_split(X, y, test_size=0.30, random_state=NIU)\n",
        "\n",
        "knn_pipe = Pipeline([\n",
        "    ('scaler', MinMaxScaler()),\n",
        "    ('knn', KNeighborsClassifier())]\n",
        ")\n",
        "\n",
        "start = time.time()\n",
        "knn_pipe.fit(X_train, y_train)\n",
        "end = time.time()\n",
        "\n",
        "y_pred = knn_pipe.predict(X_test)\n",
        "\n",
        "accuracy_knn = metrics.accuracy_score(y_test, y_pred)\n",
        "conf_int = proportion_confint(len(y_test) * accuracy_knn, len(y_test), method=\"wilson\")\n",
        "execution_time = end-start\n",
        "print(f\"Accuracy of the KNN model: {round(accuracy_knn*100,4)}%\")\n",
        "print(conf_int)\n",
        "print(f\"Execution time: {end-start:.2f}s\")\n",
        "scores.loc[len(scores)] = [accuracy_knn, conf_int, \"Simple KNN\", execution_time]"
      ]
    },
    {
      "cell_type": "code",
      "execution_count": 20,
      "id": "dE-v2LSJj90n",
      "metadata": {
        "id": "dE-v2LSJj90n",
        "colab": {
          "base_uri": "https://localhost:8080/"
        },
        "outputId": "948be64d-7122-46ff-cf01-99e822df387a"
      },
      "outputs": [
        {
          "output_type": "stream",
          "name": "stdout",
          "text": [
            "Accuracy of the DecisionTree model: 86.215%\n",
            "(0.826254000125583, 0.8916020409469251)\n",
            "Execution time: 0.01s\n"
          ]
        }
      ],
      "source": [
        "from sklearn.tree import DecisionTreeClassifier\n",
        "\n",
        "tree_clf = DecisionTreeClassifier()\n",
        "\n",
        "# We do not need pipelines since scaling doesn't matter for trees\n",
        "start = time.time()\n",
        "tree_clf.fit(X_train, y_train)\n",
        "end = time.time()\n",
        "\n",
        "y_pred = tree_clf.predict(X_test)\n",
        "\n",
        "accuracy_trees = metrics.accuracy_score(y_test, y_pred)\n",
        "conf_int = proportion_confint(len(y_test) * accuracy_trees, len(y_test), method=\"wilson\")\n",
        "execution_time = end-start\n",
        "print(f\"Accuracy of the DecisionTree model: {round(accuracy_trees*100,4)}%\")\n",
        "print(conf_int)\n",
        "print(f\"Execution time: {end-start:.2f}s\")\n",
        "scores.loc[len(scores)] = [accuracy_trees, conf_int, \"Simple Tree\", execution_time]"
      ]
    },
    {
      "cell_type": "markdown",
      "id": "L1-1m4wkYb1Y",
      "metadata": {
        "id": "L1-1m4wkYb1Y"
      },
      "source": [
        "Based on the mediocre accuracy of our model, particularly for KNN, we see that it could be improved. Our thought is to loop over different test sizes and re-train our model to identify which is the best."
      ]
    },
    {
      "cell_type": "markdown",
      "id": "OOgwn_kivbCT",
      "metadata": {
        "id": "OOgwn_kivbCT"
      },
      "source": [
        "### Determining the Ideal Train/Test Split"
      ]
    },
    {
      "cell_type": "markdown",
      "id": "CCaPrZb2D-Mb",
      "metadata": {
        "id": "CCaPrZb2D-Mb"
      },
      "source": [
        "As a takeaway, we notice that the DecisionTree has a higher accuracy than the KNN method, and we wonder if the accuracy can be improved with a more sophisticated train/test split. We try a loop of different distributions to find this ideal split. Additionally, we report confidence interval to help inform our determination."
      ]
    },
    {
      "cell_type": "code",
      "execution_count": 21,
      "id": "h-zP7hSYCMeG",
      "metadata": {
        "id": "h-zP7hSYCMeG",
        "colab": {
          "base_uri": "https://localhost:8080/"
        },
        "outputId": "e88c9208-ade0-4b3b-cd57-007325379284"
      },
      "outputs": [
        {
          "output_type": "stream",
          "name": "stdout",
          "text": [
            "Accuracy of the model at test size 0.05: 90.2778%\n",
            "(0.8126495420487314, 0.9521036800263443)\n",
            "Accuracy of the model at test size 0.1: 84.6154%\n",
            "(0.7780429965432463, 0.8961535198567125)\n",
            "Accuracy of the model at test size 0.15: 85.514%\n",
            "(0.8017218321405751, 0.896033318889292)\n",
            "Accuracy of the model at test size 0.2: 88.1119%\n",
            "(0.8384669449153125, 0.9136683806761251)\n",
            "Accuracy of the model at test size 0.25: 85.9944%\n",
            "(0.8200999715380206, 0.8921241748777771)\n",
            "Accuracy of the model at test size 0.3: 87.3832%\n",
            "(0.839013662489835, 0.901999025068883)\n",
            "Accuracy of the model at test size 0.35: 81.8%\n",
            "(0.7817973646706083, 0.8493535547958443)\n",
            "Accuracy of the model at test size 0.4: 79.6848%\n",
            "(0.7619134785376289, 0.8278143408431609)\n"
          ]
        }
      ],
      "source": [
        "for size in np.round(np.arange(0.05, 0.45, 0.05), 2):\n",
        "  X_train, X_test, y_train, y_test = train_test_split(X, y, test_size=size, random_state=NIU)\n",
        "\n",
        "  clf = DecisionTreeClassifier()\n",
        "\n",
        "  clf.fit(X_train, y_train)\n",
        "\n",
        "  y_pred = clf.predict(X_test)\n",
        "\n",
        "  accuracy_trees = metrics.accuracy_score(y_test, y_pred)\n",
        "  print(f\"Accuracy of the model at test size {size}: {round(accuracy_trees*100,4)}%\")\n",
        "  print(proportion_confint(len(y_test) * accuracy_trees, len(y_test), method=\"wilson\"))"
      ]
    },
    {
      "cell_type": "markdown",
      "id": "nR5O5vIaBXM7",
      "metadata": {
        "id": "nR5O5vIaBXM7"
      },
      "source": [
        "From this, we choose to adjust our test split to 0.25 because:\n",
        "- Although lower test sizes provide a higher accuracy, the confidence intervals are very wide, as a result of **overfitting**. These test sets are too small to be representative of the larger data population, so the models capture noise and random fluctuations in training.\n",
        "- At 0.25, the accuracy stabilizes and the confidence interval becomes reasonably narrow.\n",
        "- Accuracy starts to diminish rapidly after this point, as more complex models need a larger training set to learn meaningful patterns."
      ]
    },
    {
      "cell_type": "markdown",
      "id": "OEQzqa-_J6XV",
      "metadata": {
        "id": "OEQzqa-_J6XV"
      },
      "source": [
        "So, we retrain our models using the 0.25 train/test split and observe a slight increase in accuracy for each."
      ]
    },
    {
      "cell_type": "code",
      "execution_count": 22,
      "id": "2b48fd35-3cae-4bf2-a791-1553dfc65fd4",
      "metadata": {
        "id": "2b48fd35-3cae-4bf2-a791-1553dfc65fd4"
      },
      "outputs": [],
      "source": [
        "TEST_SIZE = 0.25\n",
        "\n",
        "X_train, X_test, y_train, y_test = train_test_split(X, y, test_size=TEST_SIZE, random_state=NIU)"
      ]
    },
    {
      "cell_type": "code",
      "execution_count": 23,
      "id": "edUe4ueEN8fr",
      "metadata": {
        "id": "edUe4ueEN8fr",
        "colab": {
          "base_uri": "https://localhost:8080/"
        },
        "outputId": "1a8a600a-260b-4e0e-ad45-34e018830b44"
      },
      "outputs": [
        {
          "output_type": "stream",
          "name": "stdout",
          "text": [
            "Accuracy of the new KNN model: 66.3866%\n",
            "Execution time: 0.01s\n"
          ]
        }
      ],
      "source": [
        "knn_pipe = Pipeline([\n",
        "    ('scaler', MinMaxScaler()),\n",
        "    ('knn', KNeighborsClassifier())]\n",
        ")\n",
        "\n",
        "start = time.time()\n",
        "knn_pipe.fit(X_train, y_train)\n",
        "end = time.time()\n",
        "\n",
        "knn_y_pred = knn_pipe.predict(X_test)\n",
        "\n",
        "accuracy_knn = metrics.accuracy_score(y_test, knn_y_pred)\n",
        "conf_int = proportion_confint(len(y_test) * accuracy_knn, len(y_test), method=\"wilson\")\n",
        "execution_time = end-start\n",
        "print(f\"Accuracy of the new KNN model: {round(accuracy_knn*100,4)}%\")\n",
        "print(f\"Execution time: {end-start:.2f}s\")\n",
        "scores.loc[len(scores)] = [accuracy_knn, conf_int, \"Improved KNN\", execution_time]"
      ]
    },
    {
      "cell_type": "code",
      "execution_count": 24,
      "id": "HcAcU1O0J_q6",
      "metadata": {
        "id": "HcAcU1O0J_q6",
        "colab": {
          "base_uri": "https://localhost:8080/"
        },
        "outputId": "134fd600-b1ba-451e-86f3-44a31758cdaf"
      },
      "outputs": [
        {
          "output_type": "stream",
          "name": "stdout",
          "text": [
            "Accuracy of the new DecisionTree model: 86.5546%\n",
            "Execution time: 0.01s\n"
          ]
        }
      ],
      "source": [
        "tree_clf = DecisionTreeClassifier()\n",
        "\n",
        "start = time.time()\n",
        "tree_clf.fit(X_train, y_train)\n",
        "end = time.time()\n",
        "\n",
        "tree_y_pred = tree_clf.predict(X_test)\n",
        "\n",
        "accuracy_trees = metrics.accuracy_score(y_test, tree_y_pred)\n",
        "conf_int = proportion_confint(len(y_test) * accuracy_trees, len(y_test), method=\"wilson\")\n",
        "execution_time = end-start\n",
        "print(f\"Accuracy of the new DecisionTree model: {round(accuracy_trees*100,4)}%\")\n",
        "print(f\"Execution time: {end-start:.2f}s\")\n",
        "scores.loc[len(scores)] = [accuracy_trees, conf_int,\"Improved Tree\", execution_time]"
      ]
    },
    {
      "cell_type": "markdown",
      "id": "2RcegO0HD-DT",
      "metadata": {
        "id": "2RcegO0HD-DT"
      },
      "source": [
        "### Dummy Method"
      ]
    },
    {
      "cell_type": "markdown",
      "id": "47JvZjdFFiPB",
      "metadata": {
        "id": "47JvZjdFFiPB"
      },
      "source": [
        "We will compare these basic models with a dummy classifier to see if they are actually recognizing patterns in the dataset. The method we will compare them against is **stratified**, which makes random predictions respecting the class distributions of the training set."
      ]
    },
    {
      "cell_type": "code",
      "execution_count": 25,
      "id": "jcXUa1ziD_kG",
      "metadata": {
        "id": "jcXUa1ziD_kG",
        "colab": {
          "base_uri": "https://localhost:8080/"
        },
        "outputId": "45903c82-b777-491e-a96f-2ab0d37e0f3a"
      },
      "outputs": [
        {
          "output_type": "stream",
          "name": "stdout",
          "text": [
            "Accuracy of the most frequent dummy method is 50.4202%\n",
            "Does our KNN model outperform the dummy classifier? True\n",
            "Does our DecisionTree model outperform the dummy classifier? True\n",
            "Execution time: 0.00s\n"
          ]
        }
      ],
      "source": [
        "from sklearn.dummy import DummyClassifier\n",
        "\n",
        "clf = DummyClassifier(strategy='stratified', random_state=42)\n",
        "\n",
        "start = time.time()\n",
        "clf.fit(X_train, y_train)\n",
        "end = time.time()\n",
        "\n",
        "accuracy_dummy = metrics.accuracy_score(y_test, clf.predict(X_test))\n",
        "conf_int = proportion_confint(len(y_test) * accuracy_dummy, len(y_test), method=\"wilson\")\n",
        "execution_time = end-start\n",
        "print(f\"Accuracy of the most frequent dummy method is {round(accuracy_dummy*100,4)}%\")\n",
        "print(f\"Does our KNN model outperform the dummy classifier? {accuracy_knn > accuracy_dummy}\")\n",
        "print(f\"Does our DecisionTree model outperform the dummy classifier? {accuracy_trees > accuracy_dummy}\")\n",
        "print(f\"Execution time: {end-start:.2f}s\")\n",
        "scores.loc[len(scores)] = [accuracy_dummy, conf_int, \"Dummy\", execution_time]"
      ]
    },
    {
      "cell_type": "markdown",
      "id": "5s1Hf-znG47B",
      "metadata": {
        "id": "5s1Hf-znG47B"
      },
      "source": [
        "The KNN and DecisionTree models achieved an accuracy around 66% and 87% respectively, outperforming the dummy classifier which had an accuracy of about 50%. While the dummy method was near equivalent to flipping a coin, our KNN and DecisionTree models leveraged relationships among the features to make informed predictions. A comparison of accuracy validates this significance."
      ]
    },
    {
      "cell_type": "markdown",
      "id": "ZbZ8tgcUDo9z",
      "metadata": {
        "id": "ZbZ8tgcUDo9z"
      },
      "source": [
        "### Visualizations"
      ]
    },
    {
      "cell_type": "markdown",
      "id": "Xblk9VU8Uata",
      "metadata": {
        "id": "Xblk9VU8Uata"
      },
      "source": [
        "To visualize our KNN model, we will stack actual values against predictions for the first five instances. We can see that the beginning entry is incorrect."
      ]
    },
    {
      "cell_type": "code",
      "execution_count": 26,
      "id": "JQt5zsnoShHV",
      "metadata": {
        "id": "JQt5zsnoShHV",
        "colab": {
          "base_uri": "https://localhost:8080/"
        },
        "outputId": "c07b47ad-9632-4560-fb2e-35821d549a36"
      },
      "outputs": [
        {
          "output_type": "stream",
          "name": "stdout",
          "text": [
            "[['Test Set' 'Prediction']\n",
            " ['Yes' 'No']\n",
            " ['Yes' 'Yes']\n",
            " ['Yes' 'Yes']\n",
            " ['No' 'No']\n",
            " ['No' 'No']]\n"
          ]
        }
      ],
      "source": [
        "header = np.array([[\"Test Set\", \"Prediction\"]])\n",
        "\n",
        "print(np.vstack((header, np.hstack((np.array(y_test)[:5, np.newaxis], np.array(knn_y_pred)[:5, np.newaxis])))))"
      ]
    },
    {
      "cell_type": "markdown",
      "id": "-IPzbtEhV8SH",
      "metadata": {
        "id": "-IPzbtEhV8SH"
      },
      "source": [
        "For our DecisionTree model, we must note that it is difficult to visualize our model as it has a lot of levels due to using default hyerparameters. We will observe it both as text and graphically."
      ]
    },
    {
      "cell_type": "code",
      "execution_count": 27,
      "id": "xlCUnUucaDYJ",
      "metadata": {
        "id": "xlCUnUucaDYJ",
        "colab": {
          "base_uri": "https://localhost:8080/"
        },
        "outputId": "ab0cbb1c-e030-4180-d0b7-bb5b3ae391ad"
      },
      "outputs": [
        {
          "output_type": "stream",
          "name": "stdout",
          "text": [
            "|--- hrs <= 7.77\n",
            "|   |--- Age <= 31.50\n",
            "|   |   |--- YearsAtCompany <= 2.50\n",
            "|   |   |   |--- JobRole <= 7.50\n",
            "|   |   |   |   |--- StockOptionLevel <= 2.50\n",
            "|   |   |   |   |   |--- MaritalStatus <= 0.50\n",
            "|   |   |   |   |   |   |--- StockOptionLevel <= 0.50\n",
            "|   |   |   |   |   |   |   |--- class: Yes\n",
            "|   |   |   |   |   |   |--- StockOptionLevel >  0.50\n",
            "|   |   |   |   |   |   |   |--- class: No\n",
            "|   |   |   |   |   |--- MaritalStatus >  0.50\n",
            "|   |   |   |   |   |   |--- PercentSalaryHike <= 23.50\n",
            "|   |   |   |   |   |   |   |--- MonthlyIncome <= 180410.00\n",
            "|   |   |   |   |   |   |   |   |--- absences <= 11.50\n",
            "|   |   |   |   |   |   |   |   |   |--- PerformanceRating <= 3.66\n",
            "|   |   |   |   |   |   |   |   |   |   |--- JobRole <= 3.50\n",
            "|   |   |   |   |   |   |   |   |   |   |   |--- class: Yes\n",
            "|   |   |   |   |   |   |   |   |   |   |--- JobRole >  3.50\n",
            "|   |   |   |   |   |   |   |   |   |   |   |--- truncated branch of depth 4\n",
            "|   |   |   |   |   |   |   |   |   |--- PerformanceRating >  3.66\n",
            "|   |   |   |   |   |   |   |   |   |   |--- class: No\n",
            "|   |   |   |   |   |   |   |   |--- absences >  11.50\n",
            "|   |   |   |   |   |   |   |   |   |--- TrainingTimesLastYear <= 1.50\n",
            "|   |   |   |   |   |   |   |   |   |   |--- class: No\n",
            "|   |   |   |   |   |   |   |   |   |--- TrainingTimesLastYear >  1.50\n",
            "|   |   |   |   |   |   |   |   |   |   |--- DistanceFromHome <= 28.50\n",
            "|   |   |   |   |   |   |   |   |   |   |   |--- truncated branch of depth 3\n",
            "|   |   |   |   |   |   |   |   |   |   |--- DistanceFromHome >  28.50\n",
            "|   |   |   |   |   |   |   |   |   |   |   |--- truncated branch of depth 2\n",
            "|   |   |   |   |   |   |   |--- MonthlyIncome >  180410.00\n",
            "|   |   |   |   |   |   |   |   |--- class: No\n",
            "|   |   |   |   |   |   |--- PercentSalaryHike >  23.50\n",
            "|   |   |   |   |   |   |   |--- class: No\n",
            "|   |   |   |   |--- StockOptionLevel >  2.50\n",
            "|   |   |   |   |   |--- class: No\n",
            "|   |   |   |--- JobRole >  7.50\n",
            "|   |   |   |   |--- class: No\n",
            "|   |   |--- YearsAtCompany >  2.50\n",
            "|   |   |   |--- BusinessTravel <= 1.50\n",
            "|   |   |   |   |--- BusinessTravel <= 0.50\n",
            "|   |   |   |   |   |--- JobLevel <= 3.50\n",
            "|   |   |   |   |   |   |--- class: No\n",
            "|   |   |   |   |   |--- JobLevel >  3.50\n",
            "|   |   |   |   |   |   |--- class: Yes\n",
            "|   |   |   |   |--- BusinessTravel >  0.50\n",
            "|   |   |   |   |   |--- YearsWithCurrManager <= 8.00\n",
            "|   |   |   |   |   |   |--- DistanceFromHome <= 1.50\n",
            "|   |   |   |   |   |   |   |--- class: No\n",
            "|   |   |   |   |   |   |--- DistanceFromHome >  1.50\n",
            "|   |   |   |   |   |   |   |--- MaritalStatus <= 0.50\n",
            "|   |   |   |   |   |   |   |   |--- StockOptionLevel <= 1.00\n",
            "|   |   |   |   |   |   |   |   |   |--- class: Yes\n",
            "|   |   |   |   |   |   |   |   |--- StockOptionLevel >  1.00\n",
            "|   |   |   |   |   |   |   |   |   |--- class: No\n",
            "|   |   |   |   |   |   |   |--- MaritalStatus >  0.50\n",
            "|   |   |   |   |   |   |   |   |--- class: Yes\n",
            "|   |   |   |   |   |--- YearsWithCurrManager >  8.00\n",
            "|   |   |   |   |   |   |--- class: No\n",
            "|   |   |   |--- BusinessTravel >  1.50\n",
            "|   |   |   |   |--- MonthlyIncome <= 149325.00\n",
            "|   |   |   |   |   |--- WorkLifeBalance <= 2.36\n",
            "|   |   |   |   |   |   |--- MaritalStatus <= 0.50\n",
            "|   |   |   |   |   |   |   |--- class: No\n",
            "|   |   |   |   |   |   |--- MaritalStatus >  0.50\n",
            "|   |   |   |   |   |   |   |--- EducationField <= 1.50\n",
            "|   |   |   |   |   |   |   |   |--- MonthlyIncome <= 22155.00\n",
            "|   |   |   |   |   |   |   |   |   |--- StockOptionLevel <= 1.50\n",
            "|   |   |   |   |   |   |   |   |   |   |--- class: No\n",
            "|   |   |   |   |   |   |   |   |   |--- StockOptionLevel >  1.50\n",
            "|   |   |   |   |   |   |   |   |   |   |--- class: Yes\n",
            "|   |   |   |   |   |   |   |   |--- MonthlyIncome >  22155.00\n",
            "|   |   |   |   |   |   |   |   |   |--- PercentSalaryHike <= 11.50\n",
            "|   |   |   |   |   |   |   |   |   |   |--- class: No\n",
            "|   |   |   |   |   |   |   |   |   |--- PercentSalaryHike >  11.50\n",
            "|   |   |   |   |   |   |   |   |   |   |--- class: Yes\n",
            "|   |   |   |   |   |   |   |--- EducationField >  1.50\n",
            "|   |   |   |   |   |   |   |   |--- class: No\n",
            "|   |   |   |   |   |--- WorkLifeBalance >  2.36\n",
            "|   |   |   |   |   |   |--- TrainingTimesLastYear <= 0.50\n",
            "|   |   |   |   |   |   |   |--- class: Yes\n",
            "|   |   |   |   |   |   |--- TrainingTimesLastYear >  0.50\n",
            "|   |   |   |   |   |   |   |--- MonthlyIncome <= 21035.00\n",
            "|   |   |   |   |   |   |   |   |--- TotalWorkingYears <= 7.50\n",
            "|   |   |   |   |   |   |   |   |   |--- class: No\n",
            "|   |   |   |   |   |   |   |   |--- TotalWorkingYears >  7.50\n",
            "|   |   |   |   |   |   |   |   |   |--- class: Yes\n",
            "|   |   |   |   |   |   |   |--- MonthlyIncome >  21035.00\n",
            "|   |   |   |   |   |   |   |   |--- class: No\n",
            "|   |   |   |   |--- MonthlyIncome >  149325.00\n",
            "|   |   |   |   |   |--- absences <= 13.00\n",
            "|   |   |   |   |   |   |--- PercentSalaryHike <= 14.50\n",
            "|   |   |   |   |   |   |   |--- class: No\n",
            "|   |   |   |   |   |   |--- PercentSalaryHike >  14.50\n",
            "|   |   |   |   |   |   |   |--- class: Yes\n",
            "|   |   |   |   |   |--- absences >  13.00\n",
            "|   |   |   |   |   |   |--- class: Yes\n",
            "|   |--- Age >  31.50\n",
            "|   |   |--- EnvironmentSatisfaction <= 1.50\n",
            "|   |   |   |--- PercentSalaryHike <= 11.50\n",
            "|   |   |   |   |--- YearsAtCompany <= 10.00\n",
            "|   |   |   |   |   |--- BusinessTravel <= 0.50\n",
            "|   |   |   |   |   |   |--- class: No\n",
            "|   |   |   |   |   |--- BusinessTravel >  0.50\n",
            "|   |   |   |   |   |   |--- class: Yes\n",
            "|   |   |   |   |--- YearsAtCompany >  10.00\n",
            "|   |   |   |   |   |--- class: No\n",
            "|   |   |   |--- PercentSalaryHike >  11.50\n",
            "|   |   |   |   |--- TotalWorkingYears <= 5.50\n",
            "|   |   |   |   |   |--- YearsWithCurrManager <= 2.50\n",
            "|   |   |   |   |   |   |--- class: Yes\n",
            "|   |   |   |   |   |--- YearsWithCurrManager >  2.50\n",
            "|   |   |   |   |   |   |--- class: No\n",
            "|   |   |   |   |--- TotalWorkingYears >  5.50\n",
            "|   |   |   |   |   |--- Gender <= 0.50\n",
            "|   |   |   |   |   |   |--- Age <= 34.50\n",
            "|   |   |   |   |   |   |   |--- class: Yes\n",
            "|   |   |   |   |   |   |--- Age >  34.50\n",
            "|   |   |   |   |   |   |   |--- JobRole <= 1.50\n",
            "|   |   |   |   |   |   |   |   |--- class: Yes\n",
            "|   |   |   |   |   |   |   |--- JobRole >  1.50\n",
            "|   |   |   |   |   |   |   |   |--- hrs <= 5.69\n",
            "|   |   |   |   |   |   |   |   |   |--- class: Yes\n",
            "|   |   |   |   |   |   |   |   |--- hrs >  5.69\n",
            "|   |   |   |   |   |   |   |   |   |--- NumCompaniesWorked <= 7.50\n",
            "|   |   |   |   |   |   |   |   |   |   |--- class: No\n",
            "|   |   |   |   |   |   |   |   |   |--- NumCompaniesWorked >  7.50\n",
            "|   |   |   |   |   |   |   |   |   |   |--- PercentSalaryHike <= 17.50\n",
            "|   |   |   |   |   |   |   |   |   |   |   |--- class: Yes\n",
            "|   |   |   |   |   |   |   |   |   |   |--- PercentSalaryHike >  17.50\n",
            "|   |   |   |   |   |   |   |   |   |   |   |--- class: No\n",
            "|   |   |   |   |   |--- Gender >  0.50\n",
            "|   |   |   |   |   |   |--- JobRole <= 1.50\n",
            "|   |   |   |   |   |   |   |--- YearsWithCurrManager <= 6.00\n",
            "|   |   |   |   |   |   |   |   |--- class: Yes\n",
            "|   |   |   |   |   |   |   |--- YearsWithCurrManager >  6.00\n",
            "|   |   |   |   |   |   |   |   |--- class: No\n",
            "|   |   |   |   |   |   |--- JobRole >  1.50\n",
            "|   |   |   |   |   |   |   |--- PercentSalaryHike <= 24.50\n",
            "|   |   |   |   |   |   |   |   |--- class: No\n",
            "|   |   |   |   |   |   |   |--- PercentSalaryHike >  24.50\n",
            "|   |   |   |   |   |   |   |   |--- class: Yes\n",
            "|   |   |--- EnvironmentSatisfaction >  1.50\n",
            "|   |   |   |--- YearsSinceLastPromotion <= 12.50\n",
            "|   |   |   |   |--- JobSatisfaction <= 1.50\n",
            "|   |   |   |   |   |--- EducationField <= 2.50\n",
            "|   |   |   |   |   |   |--- YearsSinceLastPromotion <= 6.50\n",
            "|   |   |   |   |   |   |   |--- YearsWithCurrManager <= 8.50\n",
            "|   |   |   |   |   |   |   |   |--- Age <= 45.00\n",
            "|   |   |   |   |   |   |   |   |   |--- TotalWorkingYears <= 5.00\n",
            "|   |   |   |   |   |   |   |   |   |   |--- class: No\n",
            "|   |   |   |   |   |   |   |   |   |--- TotalWorkingYears >  5.00\n",
            "|   |   |   |   |   |   |   |   |   |   |--- JobLevel <= 3.50\n",
            "|   |   |   |   |   |   |   |   |   |   |   |--- class: Yes\n",
            "|   |   |   |   |   |   |   |   |   |   |--- JobLevel >  3.50\n",
            "|   |   |   |   |   |   |   |   |   |   |   |--- class: No\n",
            "|   |   |   |   |   |   |   |   |--- Age >  45.00\n",
            "|   |   |   |   |   |   |   |   |   |--- Gender <= 0.50\n",
            "|   |   |   |   |   |   |   |   |   |   |--- class: No\n",
            "|   |   |   |   |   |   |   |   |   |--- Gender >  0.50\n",
            "|   |   |   |   |   |   |   |   |   |   |--- class: Yes\n",
            "|   |   |   |   |   |   |   |--- YearsWithCurrManager >  8.50\n",
            "|   |   |   |   |   |   |   |   |--- class: No\n",
            "|   |   |   |   |   |   |--- YearsSinceLastPromotion >  6.50\n",
            "|   |   |   |   |   |   |   |--- class: No\n",
            "|   |   |   |   |   |--- EducationField >  2.50\n",
            "|   |   |   |   |   |   |--- YearsWithCurrManager <= 0.50\n",
            "|   |   |   |   |   |   |   |--- MaritalStatus <= 1.00\n",
            "|   |   |   |   |   |   |   |   |--- class: No\n",
            "|   |   |   |   |   |   |   |--- MaritalStatus >  1.00\n",
            "|   |   |   |   |   |   |   |   |--- class: Yes\n",
            "|   |   |   |   |   |   |--- YearsWithCurrManager >  0.50\n",
            "|   |   |   |   |   |   |   |--- class: No\n",
            "|   |   |   |   |--- JobSatisfaction >  1.50\n",
            "|   |   |   |   |   |--- Age <= 45.50\n",
            "|   |   |   |   |   |   |--- PercentSalaryHike <= 18.50\n",
            "|   |   |   |   |   |   |   |--- Department <= 0.50\n",
            "|   |   |   |   |   |   |   |   |--- TotalWorkingYears <= 18.00\n",
            "|   |   |   |   |   |   |   |   |   |--- class: No\n",
            "|   |   |   |   |   |   |   |   |--- TotalWorkingYears >  18.00\n",
            "|   |   |   |   |   |   |   |   |   |--- class: Yes\n",
            "|   |   |   |   |   |   |   |--- Department >  0.50\n",
            "|   |   |   |   |   |   |   |   |--- Age <= 32.50\n",
            "|   |   |   |   |   |   |   |   |   |--- hrs <= 6.21\n",
            "|   |   |   |   |   |   |   |   |   |   |--- TotalWorkingYears <= 9.50\n",
            "|   |   |   |   |   |   |   |   |   |   |   |--- class: No\n",
            "|   |   |   |   |   |   |   |   |   |   |--- TotalWorkingYears >  9.50\n",
            "|   |   |   |   |   |   |   |   |   |   |   |--- class: Yes\n",
            "|   |   |   |   |   |   |   |   |   |--- hrs >  6.21\n",
            "|   |   |   |   |   |   |   |   |   |   |--- JobRole <= 1.50\n",
            "|   |   |   |   |   |   |   |   |   |   |   |--- class: Yes\n",
            "|   |   |   |   |   |   |   |   |   |   |--- JobRole >  1.50\n",
            "|   |   |   |   |   |   |   |   |   |   |   |--- class: No\n",
            "|   |   |   |   |   |   |   |   |--- Age >  32.50\n",
            "|   |   |   |   |   |   |   |   |   |--- class: No\n",
            "|   |   |   |   |   |   |--- PercentSalaryHike >  18.50\n",
            "|   |   |   |   |   |   |   |--- TotalWorkingYears <= 6.50\n",
            "|   |   |   |   |   |   |   |   |--- class: Yes\n",
            "|   |   |   |   |   |   |   |--- TotalWorkingYears >  6.50\n",
            "|   |   |   |   |   |   |   |   |--- absences <= 6.50\n",
            "|   |   |   |   |   |   |   |   |   |--- Age <= 37.50\n",
            "|   |   |   |   |   |   |   |   |   |   |--- class: No\n",
            "|   |   |   |   |   |   |   |   |   |--- Age >  37.50\n",
            "|   |   |   |   |   |   |   |   |   |   |--- class: Yes\n",
            "|   |   |   |   |   |   |   |   |--- absences >  6.50\n",
            "|   |   |   |   |   |   |   |   |   |--- class: No\n",
            "|   |   |   |   |   |--- Age >  45.50\n",
            "|   |   |   |   |   |   |--- TotalWorkingYears <= 14.50\n",
            "|   |   |   |   |   |   |   |--- YearsAtCompany <= 5.50\n",
            "|   |   |   |   |   |   |   |   |--- DistanceFromHome <= 6.50\n",
            "|   |   |   |   |   |   |   |   |   |--- class: No\n",
            "|   |   |   |   |   |   |   |   |--- DistanceFromHome >  6.50\n",
            "|   |   |   |   |   |   |   |   |   |--- class: Yes\n",
            "|   |   |   |   |   |   |   |--- YearsAtCompany >  5.50\n",
            "|   |   |   |   |   |   |   |   |--- DistanceFromHome <= 17.00\n",
            "|   |   |   |   |   |   |   |   |   |--- YearsWithCurrManager <= 0.50\n",
            "|   |   |   |   |   |   |   |   |   |   |--- class: No\n",
            "|   |   |   |   |   |   |   |   |   |--- YearsWithCurrManager >  0.50\n",
            "|   |   |   |   |   |   |   |   |   |   |--- class: Yes\n",
            "|   |   |   |   |   |   |   |   |--- DistanceFromHome >  17.00\n",
            "|   |   |   |   |   |   |   |   |   |--- class: No\n",
            "|   |   |   |   |   |   |--- TotalWorkingYears >  14.50\n",
            "|   |   |   |   |   |   |   |--- YearsAtCompany <= 28.50\n",
            "|   |   |   |   |   |   |   |   |--- JobLevel <= 3.50\n",
            "|   |   |   |   |   |   |   |   |   |--- class: No\n",
            "|   |   |   |   |   |   |   |   |--- JobLevel >  3.50\n",
            "|   |   |   |   |   |   |   |   |   |--- JobLevel <= 4.50\n",
            "|   |   |   |   |   |   |   |   |   |   |--- class: Yes\n",
            "|   |   |   |   |   |   |   |   |   |--- JobLevel >  4.50\n",
            "|   |   |   |   |   |   |   |   |   |   |--- class: No\n",
            "|   |   |   |   |   |   |   |--- YearsAtCompany >  28.50\n",
            "|   |   |   |   |   |   |   |   |--- class: Yes\n",
            "|   |   |   |--- YearsSinceLastPromotion >  12.50\n",
            "|   |   |   |   |--- NumCompaniesWorked <= 2.00\n",
            "|   |   |   |   |   |--- class: Yes\n",
            "|   |   |   |   |--- NumCompaniesWorked >  2.00\n",
            "|   |   |   |   |   |--- BusinessTravel <= 1.50\n",
            "|   |   |   |   |   |   |--- class: Yes\n",
            "|   |   |   |   |   |--- BusinessTravel >  1.50\n",
            "|   |   |   |   |   |   |--- class: No\n",
            "|--- hrs >  7.77\n",
            "|   |--- TotalWorkingYears <= 8.50\n",
            "|   |   |--- JobSatisfaction <= 3.50\n",
            "|   |   |   |--- PercentSalaryHike <= 24.50\n",
            "|   |   |   |   |--- YearsWithCurrManager <= 2.50\n",
            "|   |   |   |   |   |--- JobRole <= 7.50\n",
            "|   |   |   |   |   |   |--- hrs <= 10.33\n",
            "|   |   |   |   |   |   |   |--- NumCompaniesWorked <= 7.50\n",
            "|   |   |   |   |   |   |   |   |--- absences <= 17.50\n",
            "|   |   |   |   |   |   |   |   |   |--- class: Yes\n",
            "|   |   |   |   |   |   |   |   |--- absences >  17.50\n",
            "|   |   |   |   |   |   |   |   |   |--- Age <= 23.00\n",
            "|   |   |   |   |   |   |   |   |   |   |--- class: No\n",
            "|   |   |   |   |   |   |   |   |   |--- Age >  23.00\n",
            "|   |   |   |   |   |   |   |   |   |   |--- class: Yes\n",
            "|   |   |   |   |   |   |   |--- NumCompaniesWorked >  7.50\n",
            "|   |   |   |   |   |   |   |   |--- JobLevel <= 2.00\n",
            "|   |   |   |   |   |   |   |   |   |--- class: No\n",
            "|   |   |   |   |   |   |   |   |--- JobLevel >  2.00\n",
            "|   |   |   |   |   |   |   |   |   |--- class: Yes\n",
            "|   |   |   |   |   |   |--- hrs >  10.33\n",
            "|   |   |   |   |   |   |   |--- YearsSinceLastPromotion <= 1.50\n",
            "|   |   |   |   |   |   |   |   |--- class: Yes\n",
            "|   |   |   |   |   |   |   |--- YearsSinceLastPromotion >  1.50\n",
            "|   |   |   |   |   |   |   |   |--- class: No\n",
            "|   |   |   |   |   |--- JobRole >  7.50\n",
            "|   |   |   |   |   |   |--- PercentSalaryHike <= 12.50\n",
            "|   |   |   |   |   |   |   |--- class: Yes\n",
            "|   |   |   |   |   |   |--- PercentSalaryHike >  12.50\n",
            "|   |   |   |   |   |   |   |--- class: No\n",
            "|   |   |   |   |--- YearsWithCurrManager >  2.50\n",
            "|   |   |   |   |   |--- TotalWorkingYears <= 5.50\n",
            "|   |   |   |   |   |   |--- class: No\n",
            "|   |   |   |   |   |--- TotalWorkingYears >  5.50\n",
            "|   |   |   |   |   |   |--- YearsAtCompany <= 5.50\n",
            "|   |   |   |   |   |   |   |--- class: Yes\n",
            "|   |   |   |   |   |   |--- YearsAtCompany >  5.50\n",
            "|   |   |   |   |   |   |   |--- DistanceFromHome <= 9.00\n",
            "|   |   |   |   |   |   |   |   |--- MaritalStatus <= 1.50\n",
            "|   |   |   |   |   |   |   |   |   |--- class: No\n",
            "|   |   |   |   |   |   |   |   |--- MaritalStatus >  1.50\n",
            "|   |   |   |   |   |   |   |   |   |--- class: Yes\n",
            "|   |   |   |   |   |   |   |--- DistanceFromHome >  9.00\n",
            "|   |   |   |   |   |   |   |   |--- class: Yes\n",
            "|   |   |   |--- PercentSalaryHike >  24.50\n",
            "|   |   |   |   |--- class: No\n",
            "|   |   |--- JobSatisfaction >  3.50\n",
            "|   |   |   |--- Age <= 30.50\n",
            "|   |   |   |   |--- JobInvolvement <= 3.50\n",
            "|   |   |   |   |   |--- TrainingTimesLastYear <= 1.00\n",
            "|   |   |   |   |   |   |--- class: No\n",
            "|   |   |   |   |   |--- TrainingTimesLastYear >  1.00\n",
            "|   |   |   |   |   |   |--- JobLevel <= 4.00\n",
            "|   |   |   |   |   |   |   |--- YearsAtCompany <= 5.00\n",
            "|   |   |   |   |   |   |   |   |--- class: Yes\n",
            "|   |   |   |   |   |   |   |--- YearsAtCompany >  5.00\n",
            "|   |   |   |   |   |   |   |   |--- YearsSinceLastPromotion <= 3.50\n",
            "|   |   |   |   |   |   |   |   |   |--- class: No\n",
            "|   |   |   |   |   |   |   |   |--- YearsSinceLastPromotion >  3.50\n",
            "|   |   |   |   |   |   |   |   |   |--- class: Yes\n",
            "|   |   |   |   |   |   |--- JobLevel >  4.00\n",
            "|   |   |   |   |   |   |   |--- class: No\n",
            "|   |   |   |   |--- JobInvolvement >  3.50\n",
            "|   |   |   |   |   |--- class: No\n",
            "|   |   |   |--- Age >  30.50\n",
            "|   |   |   |   |--- NumCompaniesWorked <= 4.50\n",
            "|   |   |   |   |   |--- WorkLifeBalance <= 1.50\n",
            "|   |   |   |   |   |   |--- class: Yes\n",
            "|   |   |   |   |   |--- WorkLifeBalance >  1.50\n",
            "|   |   |   |   |   |   |--- class: No\n",
            "|   |   |   |   |--- NumCompaniesWorked >  4.50\n",
            "|   |   |   |   |   |--- StockOptionLevel <= 1.50\n",
            "|   |   |   |   |   |   |--- class: Yes\n",
            "|   |   |   |   |   |--- StockOptionLevel >  1.50\n",
            "|   |   |   |   |   |   |--- class: No\n",
            "|   |--- TotalWorkingYears >  8.50\n",
            "|   |   |--- YearsSinceLastPromotion <= 1.50\n",
            "|   |   |   |--- YearsWithCurrManager <= 0.50\n",
            "|   |   |   |   |--- MonthlyIncome <= 24055.00\n",
            "|   |   |   |   |   |--- class: No\n",
            "|   |   |   |   |--- MonthlyIncome >  24055.00\n",
            "|   |   |   |   |   |--- hrs <= 8.60\n",
            "|   |   |   |   |   |   |--- Gender <= 0.50\n",
            "|   |   |   |   |   |   |   |--- Education <= 2.98\n",
            "|   |   |   |   |   |   |   |   |--- class: Yes\n",
            "|   |   |   |   |   |   |   |--- Education >  2.98\n",
            "|   |   |   |   |   |   |   |   |--- class: No\n",
            "|   |   |   |   |   |   |--- Gender >  0.50\n",
            "|   |   |   |   |   |   |   |--- class: Yes\n",
            "|   |   |   |   |   |--- hrs >  8.60\n",
            "|   |   |   |   |   |   |--- JobLevel <= 2.50\n",
            "|   |   |   |   |   |   |   |--- class: Yes\n",
            "|   |   |   |   |   |   |--- JobLevel >  2.50\n",
            "|   |   |   |   |   |   |   |--- class: No\n",
            "|   |   |   |--- YearsWithCurrManager >  0.50\n",
            "|   |   |   |   |--- EnvironmentSatisfaction <= 2.50\n",
            "|   |   |   |   |   |--- PercentSalaryHike <= 21.00\n",
            "|   |   |   |   |   |   |--- TrainingTimesLastYear <= 1.00\n",
            "|   |   |   |   |   |   |   |--- class: Yes\n",
            "|   |   |   |   |   |   |--- TrainingTimesLastYear >  1.00\n",
            "|   |   |   |   |   |   |   |--- Department <= 0.50\n",
            "|   |   |   |   |   |   |   |   |--- class: Yes\n",
            "|   |   |   |   |   |   |   |--- Department >  0.50\n",
            "|   |   |   |   |   |   |   |   |--- JobRole <= 7.50\n",
            "|   |   |   |   |   |   |   |   |   |--- Education <= 1.50\n",
            "|   |   |   |   |   |   |   |   |   |   |--- YearsSinceLastPromotion <= 0.50\n",
            "|   |   |   |   |   |   |   |   |   |   |   |--- class: Yes\n",
            "|   |   |   |   |   |   |   |   |   |   |--- YearsSinceLastPromotion >  0.50\n",
            "|   |   |   |   |   |   |   |   |   |   |   |--- class: No\n",
            "|   |   |   |   |   |   |   |   |   |--- Education >  1.50\n",
            "|   |   |   |   |   |   |   |   |   |   |--- class: No\n",
            "|   |   |   |   |   |   |   |   |--- JobRole >  7.50\n",
            "|   |   |   |   |   |   |   |   |   |--- class: Yes\n",
            "|   |   |   |   |   |--- PercentSalaryHike >  21.00\n",
            "|   |   |   |   |   |   |--- class: Yes\n",
            "|   |   |   |   |--- EnvironmentSatisfaction >  2.50\n",
            "|   |   |   |   |   |--- class: No\n",
            "|   |   |--- YearsSinceLastPromotion >  1.50\n",
            "|   |   |   |--- YearsWithCurrManager <= 9.50\n",
            "|   |   |   |   |--- YearsWithCurrManager <= 6.50\n",
            "|   |   |   |   |   |--- YearsAtCompany <= 4.00\n",
            "|   |   |   |   |   |   |--- Education <= 3.50\n",
            "|   |   |   |   |   |   |   |--- class: Yes\n",
            "|   |   |   |   |   |   |--- Education >  3.50\n",
            "|   |   |   |   |   |   |   |--- class: No\n",
            "|   |   |   |   |   |--- YearsAtCompany >  4.00\n",
            "|   |   |   |   |   |   |--- class: No\n",
            "|   |   |   |   |--- YearsWithCurrManager >  6.50\n",
            "|   |   |   |   |   |--- TrainingTimesLastYear <= 4.50\n",
            "|   |   |   |   |   |   |--- WorkLifeBalance <= 1.50\n",
            "|   |   |   |   |   |   |   |--- class: No\n",
            "|   |   |   |   |   |   |--- WorkLifeBalance >  1.50\n",
            "|   |   |   |   |   |   |   |--- PercentSalaryHike <= 23.00\n",
            "|   |   |   |   |   |   |   |   |--- DistanceFromHome <= 25.00\n",
            "|   |   |   |   |   |   |   |   |   |--- MaritalStatus <= 0.50\n",
            "|   |   |   |   |   |   |   |   |   |   |--- YearsAtCompany <= 14.50\n",
            "|   |   |   |   |   |   |   |   |   |   |   |--- class: Yes\n",
            "|   |   |   |   |   |   |   |   |   |   |--- YearsAtCompany >  14.50\n",
            "|   |   |   |   |   |   |   |   |   |   |   |--- class: No\n",
            "|   |   |   |   |   |   |   |   |   |--- MaritalStatus >  0.50\n",
            "|   |   |   |   |   |   |   |   |   |   |--- class: Yes\n",
            "|   |   |   |   |   |   |   |   |--- DistanceFromHome >  25.00\n",
            "|   |   |   |   |   |   |   |   |   |--- JobLevel <= 1.50\n",
            "|   |   |   |   |   |   |   |   |   |   |--- class: Yes\n",
            "|   |   |   |   |   |   |   |   |   |--- JobLevel >  1.50\n",
            "|   |   |   |   |   |   |   |   |   |   |--- class: No\n",
            "|   |   |   |   |   |   |   |--- PercentSalaryHike >  23.00\n",
            "|   |   |   |   |   |   |   |   |--- class: No\n",
            "|   |   |   |   |   |--- TrainingTimesLastYear >  4.50\n",
            "|   |   |   |   |   |   |--- class: No\n",
            "|   |   |   |--- YearsWithCurrManager >  9.50\n",
            "|   |   |   |   |--- YearsSinceLastPromotion <= 9.00\n",
            "|   |   |   |   |   |--- class: No\n",
            "|   |   |   |   |--- YearsSinceLastPromotion >  9.00\n",
            "|   |   |   |   |   |--- class: Yes\n",
            "\n"
          ]
        }
      ],
      "source": [
        "from sklearn import tree\n",
        "\n",
        "print(tree.export_text(tree_clf, feature_names=feature_names))"
      ]
    },
    {
      "cell_type": "code",
      "execution_count": 28,
      "id": "rHOhPr10BzbQ",
      "metadata": {
        "id": "rHOhPr10BzbQ",
        "colab": {
          "base_uri": "https://localhost:8080/",
          "height": 551
        },
        "outputId": "594ff4b9-f57a-4a4a-9e5a-379e694f8e03"
      },
      "outputs": [
        {
          "output_type": "display_data",
          "data": {
            "text/plain": [
              "<Figure size 2500x2000 with 1 Axes>"
            ],
            "image/png": "[encoded data removed]"
          },
          "metadata": {}
        }
      ],
      "source": [
        "import matplotlib.pyplot as plt\n",
        "\n",
        "fig = plt.figure(figsize=(25,20))\n",
        "_ = tree.plot_tree(tree_clf,\n",
        "                   feature_names = feature_names,\n",
        "                   class_names= target_names,\n",
        "                   filled=True)"
      ]
    },
    {
      "cell_type": "markdown",
      "id": "1ba62479-25d9-4d92-bf71-5c45e19cedf9",
      "metadata": {
        "id": "1ba62479-25d9-4d92-bf71-5c45e19cedf9"
      },
      "source": [
        "## 3. Hyperparameter Optimization/Tuning"
      ]
    },
    {
      "cell_type": "markdown",
      "id": "cs0gc1bfgPLC",
      "metadata": {
        "id": "cs0gc1bfgPLC"
      },
      "source": [
        "Along with an ideal train/test split, there are other ways to improve accuracy, such as hyperparameter tuning. Please note that, by default, we will be using a 5-fold cross-validation."
      ]
    },
    {
      "cell_type": "markdown",
      "id": "erP9WO5ykAwn",
      "metadata": {
        "id": "erP9WO5ykAwn"
      },
      "source": [
        "### Prearranged Parametrical Space"
      ]
    },
    {
      "cell_type": "markdown",
      "id": "eX7lXjIMhYEj",
      "metadata": {
        "id": "eX7lXjIMhYEj"
      },
      "source": [
        "With a prearranged parametrical space, we will define a fixed grid of hyperparameters for our methods to select from. First, we will use **grid search** which exhaustively samples every parameter combination."
      ]
    },
    {
      "cell_type": "code",
      "execution_count": 29,
      "id": "Om9HkxA8epUs",
      "metadata": {
        "id": "Om9HkxA8epUs"
      },
      "outputs": [],
      "source": [
        "param_grid_tree = {\n",
        "    'max_depth': list(range(2,16,2)),\n",
        "    'min_samples_split': [2, 5, 10, 15, 20, 30, 50, 100],\n",
        "    'criterion': ['gini', 'entropy']\n",
        "}\n",
        "param_grid_knn = {\n",
        "    'n_neighbors': list(range(1,29,2)),\n",
        "    'weights': ['uniform', 'distance'],\n",
        "    'metric': ['euclidean', 'manhattan', 'chebyshev', 'cosine', 'hamming']\n",
        "}"
      ]
    },
    {
      "cell_type": "code",
      "execution_count": 30,
      "id": "xwe-a3jJbLio",
      "metadata": {
        "id": "xwe-a3jJbLio",
        "colab": {
          "base_uri": "https://localhost:8080/"
        },
        "outputId": "4f2e71da-412b-4cb1-d99c-ae207b903685"
      },
      "outputs": [
        {
          "output_type": "stream",
          "name": "stdout",
          "text": [
            "Fitting 5 folds for each of 112 candidates, totalling 560 fits\n",
            "Fitting 5 folds for each of 140 candidates, totalling 700 fits\n",
            "-- Best Hyper-Parameters from GridSearch --\n",
            "For Trees: {'criterion': 'gini', 'max_depth': 12, 'min_samples_split': 2} with best score 82.2329%\n",
            "For KNN: {'metric': 'euclidean', 'n_neighbors': 1, 'weights': 'uniform'} with best score 82.7866%\n",
            "DecisionTree Execution time: 7.07s\n",
            "KNN Execution time: 13.87s\n"
          ]
        }
      ],
      "source": [
        "from sklearn.model_selection import GridSearchCV\n",
        "\n",
        "grid_search_tree = GridSearchCV(DecisionTreeClassifier(),\n",
        "                                param_grid_tree,\n",
        "                                scoring='accuracy',\n",
        "                                n_jobs=1, verbose=1)\n",
        "\n",
        "tree_start = time.time()\n",
        "grid_search_tree.fit(X_train, y_train)\n",
        "tree_end = time.time()\n",
        "\n",
        "grid_search_knn = GridSearchCV(KNeighborsClassifier(),\n",
        "                               param_grid_knn,\n",
        "                               scoring='accuracy',\n",
        "                               n_jobs=1, verbose=1,)\n",
        "\n",
        "knn_start = time.time()\n",
        "grid_search_knn.fit(X_train, y_train)\n",
        "knn_end = time.time()\n",
        "\n",
        "accuracy_gridsearch_knn = metrics.accuracy_score(y_test, grid_search_knn.predict(X_test))\n",
        "conf_int = proportion_confint(len(y_test) * accuracy_gridsearch_knn, len(y_test), method=\"wilson\")\n",
        "execution_time = end-start\n",
        "\n",
        "print(\"-- Best Hyper-Parameters from GridSearch --\")\n",
        "print(f\"For Trees: {grid_search_tree.best_params_} with best score {round(grid_search_tree.best_score_ * 100, 4)}%\")\n",
        "print(f\"For KNN: {grid_search_knn.best_params_} with best score {round(grid_search_knn.best_score_ * 100, 4)}%\")\n",
        "print(f\"DecisionTree Execution time: {tree_end-tree_start:.2f}s\")\n",
        "print(f\"KNN Execution time: {knn_end-knn_start:.2f}s\")\n",
        "scores.loc[len(scores)] = [accuracy_gridsearch_knn, conf_int, \"GridSearch KNN\", execution_time]"
      ]
    },
    {
      "cell_type": "markdown",
      "id": "U1AhGR269iDv",
      "metadata": {
        "id": "U1AhGR269iDv"
      },
      "source": [
        "We notice that the optimal hyperparameters for the trees are on the border of our searching space. Knowing that our tree should include many different variables, we extend the searching space to check if there are even better parameters."
      ]
    },
    {
      "cell_type": "code",
      "execution_count": 31,
      "id": "eAiPtWGh9hJF",
      "metadata": {
        "id": "eAiPtWGh9hJF",
        "colab": {
          "base_uri": "https://localhost:8080/"
        },
        "outputId": "62642947-6e21-4101-ef62-7d2937f134f4"
      },
      "outputs": [
        {
          "output_type": "stream",
          "name": "stdout",
          "text": [
            "Fitting 5 folds for each of 304 candidates, totalling 1520 fits\n",
            "-- Best Hyper-Parameters from GridSearch --\n",
            "For Trees: {'criterion': 'gini', 'max_depth': 38, 'min_samples_split': 2} with best score 83.5417%\n",
            "DecisionTree Execution time: 18.75s\n"
          ]
        },
        {
          "output_type": "stream",
          "name": "stderr",
          "text": [
            "/usr/local/lib/python3.10/dist-packages/numpy/ma/core.py:2820: RuntimeWarning: invalid value encountered in cast\n",
            "  _data = np.array(data, dtype=dtype, copy=copy,\n"
          ]
        }
      ],
      "source": [
        "param_grid_tree = {\n",
        "    'max_depth': list(range(2,40,2)),\n",
        "    'min_samples_split': [2, 5, 10, 15, 20, 30, 50, 100],\n",
        "    'criterion': ['gini', 'entropy']\n",
        "}\n",
        "\n",
        "grid_search_tree = GridSearchCV(DecisionTreeClassifier(),\n",
        "                                param_grid_tree,\n",
        "                                scoring='accuracy',\n",
        "                                n_jobs=1, verbose=1)\n",
        "tree_start = time.time()\n",
        "grid_search_tree.fit(X_train, y_train)\n",
        "tree_end = time.time()\n",
        "\n",
        "accuracy_gridsearch_tree = metrics.accuracy_score(y_test, grid_search_tree.predict(X_test))\n",
        "conf_int = proportion_confint(len(y_test) * accuracy_gridsearch_tree, len(y_test), method=\"wilson\")\n",
        "execution_time = end-start\n",
        "\n",
        "print(\"-- Best Hyper-Parameters from GridSearch --\")\n",
        "print(f\"For Trees: {grid_search_tree.best_params_} with best score {round(grid_search_tree.best_score_ * 100, 4)}%\")\n",
        "print(f\"DecisionTree Execution time: {tree_end-tree_start:.2f}s\")\n",
        "scores.loc[len(scores)] = [accuracy_gridsearch_tree, conf_int, \"GridSearch Tree\", execution_time]"
      ]
    },
    {
      "cell_type": "markdown",
      "id": "PecWSnShlJrW",
      "metadata": {
        "id": "PecWSnShlJrW"
      },
      "source": [
        "Indeed, we do find a better set of hyperparameters. Grid Search enables us to check all possible combinations to ensure the optimal set of hyperparameters within our specified range is found. It is simple to understand and repeatable. However, the search time grows exponentially as the size of the search space increases and it may miss optimal configurations between grid points."
      ]
    },
    {
      "cell_type": "markdown",
      "id": "95__FMFdixQl",
      "metadata": {
        "id": "95__FMFdixQl"
      },
      "source": [
        " Next, we will try **random search**, reducing the number of parameters tried based on a specified budget."
      ]
    },
    {
      "cell_type": "code",
      "source": [
        "from sklearn.model_selection import RandomizedSearchCV\n",
        "\n",
        "RS_BUDGET=20\n",
        "\n",
        "random_search_tree = RandomizedSearchCV(DecisionTreeClassifier(),\n",
        "                                        param_grid_tree,\n",
        "                                        n_iter=RS_BUDGET,\n",
        "                                        scoring='accuracy',\n",
        "                                        n_jobs=1, verbose=1,\n",
        "                                        random_state=NIU)\n",
        "tree_start = time.time()\n",
        "random_search_tree.fit(X_train, y_train)\n",
        "tree_end = time.time()\n",
        "\n",
        "accuracy_randomsearch_tree = metrics.accuracy_score(y_test, random_search_tree.predict(X_test))\n",
        "conf_int_tree = proportion_confint(len(y_test) * accuracy_randomsearch_tree, len(y_test), method=\"wilson\")\n",
        "tree_execution_time = tree_end-tree_start\n",
        "\n",
        "random_search_knn = RandomizedSearchCV(KNeighborsClassifier(),\n",
        "                                       param_grid_knn,\n",
        "                                       n_iter=RS_BUDGET,\n",
        "                                       scoring='accuracy',\n",
        "                                       n_jobs=1, verbose=1,\n",
        "                                       random_state=NIU)\n",
        "knn_start = time.time()\n",
        "random_search_knn.fit(X_train, y_train)\n",
        "knn_end = time.time()\n",
        "\n",
        "accuracy_randomsearch_KNN = metrics.accuracy_score(y_test, random_search_knn.predict(X_test))\n",
        "conf_int_KNN = proportion_confint(len(y_test) * accuracy_randomsearch_KNN, len(y_test), method=\"wilson\")\n",
        "KNN_execution_time = knn_end-knn_start\n",
        "\n",
        "print(\"-- Best Hyper-Parameters from RandomSearch --\")\n",
        "print(f\"For Trees: {random_search_tree.best_params_} with best score {round(random_search_tree.best_score_ * 100, 4)}%\")\n",
        "print(f\"For KNN: {random_search_knn.best_params_} with best score {round(random_search_knn.best_score_ * 100, 4)}%\")\n",
        "print(f\"DecisionTree Execution time: {tree_end-tree_start:.2f}s\")\n",
        "print(f\"KNN Execution time: {knn_end-knn_start:.2f}s\")\n",
        "scores.loc[len(scores)] = [accuracy_randomsearch_KNN, conf_int_KNN ,\"RandomSearch KNN\", KNN_execution_time]\n",
        "scores.loc[len(scores)] = [accuracy_randomsearch_tree, conf_int_tree,\"RandomSearch Tree\", tree_execution_time]"
      ],
      "metadata": {
        "id": "bEb3W8Ryi9t9",
        "colab": {
          "base_uri": "https://localhost:8080/"
        },
        "outputId": "4b853cf4-d878-44ca-9333-8a3cd53b76e8"
      },
      "id": "bEb3W8Ryi9t9",
      "execution_count": 32,
      "outputs": [
        {
          "output_type": "stream",
          "name": "stdout",
          "text": [
            "Fitting 5 folds for each of 20 candidates, totalling 100 fits\n",
            "Fitting 5 folds for each of 20 candidates, totalling 100 fits\n",
            "-- Best Hyper-Parameters from RandomSearch --\n",
            "For Trees: {'min_samples_split': 5, 'max_depth': 10, 'criterion': 'gini'} with best score 80.5471%\n",
            "For KNN: {'weights': 'distance', 'n_neighbors': 1, 'metric': 'manhattan'} with best score 82.6945%\n",
            "DecisionTree Execution time: 1.22s\n",
            "KNN Execution time: 1.67s\n"
          ]
        }
      ]
    },
    {
      "cell_type": "markdown",
      "id": "6axDjBGL3yui",
      "metadata": {
        "id": "6axDjBGL3yui"
      },
      "source": [
        "Random Search gives equal chance to each combination and reduces computational strain. On the contrary, there is no guarantee we will find the optimal hyperparameters, it may wastefully sample redundant regions of the search space, and it is similarly restrained by the budget."
      ]
    },
    {
      "cell_type": "markdown",
      "id": "fjSGWbuTmUD6",
      "metadata": {
        "id": "fjSGWbuTmUD6"
      },
      "source": [
        "### Sampled Parametrical Space"
      ]
    },
    {
      "cell_type": "markdown",
      "id": "RwBx_hzqnDCw",
      "metadata": {
        "id": "RwBx_hzqnDCw"
      },
      "source": [
        "With a sampled parametrical space, only a subset configurations are selected for evaluation based on predefined probability distributions. This enables us to explore the search space more optimally."
      ]
    },
    {
      "cell_type": "markdown",
      "id": "hTF_ylAu_hvM",
      "metadata": {
        "id": "hTF_ylAu_hvM"
      },
      "source": [
        "To start, we will use Random Search again, instead sampling from a continuous distribution."
      ]
    },
    {
      "cell_type": "code",
      "execution_count": 33,
      "id": "PZ5m2T-Zpa-U",
      "metadata": {
        "id": "PZ5m2T-Zpa-U"
      },
      "outputs": [],
      "source": [
        "from scipy.stats import randint, uniform\n",
        "\n",
        "param_dist_tree = {\n",
        "    'max_depth': randint(2, 40),\n",
        "    'min_samples_split': randint(2, 100),\n",
        "    'criterion': ['gini', 'entropy']\n",
        "}\n",
        "param_dist_knn = {\n",
        "    'n_neighbors': randint(1, 29),\n",
        "    'weights': ['uniform', 'distance'],\n",
        "    'metric': ['euclidean', 'manhattan', 'chebyshev', 'cosine', 'hamming']\n",
        "}\n"
      ]
    },
    {
      "cell_type": "code",
      "execution_count": 34,
      "id": "B66vXRm0qLyb",
      "metadata": {
        "id": "B66vXRm0qLyb",
        "colab": {
          "base_uri": "https://localhost:8080/"
        },
        "outputId": "f6d859e5-4209-48b2-ae10-7f5082a7a8bd"
      },
      "outputs": [
        {
          "output_type": "stream",
          "name": "stdout",
          "text": [
            "Fitting 5 folds for each of 20 candidates, totalling 100 fits\n",
            "Fitting 5 folds for each of 20 candidates, totalling 100 fits\n",
            "-- Best Hyper-Parameters from RandomSearch --\n",
            "For Trees: {'min_samples_split': 5, 'max_depth': 18, 'criterion': 'entropy'} with best score 79.8912%\n",
            "For KNN: {'weights': 'distance', 'n_neighbors': 1, 'metric': 'manhattan'} with best score 82.6945%\n",
            "DecisionTree Execution time: 1.16s\n",
            "KNN Execution time: 3.19s\n"
          ]
        }
      ],
      "source": [
        "random_search_tree = RandomizedSearchCV(DecisionTreeClassifier(),\n",
        "                                        param_grid_tree,\n",
        "                                        n_iter=RS_BUDGET,\n",
        "                                        scoring='accuracy',\n",
        "                                        n_jobs=1, verbose=1,\n",
        "                                        random_state=NIU)\n",
        "tree_start = time.time()\n",
        "random_search_tree.fit(X_train, y_train)\n",
        "tree_end = time.time()\n",
        "\n",
        "accuracy_randomsearch_tree = metrics.accuracy_score(y_test, random_search_tree.predict(X_test))\n",
        "conf_int_tree = proportion_confint(len(y_test) * accuracy_randomsearch_tree, len(y_test), method=\"wilson\")\n",
        "tree_execution_time = tree_end-tree_start\n",
        "\n",
        "random_search_knn = RandomizedSearchCV(KNeighborsClassifier(),\n",
        "                                       param_grid_knn,\n",
        "                                       n_iter=RS_BUDGET,\n",
        "                                       scoring='accuracy',\n",
        "                                       n_jobs=1, verbose=1,\n",
        "                                       random_state=NIU)\n",
        "knn_start = time.time()\n",
        "random_search_knn.fit(X_train, y_train)\n",
        "knn_end = time.time()\n",
        "\n",
        "accuracy_randomsearch_KNN = metrics.accuracy_score(y_test, random_search_knn.predict(X_test))\n",
        "conf_int_KNN = proportion_confint(len(y_test) * accuracy_randomsearch_KNN, len(y_test), method=\"wilson\")\n",
        "KNN_execution_time = knn_end-knn_start\n",
        "\n",
        "print(\"-- Best Hyper-Parameters from RandomSearch --\")\n",
        "print(f\"For Trees: {random_search_tree.best_params_} with best score {round(random_search_tree.best_score_ * 100, 4)}%\")\n",
        "print(f\"For KNN: {random_search_knn.best_params_} with best score {round(random_search_knn.best_score_ * 100, 4)}%\")\n",
        "print(f\"DecisionTree Execution time: {tree_end-tree_start:.2f}s\")\n",
        "print(f\"KNN Execution time: {knn_end-knn_start:.2f}s\")\n",
        "scores.loc[len(scores)] = [accuracy_randomsearch_KNN, conf_int_KNN,\"RandomSearch_Sampled KNN\", KNN_execution_time]\n",
        "scores.loc[len(scores)] = [accuracy_randomsearch_tree, conf_int_tree,\"RandomSearch_Sampled Tree\", tree_execution_time]"
      ]
    },
    {
      "cell_type": "markdown",
      "source": [
        "Random Search suffers from the same shortcomings as before. However, we are now able to sample from a custom distribution and can take this a step further."
      ],
      "metadata": {
        "id": "6v2yN1som0sx"
      },
      "id": "6v2yN1som0sx"
    },
    {
      "cell_type": "markdown",
      "source": [
        "Using **Optuna**, we can fine-grain our tuning by dynamically exploring the search space. This process is guided by the performance of past trials to more intelligently select the most promising hyperparameter configurations."
      ],
      "metadata": {
        "id": "V54_eFdGnM9g"
      },
      "id": "V54_eFdGnM9g"
    },
    {
      "cell_type": "code",
      "execution_count": 35,
      "id": "5-6z8FaeRQr5",
      "metadata": {
        "id": "5-6z8FaeRQr5",
        "colab": {
          "base_uri": "https://localhost:8080/"
        },
        "outputId": "5c7e4848-7660-42d9-a6d1-0c19905414ea"
      },
      "outputs": [
        {
          "output_type": "stream",
          "name": "stdout",
          "text": [
            "Requirement already satisfied: optuna in /usr/local/lib/python3.10/dist-packages (4.1.0)\n",
            "Requirement already satisfied: alembic>=1.5.0 in /usr/local/lib/python3.10/dist-packages (from optuna) (1.14.0)\n",
            "Requirement already satisfied: colorlog in /usr/local/lib/python3.10/dist-packages (from optuna) (6.9.0)\n",
            "Requirement already satisfied: numpy in /usr/local/lib/python3.10/dist-packages (from optuna) (1.26.4)\n",
            "Requirement already satisfied: packaging>=20.0 in /usr/local/lib/python3.10/dist-packages (from optuna) (24.2)\n",
            "Requirement already satisfied: sqlalchemy>=1.4.2 in /usr/local/lib/python3.10/dist-packages (from optuna) (2.0.36)\n",
            "Requirement already satisfied: tqdm in /usr/local/lib/python3.10/dist-packages (from optuna) (4.66.6)\n",
            "Requirement already satisfied: PyYAML in /usr/local/lib/python3.10/dist-packages (from optuna) (6.0.2)\n",
            "Requirement already satisfied: Mako in /usr/local/lib/python3.10/dist-packages (from alembic>=1.5.0->optuna) (1.3.6)\n",
            "Requirement already satisfied: typing-extensions>=4 in /usr/local/lib/python3.10/dist-packages (from alembic>=1.5.0->optuna) (4.12.2)\n",
            "Requirement already satisfied: greenlet!=0.4.17 in /usr/local/lib/python3.10/dist-packages (from sqlalchemy>=1.4.2->optuna) (3.1.1)\n",
            "Requirement already satisfied: MarkupSafe>=0.9.2 in /usr/local/lib/python3.10/dist-packages (from Mako->alembic>=1.5.0->optuna) (3.0.2)\n",
            "Requirement already satisfied: optuna-integration in /root/.local/lib/python3.10/site-packages (4.1.0)\n",
            "Requirement already satisfied: optuna in /usr/local/lib/python3.10/dist-packages (from optuna-integration) (4.1.0)\n",
            "Requirement already satisfied: alembic>=1.5.0 in /usr/local/lib/python3.10/dist-packages (from optuna->optuna-integration) (1.14.0)\n",
            "Requirement already satisfied: colorlog in /usr/local/lib/python3.10/dist-packages (from optuna->optuna-integration) (6.9.0)\n",
            "Requirement already satisfied: numpy in /usr/local/lib/python3.10/dist-packages (from optuna->optuna-integration) (1.26.4)\n",
            "Requirement already satisfied: packaging>=20.0 in /usr/local/lib/python3.10/dist-packages (from optuna->optuna-integration) (24.2)\n",
            "Requirement already satisfied: sqlalchemy>=1.4.2 in /usr/local/lib/python3.10/dist-packages (from optuna->optuna-integration) (2.0.36)\n",
            "Requirement already satisfied: tqdm in /usr/local/lib/python3.10/dist-packages (from optuna->optuna-integration) (4.66.6)\n",
            "Requirement already satisfied: PyYAML in /usr/local/lib/python3.10/dist-packages (from optuna->optuna-integration) (6.0.2)\n",
            "Requirement already satisfied: Mako in /usr/local/lib/python3.10/dist-packages (from alembic>=1.5.0->optuna->optuna-integration) (1.3.6)\n",
            "Requirement already satisfied: typing-extensions>=4 in /usr/local/lib/python3.10/dist-packages (from alembic>=1.5.0->optuna->optuna-integration) (4.12.2)\n",
            "Requirement already satisfied: greenlet!=0.4.17 in /usr/local/lib/python3.10/dist-packages (from sqlalchemy>=1.4.2->optuna->optuna-integration) (3.1.1)\n",
            "Requirement already satisfied: MarkupSafe>=0.9.2 in /usr/local/lib/python3.10/dist-packages (from Mako->alembic>=1.5.0->optuna->optuna-integration) (3.0.2)\n",
            "Requirement already satisfied: optuna-integration[sklearn] in /root/.local/lib/python3.10/site-packages (4.1.0)\n",
            "Requirement already satisfied: optuna in /usr/local/lib/python3.10/dist-packages (from optuna-integration[sklearn]) (4.1.0)\n",
            "Requirement already satisfied: pandas in /usr/local/lib/python3.10/dist-packages (from optuna-integration[sklearn]) (2.2.2)\n",
            "Requirement already satisfied: scikit-learn in /usr/local/lib/python3.10/dist-packages (from optuna-integration[sklearn]) (1.5.2)\n",
            "Requirement already satisfied: scipy in /usr/local/lib/python3.10/dist-packages (from optuna-integration[sklearn]) (1.13.1)\n",
            "Requirement already satisfied: alembic>=1.5.0 in /usr/local/lib/python3.10/dist-packages (from optuna->optuna-integration[sklearn]) (1.14.0)\n",
            "Requirement already satisfied: colorlog in /usr/local/lib/python3.10/dist-packages (from optuna->optuna-integration[sklearn]) (6.9.0)\n",
            "Requirement already satisfied: numpy in /usr/local/lib/python3.10/dist-packages (from optuna->optuna-integration[sklearn]) (1.26.4)\n",
            "Requirement already satisfied: packaging>=20.0 in /usr/local/lib/python3.10/dist-packages (from optuna->optuna-integration[sklearn]) (24.2)\n",
            "Requirement already satisfied: sqlalchemy>=1.4.2 in /usr/local/lib/python3.10/dist-packages (from optuna->optuna-integration[sklearn]) (2.0.36)\n",
            "Requirement already satisfied: tqdm in /usr/local/lib/python3.10/dist-packages (from optuna->optuna-integration[sklearn]) (4.66.6)\n",
            "Requirement already satisfied: PyYAML in /usr/local/lib/python3.10/dist-packages (from optuna->optuna-integration[sklearn]) (6.0.2)\n",
            "Requirement already satisfied: python-dateutil>=2.8.2 in /usr/local/lib/python3.10/dist-packages (from pandas->optuna-integration[sklearn]) (2.8.2)\n",
            "Requirement already satisfied: pytz>=2020.1 in /usr/local/lib/python3.10/dist-packages (from pandas->optuna-integration[sklearn]) (2024.2)\n",
            "Requirement already satisfied: tzdata>=2022.7 in /usr/local/lib/python3.10/dist-packages (from pandas->optuna-integration[sklearn]) (2024.2)\n",
            "Requirement already satisfied: joblib>=1.2.0 in /usr/local/lib/python3.10/dist-packages (from scikit-learn->optuna-integration[sklearn]) (1.4.2)\n",
            "Requirement already satisfied: threadpoolctl>=3.1.0 in /usr/local/lib/python3.10/dist-packages (from scikit-learn->optuna-integration[sklearn]) (3.5.0)\n",
            "Requirement already satisfied: Mako in /usr/local/lib/python3.10/dist-packages (from alembic>=1.5.0->optuna->optuna-integration[sklearn]) (1.3.6)\n",
            "Requirement already satisfied: typing-extensions>=4 in /usr/local/lib/python3.10/dist-packages (from alembic>=1.5.0->optuna->optuna-integration[sklearn]) (4.12.2)\n",
            "Requirement already satisfied: six>=1.5 in /usr/local/lib/python3.10/dist-packages (from python-dateutil>=2.8.2->pandas->optuna-integration[sklearn]) (1.16.0)\n",
            "Requirement already satisfied: greenlet!=0.4.17 in /usr/local/lib/python3.10/dist-packages (from sqlalchemy>=1.4.2->optuna->optuna-integration[sklearn]) (3.1.1)\n",
            "Requirement already satisfied: MarkupSafe>=0.9.2 in /usr/local/lib/python3.10/dist-packages (from Mako->alembic>=1.5.0->optuna->optuna-integration[sklearn]) (3.0.2)\n"
          ]
        }
      ],
      "source": [
        "!pip install optuna\n",
        "!pip install optuna-integration --user\n",
        "!pip install optuna-integration[sklearn]"
      ]
    },
    {
      "cell_type": "code",
      "execution_count": 36,
      "id": "f9nlLzbmHfmS",
      "metadata": {
        "id": "f9nlLzbmHfmS"
      },
      "outputs": [],
      "source": [
        "from optuna.distributions import IntDistribution as IntDist, CategoricalDistribution as CatDist\n",
        "\n",
        "param_optuna_trees = {\n",
        "    'max_depth': IntDist(2,40),\n",
        "    'min_samples_split': IntDist(2,100),\n",
        "    'criterion': CatDist(['gini', 'entropy'])\n",
        "}\n",
        "param_optuna_knn = {\n",
        "    'n_neighbors': IntDist(1, 29),\n",
        "    'weights': CatDist(['uniform', 'distance']),\n",
        "    'metric': CatDist(['euclidean', 'manhattan', 'chebyshev', 'cosine', 'hamming'])\n",
        "}"
      ]
    },
    {
      "cell_type": "code",
      "execution_count": 37,
      "id": "MGJisANMRcsJ",
      "metadata": {
        "id": "MGJisANMRcsJ",
        "colab": {
          "base_uri": "https://localhost:8080/"
        },
        "outputId": "128569de-9631-4d2c-895b-34f1abf70850"
      },
      "outputs": [
        {
          "output_type": "stream",
          "name": "stderr",
          "text": [
            "<ipython-input-37-bedebb9c2fee>:4: ExperimentalWarning: OptunaSearchCV is experimental (supported from v0.17.0). The interface can change in the future.\n",
            "  optuna_search_tree = optuna.integration.OptunaSearchCV(DecisionTreeClassifier(),\n",
            "[I 2024-12-02 22:27:16,667] A new study created in memory with name: no-name-bf8a44db-60ae-43e6-92cf-a6bc36615d0c\n",
            "INFO:optuna_integration.sklearn.sklearn:Searching the best hyperparameters using 1069 samples...\n",
            "[I 2024-12-02 22:27:16,745] Trial 0 finished with value: 0.7979904348207627 and parameters: {'max_depth': 11, 'min_samples_split': 8, 'criterion': 'entropy'}. Best is trial 0 with value: 0.7979904348207627.\n",
            "[I 2024-12-02 22:27:16,808] Trial 1 finished with value: 0.7353077969373876 and parameters: {'max_depth': 24, 'min_samples_split': 30, 'criterion': 'gini'}. Best is trial 0 with value: 0.7979904348207627.\n",
            "[I 2024-12-02 22:27:16,882] Trial 2 finished with value: 0.715659690228599 and parameters: {'max_depth': 25, 'min_samples_split': 50, 'criterion': 'entropy'}. Best is trial 0 with value: 0.7979904348207627.\n",
            "[I 2024-12-02 22:27:16,951] Trial 3 finished with value: 0.7278136106357772 and parameters: {'max_depth': 5, 'min_samples_split': 12, 'criterion': 'gini'}. Best is trial 0 with value: 0.7979904348207627.\n",
            "[I 2024-12-02 22:27:17,025] Trial 4 finished with value: 0.6969549383528586 and parameters: {'max_depth': 18, 'min_samples_split': 88, 'criterion': 'entropy'}. Best is trial 0 with value: 0.7979904348207627.\n",
            "[I 2024-12-02 22:27:17,091] Trial 5 finished with value: 0.7278399368171646 and parameters: {'max_depth': 37, 'min_samples_split': 34, 'criterion': 'gini'}. Best is trial 0 with value: 0.7979904348207627.\n",
            "[I 2024-12-02 22:27:17,164] Trial 6 finished with value: 0.7502654556623228 and parameters: {'max_depth': 34, 'min_samples_split': 21, 'criterion': 'entropy'}. Best is trial 0 with value: 0.7979904348207627.\n",
            "[I 2024-12-02 22:27:17,234] Trial 7 finished with value: 0.7137905313500943 and parameters: {'max_depth': 32, 'min_samples_split': 70, 'criterion': 'gini'}. Best is trial 0 with value: 0.7979904348207627.\n",
            "[I 2024-12-02 22:27:17,309] Trial 8 finished with value: 0.7895616690798999 and parameters: {'max_depth': 25, 'min_samples_split': 9, 'criterion': 'entropy'}. Best is trial 0 with value: 0.7979904348207627.\n",
            "[I 2024-12-02 22:27:17,367] Trial 9 finished with value: 0.6978982931859067 and parameters: {'max_depth': 37, 'min_samples_split': 79, 'criterion': 'gini'}. Best is trial 0 with value: 0.7979904348207627.\n",
            "[I 2024-12-02 22:27:17,440] Trial 10 finished with value: 0.7081655039269886 and parameters: {'max_depth': 7, 'min_samples_split': 54, 'criterion': 'entropy'}. Best is trial 0 with value: 0.7979904348207627.\n",
            "[I 2024-12-02 22:27:17,529] Trial 11 finished with value: 0.8063972620771358 and parameters: {'max_depth': 14, 'min_samples_split': 2, 'criterion': 'entropy'}. Best is trial 11 with value: 0.8063972620771358.\n",
            "[I 2024-12-02 22:27:17,617] Trial 12 finished with value: 0.8194857619235663 and parameters: {'max_depth': 13, 'min_samples_split': 2, 'criterion': 'entropy'}. Best is trial 12 with value: 0.8194857619235663.\n",
            "[I 2024-12-02 22:27:17,704] Trial 13 finished with value: 0.8082620332587425 and parameters: {'max_depth': 15, 'min_samples_split': 3, 'criterion': 'entropy'}. Best is trial 12 with value: 0.8194857619235663.\n",
            "[I 2024-12-02 22:27:17,779] Trial 14 finished with value: 0.728774516256417 and parameters: {'max_depth': 16, 'min_samples_split': 40, 'criterion': 'entropy'}. Best is trial 12 with value: 0.8194857619235663.\n",
            "[I 2024-12-02 22:27:17,869] Trial 15 finished with value: 0.7427888201483042 and parameters: {'max_depth': 10, 'min_samples_split': 21, 'criterion': 'entropy'}. Best is trial 12 with value: 0.8194857619235663.\n",
            "[I 2024-12-02 22:27:18,005] Trial 16 finished with value: 0.6604668509499364 and parameters: {'max_depth': 3, 'min_samples_split': 19, 'criterion': 'entropy'}. Best is trial 12 with value: 0.8194857619235663.\n",
            "[I 2024-12-02 22:27:18,085] Trial 17 finished with value: 0.6922644903690053 and parameters: {'max_depth': 20, 'min_samples_split': 99, 'criterion': 'entropy'}. Best is trial 12 with value: 0.8194857619235663.\n",
            "[I 2024-12-02 22:27:18,179] Trial 18 finished with value: 0.8129437058487999 and parameters: {'max_depth': 12, 'min_samples_split': 2, 'criterion': 'entropy'}. Best is trial 12 with value: 0.8194857619235663.\n",
            "[I 2024-12-02 22:27:18,262] Trial 19 finished with value: 0.7137773682594007 and parameters: {'max_depth': 10, 'min_samples_split': 60, 'criterion': 'entropy'}. Best is trial 12 with value: 0.8194857619235663.\n",
            "[I 2024-12-02 22:27:18,355] Trial 20 finished with value: 0.6501557632398753 and parameters: {'max_depth': 2, 'min_samples_split': 41, 'criterion': 'entropy'}. Best is trial 12 with value: 0.8194857619235663.\n",
            "[I 2024-12-02 22:27:18,509] Trial 21 finished with value: 0.8166776359089114 and parameters: {'max_depth': 14, 'min_samples_split': 3, 'criterion': 'entropy'}. Best is trial 12 with value: 0.8194857619235663.\n",
            "[I 2024-12-02 22:27:18,671] Trial 22 finished with value: 0.7484006844807161 and parameters: {'max_depth': 12, 'min_samples_split': 20, 'criterion': 'entropy'}. Best is trial 12 with value: 0.8194857619235663.\n",
            "[I 2024-12-02 22:27:18,829] Trial 23 finished with value: 0.7549515159492783 and parameters: {'max_depth': 7, 'min_samples_split': 13, 'criterion': 'entropy'}. Best is trial 12 with value: 0.8194857619235663.\n",
            "[I 2024-12-02 22:27:19,000] Trial 24 finished with value: 0.8138782852880524 and parameters: {'max_depth': 22, 'min_samples_split': 2, 'criterion': 'entropy'}. Best is trial 12 with value: 0.8194857619235663.\n",
            "[I 2024-12-02 22:27:19,145] Trial 25 finished with value: 0.7334430257557808 and parameters: {'max_depth': 22, 'min_samples_split': 31, 'criterion': 'entropy'}. Best is trial 12 with value: 0.8194857619235663.\n",
            "[I 2024-12-02 22:27:19,302] Trial 26 finished with value: 0.7708525295072617 and parameters: {'max_depth': 29, 'min_samples_split': 15, 'criterion': 'gini'}. Best is trial 12 with value: 0.8194857619235663.\n",
            "[I 2024-12-02 22:27:19,431] Trial 27 finished with value: 0.7904962485191522 and parameters: {'max_depth': 19, 'min_samples_split': 9, 'criterion': 'entropy'}. Best is trial 12 with value: 0.8194857619235663.\n",
            "[I 2024-12-02 22:27:19,567] Trial 28 finished with value: 0.7484006844807161 and parameters: {'max_depth': 17, 'min_samples_split': 26, 'criterion': 'entropy'}. Best is trial 12 with value: 0.8194857619235663.\n",
            "[I 2024-12-02 22:27:19,869] Trial 29 finished with value: 0.8035979114562766 and parameters: {'max_depth': 28, 'min_samples_split': 7, 'criterion': 'entropy'}. Best is trial 12 with value: 0.8194857619235663.\n",
            "[I 2024-12-02 22:27:20,173] Trial 30 finished with value: 0.7652362774779519 and parameters: {'max_depth': 22, 'min_samples_split': 16, 'criterion': 'entropy'}. Best is trial 12 with value: 0.8194857619235663.\n",
            "[I 2024-12-02 22:27:20,302] Trial 31 finished with value: 0.8213505331051731 and parameters: {'max_depth': 13, 'min_samples_split': 3, 'criterion': 'entropy'}. Best is trial 31 with value: 0.8213505331051731.\n",
            "[I 2024-12-02 22:27:20,437] Trial 32 finished with value: 0.7886314773375455 and parameters: {'max_depth': 14, 'min_samples_split': 7, 'criterion': 'entropy'}. Best is trial 31 with value: 0.8213505331051731.\n",
            "[I 2024-12-02 22:27:20,564] Trial 33 finished with value: 0.7371813435127901 and parameters: {'max_depth': 8, 'min_samples_split': 26, 'criterion': 'entropy'}. Best is trial 31 with value: 0.8213505331051731.\n",
            "[I 2024-12-02 22:27:20,730] Trial 34 finished with value: 0.8288666578912729 and parameters: {'max_depth': 13, 'min_samples_split': 2, 'criterion': 'gini'}. Best is trial 34 with value: 0.8288666578912729.\n",
            "[I 2024-12-02 22:27:21,129] Trial 35 finished with value: 0.7717958843403098 and parameters: {'max_depth': 12, 'min_samples_split': 11, 'criterion': 'gini'}. Best is trial 34 with value: 0.8288666578912729.\n",
            "[I 2024-12-02 22:27:21,470] Trial 36 finished with value: 0.7914571541397921 and parameters: {'max_depth': 9, 'min_samples_split': 7, 'criterion': 'gini'}. Best is trial 34 with value: 0.8288666578912729.\n",
            "[I 2024-12-02 22:27:21,780] Trial 37 finished with value: 0.7325084463165284 and parameters: {'max_depth': 17, 'min_samples_split': 36, 'criterion': 'gini'}. Best is trial 34 with value: 0.8288666578912729.\n",
            "[I 2024-12-02 22:27:22,059] Trial 38 finished with value: 0.7306348997411259 and parameters: {'max_depth': 6, 'min_samples_split': 26, 'criterion': 'gini'}. Best is trial 34 with value: 0.8288666578912729.\n",
            "[I 2024-12-02 22:27:22,494] Trial 39 finished with value: 0.7773989732789259 and parameters: {'max_depth': 14, 'min_samples_split': 14, 'criterion': 'gini'}. Best is trial 34 with value: 0.8288666578912729.\n",
            "[I 2024-12-02 22:27:22,900] Trial 40 finished with value: 0.7970558553815102 and parameters: {'max_depth': 11, 'min_samples_split': 7, 'criterion': 'gini'}. Best is trial 34 with value: 0.8288666578912729.\n",
            "[I 2024-12-02 22:27:23,283] Trial 41 finished with value: 0.8035847483655829 and parameters: {'max_depth': 23, 'min_samples_split': 3, 'criterion': 'entropy'}. Best is trial 34 with value: 0.8288666578912729.\n",
            "[I 2024-12-02 22:27:23,463] Trial 42 finished with value: 0.8176297661357553 and parameters: {'max_depth': 19, 'min_samples_split': 2, 'criterion': 'entropy'}. Best is trial 34 with value: 0.8288666578912729.\n",
            "[I 2024-12-02 22:27:23,603] Trial 43 finished with value: 0.7773989732789259 and parameters: {'max_depth': 19, 'min_samples_split': 12, 'criterion': 'gini'}. Best is trial 34 with value: 0.8288666578912729.\n",
            "[I 2024-12-02 22:27:23,763] Trial 44 finished with value: 0.7624325391601948 and parameters: {'max_depth': 13, 'min_samples_split': 17, 'criterion': 'entropy'}. Best is trial 34 with value: 0.8288666578912729.\n",
            "[I 2024-12-02 22:27:23,904] Trial 45 finished with value: 0.7951910841999035 and parameters: {'max_depth': 16, 'min_samples_split': 7, 'criterion': 'entropy'}. Best is trial 34 with value: 0.8288666578912729.\n",
            "[I 2024-12-02 22:27:24,038] Trial 46 finished with value: 0.7109867930323374 and parameters: {'max_depth': 26, 'min_samples_split': 72, 'criterion': 'gini'}. Best is trial 34 with value: 0.8288666578912729.\n",
            "[I 2024-12-02 22:27:24,203] Trial 47 finished with value: 0.7381071475582466 and parameters: {'max_depth': 18, 'min_samples_split': 22, 'criterion': 'entropy'}. Best is trial 34 with value: 0.8288666578912729.\n",
            "[I 2024-12-02 22:27:24,429] Trial 48 finished with value: 0.7016278355491202 and parameters: {'max_depth': 4, 'min_samples_split': 11, 'criterion': 'entropy'}. Best is trial 34 with value: 0.8288666578912729.\n",
            "[I 2024-12-02 22:27:24,602] Trial 49 finished with value: 0.8073230661225923 and parameters: {'max_depth': 15, 'min_samples_split': 5, 'criterion': 'entropy'}. Best is trial 34 with value: 0.8288666578912729.\n",
            "INFO:optuna_integration.sklearn.sklearn:Finished hyperparameter search!\n",
            "INFO:optuna_integration.sklearn.sklearn:Refitting the estimator using 1069 samples...\n",
            "INFO:optuna_integration.sklearn.sklearn:Finished refitting! (elapsed time: 0.017 sec.)\n",
            "<ipython-input-37-bedebb9c2fee>:20: ExperimentalWarning: OptunaSearchCV is experimental (supported from v0.17.0). The interface can change in the future.\n",
            "  optuna_search_knn = optuna.integration.OptunaSearchCV(KNeighborsClassifier(),\n",
            "[I 2024-12-02 22:27:24,653] A new study created in memory with name: no-name-65b2be7a-3eb6-4c81-ac6d-d5aa6c6244b9\n",
            "INFO:optuna_integration.sklearn.sklearn:Searching the best hyperparameters using 1069 samples...\n",
            "[I 2024-12-02 22:27:25,195] Trial 0 finished with value: 0.6520336975121758 and parameters: {'n_neighbors': 7, 'weights': 'uniform', 'metric': 'cosine'}. Best is trial 0 with value: 0.6520336975121758.\n",
            "[I 2024-12-02 22:27:25,326] Trial 1 finished with value: 0.7792856829450223 and parameters: {'n_neighbors': 18, 'weights': 'distance', 'metric': 'cosine'}. Best is trial 1 with value: 0.7792856829450223.\n",
            "[I 2024-12-02 22:27:25,754] Trial 2 finished with value: 0.6567329208898249 and parameters: {'n_neighbors': 13, 'weights': 'uniform', 'metric': 'cosine'}. Best is trial 1 with value: 0.7792856829450223.\n",
            "[I 2024-12-02 22:27:25,987] Trial 3 finished with value: 0.5154622438681935 and parameters: {'n_neighbors': 25, 'weights': 'uniform', 'metric': 'manhattan'}. Best is trial 1 with value: 0.7792856829450223.\n",
            "[I 2024-12-02 22:27:26,098] Trial 4 finished with value: 0.7970295292001228 and parameters: {'n_neighbors': 18, 'weights': 'distance', 'metric': 'manhattan'}. Best is trial 4 with value: 0.7970295292001228.\n",
            "[I 2024-12-02 22:27:26,213] Trial 5 finished with value: 0.7951559826247203 and parameters: {'n_neighbors': 20, 'weights': 'distance', 'metric': 'manhattan'}. Best is trial 4 with value: 0.7970295292001228.\n",
            "[I 2024-12-02 22:27:26,318] Trial 6 finished with value: 0.7745952349611688 and parameters: {'n_neighbors': 9, 'weights': 'distance', 'metric': 'cosine'}. Best is trial 4 with value: 0.7970295292001228.\n",
            "[I 2024-12-02 22:27:26,523] Trial 7 finished with value: 0.7829713483392567 and parameters: {'n_neighbors': 6, 'weights': 'distance', 'metric': 'chebyshev'}. Best is trial 4 with value: 0.7970295292001228.\n",
            "[I 2024-12-02 22:27:26,870] Trial 8 finished with value: 0.5182703698828485 and parameters: {'n_neighbors': 27, 'weights': 'uniform', 'metric': 'manhattan'}. Best is trial 4 with value: 0.7970295292001228.\n",
            "[I 2024-12-02 22:27:27,084] Trial 9 finished with value: 0.5201439164582511 and parameters: {'n_neighbors': 27, 'weights': 'uniform', 'metric': 'euclidean'}. Best is trial 4 with value: 0.7970295292001228.\n",
            "[I 2024-12-02 22:27:27,203] Trial 10 finished with value: 0.8260058795138432 and parameters: {'n_neighbors': 1, 'weights': 'distance', 'metric': 'hamming'}. Best is trial 10 with value: 0.8260058795138432.\n",
            "[I 2024-12-02 22:27:27,408] Trial 11 finished with value: 0.8260058795138432 and parameters: {'n_neighbors': 1, 'weights': 'distance', 'metric': 'hamming'}. Best is trial 10 with value: 0.8260058795138432.\n",
            "[I 2024-12-02 22:27:27,568] Trial 12 finished with value: 0.8260058795138432 and parameters: {'n_neighbors': 1, 'weights': 'distance', 'metric': 'hamming'}. Best is trial 10 with value: 0.8260058795138432.\n",
            "[I 2024-12-02 22:27:27,704] Trial 13 finished with value: 0.8260058795138432 and parameters: {'n_neighbors': 1, 'weights': 'distance', 'metric': 'hamming'}. Best is trial 10 with value: 0.8260058795138432.\n",
            "[I 2024-12-02 22:27:27,835] Trial 14 finished with value: 0.8353472862094685 and parameters: {'n_neighbors': 4, 'weights': 'distance', 'metric': 'hamming'}. Best is trial 14 with value: 0.8353472862094685.\n",
            "[I 2024-12-02 22:27:28,060] Trial 15 finished with value: 0.7904392084594796 and parameters: {'n_neighbors': 11, 'weights': 'distance', 'metric': 'hamming'}. Best is trial 14 with value: 0.8353472862094685.\n",
            "[I 2024-12-02 22:27:28,252] Trial 16 finished with value: 0.8072748014567154 and parameters: {'n_neighbors': 6, 'weights': 'distance', 'metric': 'hamming'}. Best is trial 14 with value: 0.8353472862094685.\n",
            "[I 2024-12-02 22:27:28,409] Trial 17 finished with value: 0.7969988153218375 and parameters: {'n_neighbors': 5, 'weights': 'distance', 'metric': 'chebyshev'}. Best is trial 14 with value: 0.8353472862094685.\n",
            "[I 2024-12-02 22:27:28,650] Trial 18 finished with value: 0.7998069413364924 and parameters: {'n_neighbors': 4, 'weights': 'distance', 'metric': 'euclidean'}. Best is trial 14 with value: 0.8353472862094685.\n",
            "[I 2024-12-02 22:27:28,819] Trial 19 finished with value: 0.7997850028520029 and parameters: {'n_neighbors': 10, 'weights': 'distance', 'metric': 'hamming'}. Best is trial 14 with value: 0.8353472862094685.\n",
            "[I 2024-12-02 22:27:28,993] Trial 20 finished with value: 0.7820279935062086 and parameters: {'n_neighbors': 14, 'weights': 'distance', 'metric': 'hamming'}. Best is trial 14 with value: 0.8353472862094685.\n",
            "[I 2024-12-02 22:27:29,131] Trial 21 finished with value: 0.8231933658022903 and parameters: {'n_neighbors': 3, 'weights': 'distance', 'metric': 'hamming'}. Best is trial 14 with value: 0.8353472862094685.\n",
            "[I 2024-12-02 22:27:29,245] Trial 22 finished with value: 0.8260058795138432 and parameters: {'n_neighbors': 1, 'weights': 'distance', 'metric': 'hamming'}. Best is trial 14 with value: 0.8353472862094685.\n",
            "[I 2024-12-02 22:27:29,357] Trial 23 finished with value: 0.8231933658022903 and parameters: {'n_neighbors': 3, 'weights': 'distance', 'metric': 'hamming'}. Best is trial 14 with value: 0.8353472862094685.\n",
            "[I 2024-12-02 22:27:29,490] Trial 24 finished with value: 0.8016497740336097 and parameters: {'n_neighbors': 8, 'weights': 'distance', 'metric': 'hamming'}. Best is trial 14 with value: 0.8353472862094685.\n",
            "[I 2024-12-02 22:27:29,612] Trial 25 finished with value: 0.8063621605019525 and parameters: {'n_neighbors': 3, 'weights': 'distance', 'metric': 'euclidean'}. Best is trial 14 with value: 0.8353472862094685.\n",
            "[I 2024-12-02 22:27:29,863] Trial 26 finished with value: 0.8260058795138432 and parameters: {'n_neighbors': 1, 'weights': 'uniform', 'metric': 'hamming'}. Best is trial 14 with value: 0.8353472862094685.\n",
            "[I 2024-12-02 22:27:30,037] Trial 27 finished with value: 0.7969988153218375 and parameters: {'n_neighbors': 5, 'weights': 'distance', 'metric': 'chebyshev'}. Best is trial 14 with value: 0.8353472862094685.\n",
            "[I 2024-12-02 22:27:30,153] Trial 28 finished with value: 0.7969988153218376 and parameters: {'n_neighbors': 12, 'weights': 'distance', 'metric': 'hamming'}. Best is trial 14 with value: 0.8353472862094685.\n",
            "[I 2024-12-02 22:27:30,513] Trial 29 finished with value: 0.6444736957570971 and parameters: {'n_neighbors': 8, 'weights': 'uniform', 'metric': 'hamming'}. Best is trial 14 with value: 0.8353472862094685.\n",
            "[I 2024-12-02 22:27:30,681] Trial 30 finished with value: 0.7997850028520029 and parameters: {'n_neighbors': 7, 'weights': 'distance', 'metric': 'hamming'}. Best is trial 14 with value: 0.8353472862094685.\n",
            "[I 2024-12-02 22:27:30,790] Trial 31 finished with value: 0.8260058795138432 and parameters: {'n_neighbors': 1, 'weights': 'distance', 'metric': 'hamming'}. Best is trial 14 with value: 0.8353472862094685.\n",
            "[I 2024-12-02 22:27:30,904] Trial 32 finished with value: 0.8231933658022903 and parameters: {'n_neighbors': 3, 'weights': 'distance', 'metric': 'hamming'}. Best is trial 14 with value: 0.8353472862094685.\n",
            "[I 2024-12-02 22:27:31,022] Trial 33 finished with value: 0.7970470799877145 and parameters: {'n_neighbors': 3, 'weights': 'distance', 'metric': 'cosine'}. Best is trial 14 with value: 0.8353472862094685.\n",
            "[I 2024-12-02 22:27:31,137] Trial 34 finished with value: 0.8260058795138432 and parameters: {'n_neighbors': 1, 'weights': 'distance', 'metric': 'hamming'}. Best is trial 14 with value: 0.8353472862094685.\n",
            "[I 2024-12-02 22:27:31,560] Trial 35 finished with value: 0.6632618138738976 and parameters: {'n_neighbors': 5, 'weights': 'uniform', 'metric': 'cosine'}. Best is trial 14 with value: 0.8353472862094685.\n",
            "[I 2024-12-02 22:27:31,759] Trial 36 finished with value: 0.7717520073713308 and parameters: {'n_neighbors': 17, 'weights': 'distance', 'metric': 'hamming'}. Best is trial 14 with value: 0.8353472862094685.\n",
            "[I 2024-12-02 22:27:31,971] Trial 37 finished with value: 0.8269448466499935 and parameters: {'n_neighbors': 2, 'weights': 'distance', 'metric': 'manhattan'}. Best is trial 14 with value: 0.8353472862094685.\n",
            "[I 2024-12-02 22:27:32,113] Trial 38 finished with value: 0.8007722346540301 and parameters: {'n_neighbors': 24, 'weights': 'distance', 'metric': 'manhattan'}. Best is trial 14 with value: 0.8353472862094685.\n",
            "[I 2024-12-02 22:27:32,403] Trial 39 finished with value: 0.5284980913518493 and parameters: {'n_neighbors': 20, 'weights': 'uniform', 'metric': 'manhattan'}. Best is trial 14 with value: 0.8353472862094685.\n",
            "[I 2024-12-02 22:27:32,583] Trial 40 finished with value: 0.7998157167302884 and parameters: {'n_neighbors': 7, 'weights': 'distance', 'metric': 'manhattan'}. Best is trial 14 with value: 0.8353472862094685.\n",
            "[I 2024-12-02 22:27:32,754] Trial 41 finished with value: 0.8269448466499935 and parameters: {'n_neighbors': 2, 'weights': 'distance', 'metric': 'manhattan'}. Best is trial 14 with value: 0.8353472862094685.\n",
            "[I 2024-12-02 22:27:33,083] Trial 42 finished with value: 0.7998201044271862 and parameters: {'n_neighbors': 4, 'weights': 'distance', 'metric': 'manhattan'}. Best is trial 14 with value: 0.8353472862094685.\n",
            "[I 2024-12-02 22:27:33,406] Trial 43 finished with value: 0.8269448466499935 and parameters: {'n_neighbors': 2, 'weights': 'distance', 'metric': 'manhattan'}. Best is trial 14 with value: 0.8353472862094685.\n",
            "[I 2024-12-02 22:27:33,776] Trial 44 finished with value: 0.8269448466499935 and parameters: {'n_neighbors': 2, 'weights': 'distance', 'metric': 'manhattan'}. Best is trial 14 with value: 0.8353472862094685.\n",
            "[I 2024-12-02 22:27:34,253] Trial 45 finished with value: 0.7998201044271862 and parameters: {'n_neighbors': 4, 'weights': 'distance', 'metric': 'manhattan'}. Best is trial 14 with value: 0.8353472862094685.\n",
            "[I 2024-12-02 22:27:34,674] Trial 46 finished with value: 0.8035584221841955 and parameters: {'n_neighbors': 6, 'weights': 'distance', 'metric': 'manhattan'}. Best is trial 14 with value: 0.8353472862094685.\n",
            "[I 2024-12-02 22:27:35,381] Trial 47 finished with value: 0.5528849107103682 and parameters: {'n_neighbors': 9, 'weights': 'uniform', 'metric': 'manhattan'}. Best is trial 14 with value: 0.8353472862094685.\n",
            "[I 2024-12-02 22:27:35,685] Trial 48 finished with value: 0.8269448466499935 and parameters: {'n_neighbors': 2, 'weights': 'distance', 'metric': 'manhattan'}. Best is trial 14 with value: 0.8353472862094685.\n",
            "[I 2024-12-02 22:27:35,963] Trial 49 finished with value: 0.8073011276381028 and parameters: {'n_neighbors': 5, 'weights': 'distance', 'metric': 'manhattan'}. Best is trial 14 with value: 0.8353472862094685.\n",
            "INFO:optuna_integration.sklearn.sklearn:Finished hyperparameter search!\n",
            "INFO:optuna_integration.sklearn.sklearn:Refitting the estimator using 1069 samples...\n",
            "INFO:optuna_integration.sklearn.sklearn:Finished refitting! (elapsed time: 0.006 sec.)\n"
          ]
        },
        {
          "output_type": "stream",
          "name": "stdout",
          "text": [
            "-- Best Hyper-Parameters from OptunaSearch --\n",
            "For Trees: {'max_depth': 13, 'min_samples_split': 2, 'criterion': 'gini'} with best score 82.8867%\n",
            "For KNN: {'n_neighbors': 4, 'weights': 'distance', 'metric': 'hamming'} with best score 83.5347%\n",
            "DecisionTree Execution time: 7.98s\n",
            "KNN Execution time: 11.34s\n"
          ]
        }
      ],
      "source": [
        "import optuna\n",
        "\n",
        "opt_budget = 50\n",
        "optuna_search_tree = optuna.integration.OptunaSearchCV(DecisionTreeClassifier(),\n",
        "                                                        param_optuna_trees,\n",
        "                                                        scoring='accuracy',\n",
        "                                                        n_trials=opt_budget,\n",
        "                                                        n_jobs=1, verbose=1,\n",
        "                                                        timeout=600,\n",
        "                                                        random_state=NIU,\n",
        "                                                        refit=True)\n",
        "tree_start = time.time()\n",
        "optuna_search_tree.fit(X_train, y_train)\n",
        "tree_end = time.time()\n",
        "\n",
        "accuracy_optuna_tree = metrics.accuracy_score(y_test, optuna_search_tree.predict(X_test))\n",
        "conf_int_tree = proportion_confint(len(y_test) * accuracy_optuna_tree, len(y_test), method=\"wilson\")\n",
        "tree_execution_time = tree_end-tree_start\n",
        "\n",
        "optuna_search_knn = optuna.integration.OptunaSearchCV(KNeighborsClassifier(),\n",
        "                                                      param_optuna_knn,\n",
        "                                                      scoring='accuracy',\n",
        "                                                      n_trials=opt_budget,\n",
        "                                                      n_jobs=1, verbose=1,\n",
        "                                                      timeout=600,\n",
        "                                                      random_state=NIU,\n",
        "                                                      refit=True)\n",
        "knn_start = time.time()\n",
        "optuna_search_knn.fit(X_train, y_train)\n",
        "knn_end = time.time()\n",
        "\n",
        "accuracy_optuna_KNN = metrics.accuracy_score(y_test, optuna_search_knn.predict(X_test))\n",
        "conf_int_KNN = proportion_confint(len(y_test) * accuracy_optuna_KNN, len(y_test), method=\"wilson\")\n",
        "KNN_execution_time = knn_end-knn_start\n",
        "\n",
        "print(\"-- Best Hyper-Parameters from OptunaSearch --\")\n",
        "print(f\"For Trees: {optuna_search_tree.best_params_} with best score {round(optuna_search_tree.best_score_ * 100, 4)}%\")\n",
        "print(f\"For KNN: {optuna_search_knn.best_params_} with best score {round(optuna_search_knn.best_score_ * 100, 4)}%\")\n",
        "print(f\"DecisionTree Execution time: {tree_end-tree_start:.2f}s\")\n",
        "print(f\"KNN Execution time: {knn_end-knn_start:.2f}s\")\n",
        "scores.loc[len(scores)] = [accuracy_optuna_KNN, conf_int_KNN, \"Optuna KNN\", KNN_execution_time]\n",
        "scores.loc[len(scores)] = [accuracy_optuna_tree, conf_int_tree, \"Optuna Tree\", tree_execution_time]"
      ]
    },
    {
      "cell_type": "markdown",
      "source": [
        "We will also examine the accuracy from the Optuna method."
      ],
      "metadata": {
        "id": "Hbg0cn2up78R"
      },
      "id": "Hbg0cn2up78R"
    },
    {
      "cell_type": "code",
      "execution_count": 38,
      "id": "iHMHmiFRRyuA",
      "metadata": {
        "id": "iHMHmiFRRyuA",
        "colab": {
          "base_uri": "https://localhost:8080/"
        },
        "outputId": "56d95338-b7bf-4987-ec57-9e83e38a3a6b"
      },
      "outputs": [
        {
          "output_type": "stream",
          "name": "stdout",
          "text": [
            "DecisionTree accuracy with Optuna HPO: 86.2745%\n",
            "KNN accuracy with Optuna HPO: 86.8347%\n"
          ]
        }
      ],
      "source": [
        "print(f\"DecisionTree accuracy with Optuna HPO: {round(metrics.accuracy_score(y_test, optuna_search_tree.predict(X=X_test))*100,4)}%\")\n",
        "print(f\"KNN accuracy with Optuna HPO: {round(metrics.accuracy_score(y_test, optuna_search_knn.predict(X=X_test))*100,4)}%\")"
      ]
    },
    {
      "cell_type": "markdown",
      "source": [
        "### HPO Conclusion"
      ],
      "metadata": {
        "id": "7-giweTwqQNz"
      },
      "id": "7-giweTwqQNz"
    },
    {
      "cell_type": "markdown",
      "id": "VIvFPFKvjIqI",
      "metadata": {
        "id": "VIvFPFKvjIqI"
      },
      "source": [
        "As expected, we notice that GridSearch and Oputuna provide the highest scores, with Optuna coming out on top. Processing the entire search space is computationally expensive, so sampling allows us to find strong models while being fast and efficient. This makes Optuna our intended approach, as we can explore large, complex hyperparameters without exhaustive search and focus on areas that are likely to perform well, thus achieving better results with fewer evaluations."
      ]
    },
    {
      "cell_type": "markdown",
      "source": [
        "Let's visualize at what point the best hyperparameter configuration was found across our Optuna trials."
      ],
      "metadata": {
        "id": "Z1uBMQcbtSPc"
      },
      "id": "Z1uBMQcbtSPc"
    },
    {
      "cell_type": "code",
      "source": [
        "pip install --upgrade matplotlib"
      ],
      "metadata": {
        "id": "KXoddciatRQY",
        "colab": {
          "base_uri": "https://localhost:8080/"
        },
        "outputId": "2c3b1aaf-9cfc-491d-ea4f-c982e246b8fb"
      },
      "id": "KXoddciatRQY",
      "execution_count": 39,
      "outputs": [
        {
          "output_type": "stream",
          "name": "stdout",
          "text": [
            "Requirement already satisfied: matplotlib in /usr/local/lib/python3.10/dist-packages (3.8.0)\n",
            "Collecting matplotlib\n",
            "  Downloading matplotlib-3.9.3-cp310-cp310-manylinux_2_17_x86_64.manylinux2014_x86_64.whl.metadata (11 kB)\n",
            "Requirement already satisfied: contourpy>=1.0.1 in /usr/local/lib/python3.10/dist-packages (from matplotlib) (1.3.1)\n",
            "Requirement already satisfied: cycler>=0.10 in /usr/local/lib/python3.10/dist-packages (from matplotlib) (0.12.1)\n",
            "Requirement already satisfied: fonttools>=4.22.0 in /usr/local/lib/python3.10/dist-packages (from matplotlib) (4.55.0)\n",
            "Requirement already satisfied: kiwisolver>=1.3.1 in /usr/local/lib/python3.10/dist-packages (from matplotlib) (1.4.7)\n",
            "Requirement already satisfied: numpy>=1.23 in /usr/local/lib/python3.10/dist-packages (from matplotlib) (1.26.4)\n",
            "Requirement already satisfied: packaging>=20.0 in /usr/local/lib/python3.10/dist-packages (from matplotlib) (24.2)\n",
            "Requirement already satisfied: pillow>=8 in /usr/local/lib/python3.10/dist-packages (from matplotlib) (11.0.0)\n",
            "Requirement already satisfied: pyparsing>=2.3.1 in /usr/local/lib/python3.10/dist-packages (from matplotlib) (3.2.0)\n",
            "Requirement already satisfied: python-dateutil>=2.7 in /usr/local/lib/python3.10/dist-packages (from matplotlib) (2.8.2)\n",
            "Requirement already satisfied: six>=1.5 in /usr/local/lib/python3.10/dist-packages (from python-dateutil>=2.7->matplotlib) (1.16.0)\n",
            "Downloading matplotlib-3.9.3-cp310-cp310-manylinux_2_17_x86_64.manylinux2014_x86_64.whl (8.3 MB)\n",
            "\u001b[2K   \u001b[90m━━━━━━━━━━━━━━━━━━━━━━━━━━━━━━━━━━━━━━━━\u001b[0m \u001b[32m8.3/8.3 MB\u001b[0m \u001b[31m69.2 MB/s\u001b[0m eta \u001b[36m0:00:00\u001b[0m\n",
            "\u001b[?25hInstalling collected packages: matplotlib\n",
            "  Attempting uninstall: matplotlib\n",
            "    Found existing installation: matplotlib 3.8.0\n",
            "    Uninstalling matplotlib-3.8.0:\n",
            "      Successfully uninstalled matplotlib-3.8.0\n",
            "Successfully installed matplotlib-3.9.3\n"
          ]
        }
      ]
    },
    {
      "cell_type": "code",
      "execution_count": 40,
      "id": "ObQ3l3CcYoCe",
      "metadata": {
        "id": "ObQ3l3CcYoCe",
        "colab": {
          "base_uri": "https://localhost:8080/",
          "height": 467
        },
        "outputId": "7a25582d-5882-4ebd-fe70-e3f7b34388c3"
      },
      "outputs": [
        {
          "output_type": "stream",
          "name": "stderr",
          "text": [
            "<ipython-input-40-b1d7df56a54f>:5: ExperimentalWarning: plot_optimization_history is experimental (supported from v2.2.0). The interface can change in the future.\n",
            "  plot_optimization_history(trial)\n"
          ]
        },
        {
          "output_type": "display_data",
          "data": {
            "text/plain": [
              "<Figure size 640x480 with 1 Axes>"
            ],
            "image/png": "[encoded data removed]"
          },
          "metadata": {}
        }
      ],
      "source": [
        "from optuna.visualization.matplotlib import plot_optimization_history\n",
        "import matplotlib.pyplot as plt\n",
        "\n",
        "trial = optuna_search_tree.study_\n",
        "plot_optimization_history(trial)\n",
        "plt.show()"
      ]
    },
    {
      "cell_type": "markdown",
      "id": "6356829d-2531-449f-85c0-f35e9644b18d",
      "metadata": {
        "id": "6356829d-2531-449f-85c0-f35e9644b18d"
      },
      "source": [
        "## 4. Advanced Methods: Random Forests, SVMs, & XGBoost"
      ]
    },
    {
      "cell_type": "markdown",
      "source": [
        "To expand, we will experiment with more advanced methods to see if we can build a stronger model using the strengths we have already discovered."
      ],
      "metadata": {
        "id": "9zKU1eNIrsvX"
      },
      "id": "9zKU1eNIrsvX"
    },
    {
      "cell_type": "markdown",
      "id": "BQHgGzKGYe3b",
      "metadata": {
        "id": "BQHgGzKGYe3b"
      },
      "source": [
        "### RandomForest"
      ]
    },
    {
      "cell_type": "markdown",
      "source": [
        "**RandomForests** aggregate multiple DecisionTrees to improve prediction accuracy and control overfitting. It uses bagging to randomly select the data with replacement, ensuring robustness and coverage across trees. We will try it with default values first."
      ],
      "metadata": {
        "id": "8qKwmnzVw33z"
      },
      "id": "8qKwmnzVw33z"
    },
    {
      "cell_type": "code",
      "source": [
        "from sklearn.ensemble import RandomForestClassifier\n",
        "\n",
        "rf_clf = RandomForestClassifier(random_state=NIU)\n",
        "\n",
        "start = time.time()\n",
        "rf_clf.fit(X_train, y_train)\n",
        "end = time.time()\n",
        "\n",
        "y_pred = rf_clf.predict(X_test)\n",
        "acc = metrics.accuracy_score(y_test, y_pred)\n",
        "conf_int_RF = proportion_confint(len(y_test) * acc, len(y_test), method=\"wilson\")\n",
        "RF_execution_time = end-start\n",
        "\n",
        "print(f\"Accuracy of the default RandomForest model: {round(acc*100,4)}%\")\n",
        "print(f\"Execution time: {end-start:.2f}s\")\n",
        "scores.loc[len(scores)] = [acc, conf_int_RF,\"Default RF\", RF_execution_time]"
      ],
      "metadata": {
        "id": "v5J4o74exeJY",
        "colab": {
          "base_uri": "https://localhost:8080/"
        },
        "outputId": "a77263a6-fe0e-4838-8d26-f6c7d3cc7720"
      },
      "id": "v5J4o74exeJY",
      "execution_count": 41,
      "outputs": [
        {
          "output_type": "stream",
          "name": "stdout",
          "text": [
            "Accuracy of the default RandomForest model: 93.2773%\n",
            "Execution time: 0.44s\n"
          ]
        }
      ]
    },
    {
      "cell_type": "markdown",
      "source": [
        "Now, with HPO, adding \"n_estimators\" to control how many trees are in the forest and \"max_features\" for the number of features considered for splitting at each node. We will also reduce the budget based on our previous code."
      ],
      "metadata": {
        "id": "02iguXM9yz5B"
      },
      "id": "02iguXM9yz5B"
    },
    {
      "cell_type": "code",
      "execution_count": 42,
      "id": "mzL0OCAL7dOc",
      "metadata": {
        "id": "mzL0OCAL7dOc"
      },
      "outputs": [],
      "source": [
        "param_optuna_rf = {\n",
        "    \"max_depth\": IntDist(2, 32),\n",
        "    \"min_samples_split\": IntDist(2, 100),\n",
        "    \"max_features\": IntDist(3,10),\n",
        "    \"n_estimators\": IntDist(50, 300)\n",
        "}"
      ]
    },
    {
      "cell_type": "code",
      "execution_count": 43,
      "id": "SWe6xjlSs3hr",
      "metadata": {
        "id": "SWe6xjlSs3hr",
        "colab": {
          "base_uri": "https://localhost:8080/"
        },
        "outputId": "5c31e18a-6b94-4dee-825a-50f013411840"
      },
      "outputs": [
        {
          "output_type": "stream",
          "name": "stderr",
          "text": [
            "<ipython-input-43-cba02ba11e56>:2: ExperimentalWarning: OptunaSearchCV is experimental (supported from v0.17.0). The interface can change in the future.\n",
            "  optuna_rf_clf = optuna.integration.OptunaSearchCV(RandomForestClassifier(),\n",
            "[I 2024-12-02 22:27:58,490] A new study created in memory with name: no-name-2890edc9-c7d6-4151-8ded-2ef490974cb4\n",
            "INFO:optuna_integration.sklearn.sklearn:Searching the best hyperparameters using 1069 samples...\n",
            "[I 2024-12-02 22:27:59,663] Trial 0 finished with value: 0.863459260234303 and parameters: {'max_depth': 9, 'min_samples_split': 8, 'max_features': 3, 'n_estimators': 84}. Best is trial 0 with value: 0.863459260234303.\n",
            "[I 2024-12-02 22:28:04,516] Trial 1 finished with value: 0.8110833223640912 and parameters: {'max_depth': 19, 'min_samples_split': 30, 'max_features': 10, 'n_estimators': 102}. Best is trial 0 with value: 0.863459260234303.\n",
            "[I 2024-12-02 22:28:12,541] Trial 2 finished with value: 0.7661927954016937 and parameters: {'max_depth': 20, 'min_samples_split': 50, 'max_features': 7, 'n_estimators': 269}. Best is trial 0 with value: 0.863459260234303.\n",
            "[I 2024-12-02 22:28:20,556] Trial 3 finished with value: 0.7773989732789259 and parameters: {'max_depth': 5, 'min_samples_split': 12, 'max_features': 10, 'n_estimators': 182}. Best is trial 0 with value: 0.863459260234303.\n",
            "[I 2024-12-02 22:28:25,935] Trial 4 finished with value: 0.732486507832039 and parameters: {'max_depth': 15, 'min_samples_split': 88, 'max_features': 6, 'n_estimators': 182}. Best is trial 0 with value: 0.863459260234303.\n",
            "[I 2024-12-02 22:28:31,156] Trial 5 finished with value: 0.7858233513228905 and parameters: {'max_depth': 29, 'min_samples_split': 34, 'max_features': 10, 'n_estimators': 72}. Best is trial 0 with value: 0.863459260234303.\n",
            "[I 2024-12-02 22:28:36,656] Trial 6 finished with value: 0.827914527664429 and parameters: {'max_depth': 28, 'min_samples_split': 21, 'max_features': 4, 'n_estimators': 103}. Best is trial 0 with value: 0.863459260234303.\n",
            "[I 2024-12-02 22:28:42,323] Trial 7 finished with value: 0.7362292132859463 and parameters: {'max_depth': 26, 'min_samples_split': 70, 'max_features': 8, 'n_estimators': 139}. Best is trial 0 with value: 0.863459260234303.\n",
            "[I 2024-12-02 22:28:52,498] Trial 8 finished with value: 0.8821727875038393 and parameters: {'max_depth': 20, 'min_samples_split': 9, 'max_features': 7, 'n_estimators': 234}. Best is trial 8 with value: 0.8821727875038393.\n",
            "[I 2024-12-02 22:28:55,262] Trial 9 finished with value: 0.7324865078320391 and parameters: {'max_depth': 29, 'min_samples_split': 79, 'max_features': 6, 'n_estimators': 111}. Best is trial 8 with value: 0.8821727875038393.\n",
            "[I 2024-12-02 22:28:59,433] Trial 10 finished with value: 0.7614935720240446 and parameters: {'max_depth': 12, 'min_samples_split': 53, 'max_features': 8, 'n_estimators': 268}. Best is trial 8 with value: 0.8821727875038393.\n",
            "[I 2024-12-02 22:29:02,249] Trial 11 finished with value: 0.805484621122373 and parameters: {'max_depth': 6, 'min_samples_split': 2, 'max_features': 3, 'n_estimators': 225}. Best is trial 8 with value: 0.8821727875038393.\n",
            "[I 2024-12-02 22:29:02,949] Trial 12 finished with value: 0.886836909306305 and parameters: {'max_depth': 11, 'min_samples_split': 4, 'max_features': 5, 'n_estimators': 50}. Best is trial 12 with value: 0.886836909306305.\n",
            "[I 2024-12-02 22:29:05,487] Trial 13 finished with value: 0.7783598788995656 and parameters: {'max_depth': 23, 'min_samples_split': 42, 'max_features': 5, 'n_estimators': 228}. Best is trial 12 with value: 0.886836909306305.\n",
            "[I 2024-12-02 22:29:08,207] Trial 14 finished with value: 0.8363389057083938 and parameters: {'max_depth': 14, 'min_samples_split': 20, 'max_features': 5, 'n_estimators': 226}. Best is trial 12 with value: 0.886836909306305.\n",
            "[I 2024-12-02 22:29:13,101] Trial 15 finished with value: 0.8241937606950112 and parameters: {'max_depth': 10, 'min_samples_split': 22, 'max_features': 8, 'n_estimators': 297}. Best is trial 12 with value: 0.886836909306305.\n",
            "[I 2024-12-02 22:29:14,912] Trial 16 finished with value: 0.6988197095344655 and parameters: {'max_depth': 2, 'min_samples_split': 2, 'max_features': 7, 'n_estimators': 154}. Best is trial 12 with value: 0.886836909306305.\n",
            "[I 2024-12-02 22:29:15,460] Trial 17 finished with value: 0.7165854942740555 and parameters: {'max_depth': 17, 'min_samples_split': 99, 'max_features': 5, 'n_estimators': 50}. Best is trial 12 with value: 0.886836909306305.\n",
            "[I 2024-12-02 22:29:17,489] Trial 18 finished with value: 0.7502830064499145 and parameters: {'max_depth': 24, 'min_samples_split': 64, 'max_features': 4, 'n_estimators': 203}. Best is trial 12 with value: 0.886836909306305.\n",
            "[I 2024-12-02 22:29:19,644] Trial 19 finished with value: 0.855043657584134 and parameters: {'max_depth': 32, 'min_samples_split': 14, 'max_features': 9, 'n_estimators': 136}. Best is trial 12 with value: 0.886836909306305.\n",
            "[I 2024-12-02 22:29:22,862] Trial 20 finished with value: 0.7970426922908166 and parameters: {'max_depth': 21, 'min_samples_split': 31, 'max_features': 6, 'n_estimators': 265}. Best is trial 12 with value: 0.886836909306305.\n",
            "[I 2024-12-02 22:29:23,496] Trial 21 finished with value: 0.8494317932517221 and parameters: {'max_depth': 9, 'min_samples_split': 9, 'max_features': 3, 'n_estimators': 54}. Best is trial 12 with value: 0.886836909306305.\n",
            "[I 2024-12-02 22:29:24,665] Trial 22 finished with value: 0.8354087139660393 and parameters: {'max_depth': 8, 'min_samples_split': 8, 'max_features': 4, 'n_estimators': 78}. Best is trial 12 with value: 0.886836909306305.\n",
            "[I 2024-12-02 22:29:26,046] Trial 23 finished with value: 0.8241674345136237 and parameters: {'max_depth': 12, 'min_samples_split': 19, 'max_features': 3, 'n_estimators': 77}. Best is trial 12 with value: 0.886836909306305.\n",
            "[I 2024-12-02 22:29:28,410] Trial 24 finished with value: 0.8961958667895221 and parameters: {'max_depth': 16, 'min_samples_split': 3, 'max_features': 7, 'n_estimators': 123}. Best is trial 24 with value: 0.8961958667895221.\n",
            "INFO:optuna_integration.sklearn.sklearn:Finished hyperparameter search!\n",
            "INFO:optuna_integration.sklearn.sklearn:Refitting the estimator using 1069 samples...\n",
            "INFO:optuna_integration.sklearn.sklearn:Finished refitting! (elapsed time: 0.524 sec.)\n"
          ]
        },
        {
          "output_type": "stream",
          "name": "stdout",
          "text": [
            "Accuracy of the RandomForest model with Optuna HPO: 93.5574%\n",
            "Confidence Interval: (0.9051848782553078, 0.9566894779132253)\n",
            "Best Hyperparameters: {'max_depth': 16, 'min_samples_split': 3, 'max_features': 7, 'n_estimators': 123}\n",
            "Execution time: 90.46s\n"
          ]
        }
      ],
      "source": [
        "opt_budget = 25\n",
        "optuna_rf_clf = optuna.integration.OptunaSearchCV(RandomForestClassifier(),\n",
        "                                                  param_optuna_rf,\n",
        "                                                  scoring='accuracy',\n",
        "                                                  n_trials=opt_budget,\n",
        "                                                  n_jobs=1, verbose=1,\n",
        "                                                  timeout=600,\n",
        "                                                  random_state=NIU,\n",
        "                                                  refit=True)\n",
        "\n",
        "start = time.time()\n",
        "optuna_rf_clf.fit(X_train, y_train)\n",
        "end = time.time()\n",
        "\n",
        "y_pred = optuna_rf_clf.predict(X_test)\n",
        "acc = metrics.accuracy_score(y_test, y_pred)\n",
        "conf_int_RF = proportion_confint(len(y_test) * acc, len(y_test), method=\"wilson\")\n",
        "RF_execution_time = end-start\n",
        "\n",
        "print(f\"Accuracy of the RandomForest model with Optuna HPO: {round(acc*100,4)}%\")\n",
        "print(f\"Confidence Interval: {proportion_confint(len(y_test) * acc, len(y_test), method='wilson')}\")\n",
        "print(f\"Best Hyperparameters: {optuna_rf_clf.best_params_}\")\n",
        "print(f\"Execution time: {end-start:.2f}s\")\n",
        "scores.loc[len(scores)] = [acc, conf_int_RF,\"Optuna RF\", RF_execution_time]"
      ]
    },
    {
      "cell_type": "markdown",
      "id": "Zv7pH4VplG-K",
      "metadata": {
        "id": "Zv7pH4VplG-K"
      },
      "source": [
        "### SVM"
      ]
    },
    {
      "cell_type": "markdown",
      "source": [
        "**Support Vector Machines (SVM)** find the optimal hyperplane that divides data points from different classes with the maximum margin by employing kernels."
      ],
      "metadata": {
        "id": "WqY8hifj2Njl"
      },
      "id": "WqY8hifj2Njl"
    },
    {
      "cell_type": "code",
      "source": [
        "from sklearn.svm import SVC\n",
        "\n",
        "svc_clf = SVC(random_state=NIU)\n",
        "\n",
        "start = time.time()\n",
        "svc_clf.fit(X_train, y_train)\n",
        "end = time.time()\n",
        "\n",
        "y_pred = svc_clf.predict(X_test)\n",
        "acc = metrics.accuracy_score(y_test, y_pred)\n",
        "conf_int_SVM = proportion_confint(len(y_test) * acc, len(y_test), method=\"wilson\")\n",
        "SVM_execution_time = end-start\n",
        "\n",
        "print(f\"Accuracy of the default SVM model: {round(acc*100,4)}%\")\n",
        "print(f\"Execution time: {end-start:.2f}s\")\n",
        "scores.loc[len(scores)] = [acc, conf_int_SVM,\"Default SVM\", SVM_execution_time]"
      ],
      "metadata": {
        "id": "vzgsihmx2DMS",
        "colab": {
          "base_uri": "https://localhost:8080/"
        },
        "outputId": "7240135c-b002-4d13-db13-304bc7ac566d"
      },
      "id": "vzgsihmx2DMS",
      "execution_count": 44,
      "outputs": [
        {
          "output_type": "stream",
          "name": "stdout",
          "text": [
            "Accuracy of the default SVM model: 50.9804%\n",
            "Execution time: 0.11s\n"
          ]
        }
      ]
    },
    {
      "cell_type": "markdown",
      "id": "2nFsIZkWM1BV",
      "metadata": {
        "id": "2nFsIZkWM1BV"
      },
      "source": [
        "Given our lack of exposure, we used ChatGPT to assemble reasonable distributions for the hyperparamaters in an SVM model. We first prompted it about common hyperparameters modified, then provided our previous code to construct a Python code sequence, seen below. However, we noted that the runtime is unaccaptably long, so we put the code between brackets for this project."
      ]
    },
    {
      "cell_type": "markdown",
      "source": [
        "We decided to comment out this section due to how long the execution time is."
      ],
      "metadata": {
        "id": "bvGdmIGLjOZE"
      },
      "id": "bvGdmIGLjOZE"
    },
    {
      "cell_type": "code",
      "execution_count": 45,
      "id": "o6hgYnhJL7xd",
      "metadata": {
        "id": "o6hgYnhJL7xd",
        "colab": {
          "base_uri": "https://localhost:8080/",
          "height": 105
        },
        "outputId": "bdb94e42-e28b-45ec-d52e-b4ce6c08d89c"
      },
      "outputs": [
        {
          "output_type": "execute_result",
          "data": {
            "text/plain": [
              "\"from optuna.distributions import FloatDistribution as FltDist\\n\\nparam_optuna_svm = {\\n    'C': FltDist(1e-5, 1e5),  # Regularization parameter C (log scale)\\n    'kernel': CatDist(['linear', 'poly', 'sigmoid']),  # Kernel choice -> without RBF ci\\n    'gamma': CatDist(['scale', 'auto']),  # 'scale' or 'auto' for RBF, poly, and sigmoid kernels\\n}\""
            ],
            "application/vnd.google.colaboratory.intrinsic+json": {
              "type": "string"
            }
          },
          "metadata": {},
          "execution_count": 45
        }
      ],
      "source": [
        "'''from optuna.distributions import FloatDistribution as FltDist\n",
        "\n",
        "param_optuna_svm = {\n",
        "    'C': FltDist(1e-5, 1e5),  # Regularization parameter C (log scale)\n",
        "    'kernel': CatDist(['linear', 'poly', 'sigmoid']),  # Kernel choice -> without RBF ci\n",
        "    'gamma': CatDist(['scale', 'auto']),  # 'scale' or 'auto' for RBF, poly, and sigmoid kernels\n",
        "}'''"
      ]
    },
    {
      "cell_type": "code",
      "execution_count": 46,
      "id": "Y5VTh64DlIOr",
      "metadata": {
        "id": "Y5VTh64DlIOr",
        "colab": {
          "base_uri": "https://localhost:8080/",
          "height": 209
        },
        "outputId": "df87a4c6-34e3-4b98-9d9c-ffebbb444662"
      },
      "outputs": [
        {
          "output_type": "execute_result",
          "data": {
            "text/plain": [
              "'optuna_svm_clf = optuna.integration.OptunaSearchCV(SVC(),\\n                                                    param_optuna_svm,\\n                                                    scoring=\\'accuracy\\',\\n                                                    n_trials=opt_budget,\\n                                                    n_jobs=1, verbose=1,\\n                                                    timeout=600,\\n                                                    random_state=NIU,\\n                                                    refit=True)\\nsvm_clf = SVC(random_state=NIU)\\n\\nstart = time.time()\\nsvm_clf.fit(X_train, y_train)\\nend = time.time()\\n\\ny_pred = svm_clf.predict(X_test)\\nacc = metrics.accuracy_score(y_test, y_pred)\\n\\nprint(f\"Accuracy of the SVM model with Optuna HPO: {round(acc*100,4)}%\")\\nprint(f\"Confidence Interval: {proportion_confint(len(y_test) * acc, len(y_test), method=\\'wilson\\')}\")\\nprint(f\"Execution time: {end-start:.2f}s\")\\nscores.loc[len(scores)] = [acc, \"Optuna SVM\"]'"
            ],
            "application/vnd.google.colaboratory.intrinsic+json": {
              "type": "string"
            }
          },
          "metadata": {},
          "execution_count": 46
        }
      ],
      "source": [
        "'''optuna_svm_clf = optuna.integration.OptunaSearchCV(SVC(),\n",
        "                                                    param_optuna_svm,\n",
        "                                                    scoring='accuracy',\n",
        "                                                    n_trials=opt_budget,\n",
        "                                                    n_jobs=1, verbose=1,\n",
        "                                                    timeout=600,\n",
        "                                                    random_state=NIU,\n",
        "                                                    refit=True)\n",
        "svm_clf = SVC(random_state=NIU)\n",
        "\n",
        "start = time.time()\n",
        "svm_clf.fit(X_train, y_train)\n",
        "end = time.time()\n",
        "\n",
        "y_pred = svm_clf.predict(X_test)\n",
        "acc = metrics.accuracy_score(y_test, y_pred)\n",
        "\n",
        "print(f\"Accuracy of the SVM model with Optuna HPO: {round(acc*100,4)}%\")\n",
        "print(f\"Confidence Interval: {proportion_confint(len(y_test) * acc, len(y_test), method='wilson')}\")\n",
        "print(f\"Execution time: {end-start:.2f}s\")\n",
        "scores.loc[len(scores)] = [acc, \"Optuna SVM\"]'''"
      ]
    },
    {
      "cell_type": "markdown",
      "id": "WhnfjiXwYmTP",
      "metadata": {
        "id": "WhnfjiXwYmTP"
      },
      "source": [
        "### XGBoost"
      ]
    },
    {
      "cell_type": "markdown",
      "source": [
        "**XGBoost** is an implementation of the gradient boosting algorithm that corrects the errors of previous models and uses boosting to iteratively improve weak learners. Again, we used ChatGPT to aid with model development and hyperparameter distributions."
      ],
      "metadata": {
        "id": "_zukzy8L4alk"
      },
      "id": "_zukzy8L4alk"
    },
    {
      "cell_type": "code",
      "source": [
        "from xgboost import XGBClassifier\n",
        "\n",
        "# XGBoost only works with numerical values, so we convert categorical labels to numeric (0 and 1)\n",
        "y_trainXG = y_train.map({'No': 0, 'Yes': 1})\n",
        "y_testXG = y_test.map({'No': 0, 'Yes': 1})\n",
        "\n",
        "xgb_clf = XGBClassifier(random_state=NIU)\n",
        "\n",
        "start = time.time()\n",
        "xgb_clf.fit(X_train, y_trainXG)\n",
        "end = time.time()\n",
        "\n",
        "y_pred = xgb_clf.predict(X_test)\n",
        "acc = metrics.accuracy_score(y_testXG, y_pred)\n",
        "conf_int_XGB = proportion_confint(len(y_test) * acc, len(y_test), method=\"wilson\")\n",
        "XGB_execution_time = end-start\n",
        "\n",
        "\n",
        "print(f\"Accuracy of the default SVM model: {round(acc*100,4)}%\")\n",
        "print(f\"Execution time: {end-start:.2f}s\")\n",
        "scores.loc[len(scores)] = [acc, conf_int_XGB,\"Default XGBoost\", XGB_execution_time]"
      ],
      "metadata": {
        "id": "LUuKod1-4a8v",
        "colab": {
          "base_uri": "https://localhost:8080/"
        },
        "outputId": "9b94db74-9de1-4590-9fef-6bb08d159011"
      },
      "id": "LUuKod1-4a8v",
      "execution_count": 47,
      "outputs": [
        {
          "output_type": "stream",
          "name": "stdout",
          "text": [
            "Accuracy of the default SVM model: 92.7171%\n",
            "Execution time: 1.06s\n"
          ]
        }
      ]
    },
    {
      "cell_type": "code",
      "execution_count": 48,
      "id": "FFGkp2CrOp2o",
      "metadata": {
        "id": "FFGkp2CrOp2o"
      },
      "outputs": [],
      "source": [
        "from optuna.distributions import FloatDistribution as FltDist\n",
        "param_optuna_xgb = {\n",
        "    'n_estimators': IntDist(50, 300),     # Boosting rounds (higher values improve performance but increase training time)\n",
        "    'max_depth': IntDist(3, 10),          # Controls model complexity (balance between underfitting and overfitting)\n",
        "    'learning_rate': FltDist(0.01, 0.3),  # Lower values require more boosting rounds; typically 0.1 or lower\n",
        "    'subsample': FltDist(0.6, 1),         # Helps prevent overfitting by using a subset of data\n",
        "    'colsample_bytree': FltDist(0.6, 1),  # Controls feature sampling (helps reduce overfitting)\n",
        "}"
      ]
    },
    {
      "cell_type": "code",
      "execution_count": 49,
      "id": "eGMIHDLrYxEs",
      "metadata": {
        "id": "eGMIHDLrYxEs",
        "colab": {
          "base_uri": "https://localhost:8080/"
        },
        "outputId": "11f0d7e4-0c68-4327-ab20-00b8b0453365"
      },
      "outputs": [
        {
          "output_type": "stream",
          "name": "stderr",
          "text": [
            "<ipython-input-49-ebc55e2144fc>:1: ExperimentalWarning: OptunaSearchCV is experimental (supported from v0.17.0). The interface can change in the future.\n",
            "  optuna_xg_clf = optuna.integration.OptunaSearchCV(XGBClassifier(),\n",
            "[I 2024-12-02 22:29:30,664] A new study created in memory with name: no-name-e6c7431e-6bb6-4f3c-9ab7-ecf9cbe12adf\n",
            "INFO:optuna_integration.sklearn.sklearn:Searching the best hyperparameters using 1069 samples...\n",
            "[I 2024-12-02 22:29:32,056] Trial 0 finished with value: 0.7437233995875564 and parameters: {'n_estimators': 109, 'max_depth': 3, 'learning_rate': 0.018824661554805402, 'subsample': 0.6544935572451392, 'colsample_bytree': 0.8298472582221841}. Best is trial 0 with value: 0.7437233995875564.\n",
            "[I 2024-12-02 22:29:33,132] Trial 1 finished with value: 0.9036812776973366 and parameters: {'n_estimators': 122, 'max_depth': 10, 'learning_rate': 0.07049977690311085, 'subsample': 0.8418091483754582, 'colsample_bytree': 0.7940711376847844}. Best is trial 1 with value: 0.9036812776973366.\n",
            "[I 2024-12-02 22:29:34,699] Trial 2 finished with value: 0.8952612873502698 and parameters: {'n_estimators': 184, 'max_depth': 9, 'learning_rate': 0.03949715466960233, 'subsample': 0.6443901525708896, 'colsample_bytree': 0.9873341492554149}. Best is trial 1 with value: 0.9036812776973366.\n",
            "[I 2024-12-02 22:29:35,493] Trial 3 finished with value: 0.901807731121934 and parameters: {'n_estimators': 182, 'max_depth': 6, 'learning_rate': 0.2640857366816786, 'subsample': 0.7714513009539946, 'colsample_bytree': 0.8109719370015165}. Best is trial 1 with value: 0.9036812776973366.\n",
            "[I 2024-12-02 22:29:36,438] Trial 4 finished with value: 0.8971304462287744 and parameters: {'n_estimators': 276, 'max_depth': 5, 'learning_rate': 0.27181100960682797, 'subsample': 0.6361576158349607, 'colsample_bytree': 0.9364068331978698}. Best is trial 1 with value: 0.9036812776973366.\n",
            "[I 2024-12-02 22:29:36,914] Trial 5 finished with value: 0.8456715370102235 and parameters: {'n_estimators': 99, 'max_depth': 4, 'learning_rate': 0.07170516452538912, 'subsample': 0.9128143496736871, 'colsample_bytree': 0.8767695634985904}. Best is trial 1 with value: 0.9036812776973366.\n",
            "[I 2024-12-02 22:29:40,416] Trial 6 finished with value: 0.8933921284717652 and parameters: {'n_estimators': 232, 'max_depth': 5, 'learning_rate': 0.18233578523745123, 'subsample': 0.6306515215147345, 'colsample_bytree': 0.824194314402423}. Best is trial 1 with value: 0.9036812776973366.\n",
            "[I 2024-12-02 22:29:41,354] Trial 7 finished with value: 0.8989908297134834 and parameters: {'n_estimators': 234, 'max_depth': 10, 'learning_rate': 0.23627366624771917, 'subsample': 0.7949726038085672, 'colsample_bytree': 0.6976520011628329}. Best is trial 1 with value: 0.9036812776973366.\n",
            "[I 2024-12-02 22:29:42,043] Trial 8 finished with value: 0.8728006669299285 and parameters: {'n_estimators': 217, 'max_depth': 3, 'learning_rate': 0.21145676024296156, 'subsample': 0.7125439720029405, 'colsample_bytree': 0.92964452240676}. Best is trial 1 with value: 0.9036812776973366.\n",
            "[I 2024-12-02 22:29:43,051] Trial 9 finished with value: 0.8980738010618227 and parameters: {'n_estimators': 246, 'max_depth': 8, 'learning_rate': 0.1899815512060156, 'subsample': 0.7192396322081154, 'colsample_bytree': 0.6618876100491541}. Best is trial 1 with value: 0.9036812776973366.\n",
            "[I 2024-12-02 22:29:43,672] Trial 10 finished with value: 0.8961958667895221 and parameters: {'n_estimators': 52, 'max_depth': 8, 'learning_rate': 0.10331432552131761, 'subsample': 0.893891259537102, 'colsample_bytree': 0.7283343130272578}. Best is trial 1 with value: 0.9036812776973366.\n",
            "[I 2024-12-02 22:29:44,544] Trial 11 finished with value: 0.9036768900004388 and parameters: {'n_estimators': 144, 'max_depth': 7, 'learning_rate': 0.1363439383049782, 'subsample': 0.8401645951885531, 'colsample_bytree': 0.76549841383095}. Best is trial 1 with value: 0.9036812776973366.\n",
            "[I 2024-12-02 22:29:45,405] Trial 12 finished with value: 0.8943135448203238 and parameters: {'n_estimators': 131, 'max_depth': 7, 'learning_rate': 0.12425762308747222, 'subsample': 0.8584368488344897, 'colsample_bytree': 0.769295210833599}. Best is trial 1 with value: 0.9036812776973366.\n",
            "[I 2024-12-02 22:29:46,370] Trial 13 finished with value: 0.9111579132113554 and parameters: {'n_estimators': 141, 'max_depth': 10, 'learning_rate': 0.13719037443037216, 'subsample': 0.958942106659387, 'colsample_bytree': 0.7481674351252641}. Best is trial 13 with value: 0.9111579132113554.\n",
            "[I 2024-12-02 22:29:47,106] Trial 14 finished with value: 0.9027335351673906 and parameters: {'n_estimators': 69, 'max_depth': 10, 'learning_rate': 0.07694005923017846, 'subsample': 0.9949307290731089, 'colsample_bytree': 0.611334480883694}. Best is trial 13 with value: 0.9111579132113554.\n",
            "[I 2024-12-02 22:29:48,060] Trial 15 finished with value: 0.9036725023035409 and parameters: {'n_estimators': 157, 'max_depth': 9, 'learning_rate': 0.1612878583145322, 'subsample': 0.9888935524477206, 'colsample_bytree': 0.7060687505316365}. Best is trial 13 with value: 0.9111579132113554.\n",
            "[I 2024-12-02 22:29:49,004] Trial 16 finished with value: 0.9036725023035409 and parameters: {'n_estimators': 92, 'max_depth': 10, 'learning_rate': 0.0805114336923191, 'subsample': 0.9389469151096438, 'colsample_bytree': 0.8678563278347847}. Best is trial 13 with value: 0.9111579132113554.\n",
            "[I 2024-12-02 22:29:50,315] Trial 17 finished with value: 0.9092843666359528 and parameters: {'n_estimators': 130, 'max_depth': 9, 'learning_rate': 0.047210841325733555, 'subsample': 0.9552891422761057, 'colsample_bytree': 0.7576338988499701}. Best is trial 13 with value: 0.9111579132113554.\n",
            "[I 2024-12-02 22:29:54,174] Trial 18 finished with value: 0.9064762406212978 and parameters: {'n_estimators': 167, 'max_depth': 9, 'learning_rate': 0.04095248833068067, 'subsample': 0.950731939231035, 'colsample_bytree': 0.6531879577435663}. Best is trial 13 with value: 0.9111579132113554.\n",
            "[I 2024-12-02 22:29:55,353] Trial 19 finished with value: 0.9055416611820455 and parameters: {'n_estimators': 194, 'max_depth': 8, 'learning_rate': 0.11244360954922396, 'subsample': 0.9568992548522427, 'colsample_bytree': 0.7415441943419118}. Best is trial 13 with value: 0.9111579132113554.\n",
            "[I 2024-12-02 22:29:56,317] Trial 20 finished with value: 0.8746829888991268 and parameters: {'n_estimators': 81, 'max_depth': 9, 'learning_rate': 0.013429684293032464, 'subsample': 0.9016779265245458, 'colsample_bytree': 0.6711539241006538}. Best is trial 13 with value: 0.9111579132113554.\n",
            "[I 2024-12-02 22:29:57,540] Trial 21 finished with value: 0.9064850160150938 and parameters: {'n_estimators': 152, 'max_depth': 9, 'learning_rate': 0.04979913304109525, 'subsample': 0.946488135456818, 'colsample_bytree': 0.6214123367829699}. Best is trial 13 with value: 0.9111579132113554.\n",
            "[I 2024-12-02 22:29:58,645] Trial 22 finished with value: 0.8971172831380809 and parameters: {'n_estimators': 137, 'max_depth': 8, 'learning_rate': 0.04441516851568474, 'subsample': 0.9710259516535147, 'colsample_bytree': 0.6177879928879256}. Best is trial 13 with value: 0.9111579132113554.\n",
            "[I 2024-12-02 22:29:59,751] Trial 23 finished with value: 0.9120793295599141 and parameters: {'n_estimators': 157, 'max_depth': 9, 'learning_rate': 0.09811338700649763, 'subsample': 0.9248027925331067, 'colsample_bytree': 0.7464780338351065}. Best is trial 23 with value: 0.9120793295599141.\n",
            "[I 2024-12-02 22:30:00,588] Trial 24 finished with value: 0.9064894037119915 and parameters: {'n_estimators': 111, 'max_depth': 10, 'learning_rate': 0.14893840052429694, 'subsample': 0.8711434301384656, 'colsample_bytree': 0.7635934164701318}. Best is trial 23 with value: 0.9120793295599141.\n",
            "INFO:optuna_integration.sklearn.sklearn:Finished hyperparameter search!\n",
            "INFO:optuna_integration.sklearn.sklearn:Refitting the estimator using 1069 samples...\n",
            "INFO:optuna_integration.sklearn.sklearn:Finished refitting! (elapsed time: 0.229 sec.)\n"
          ]
        },
        {
          "output_type": "stream",
          "name": "stdout",
          "text": [
            "Accuracy of the XGBoost model with Optuna HPO: 94.1176%\n",
            "Confidence Interval: (0.9117523092058187, 0.9612072476851393)\n",
            "Best Hyperparameters: {'n_estimators': 157, 'max_depth': 9, 'learning_rate': 0.09811338700649763, 'subsample': 0.9248027925331067, 'colsample_bytree': 0.7464780338351065}\n",
            "Execution time: 30.17s\n"
          ]
        }
      ],
      "source": [
        "optuna_xg_clf = optuna.integration.OptunaSearchCV(XGBClassifier(),\n",
        "                                                  param_optuna_xgb,\n",
        "                                                  scoring='accuracy',\n",
        "                                                  n_trials=opt_budget,\n",
        "                                                  n_jobs=1, verbose=1,\n",
        "                                                  timeout=600,\n",
        "                                                  random_state=NIU,\n",
        "                                                  refit=True)\n",
        "\n",
        "start = time.time()\n",
        "optuna_xg_clf.fit(X_train, y_trainXG)\n",
        "end = time.time()\n",
        "\n",
        "y_pred = optuna_xg_clf.predict(X_test)\n",
        "acc = metrics.accuracy_score(y_testXG, y_pred)\n",
        "conf_int_XGB = proportion_confint(len(y_test) * acc, len(y_test), method=\"wilson\")\n",
        "XGB_execution_time = end-start\n",
        "\n",
        "print(f\"Accuracy of the XGBoost model with Optuna HPO: {round(acc*100,4)}%\")\n",
        "print(f\"Confidence Interval: {proportion_confint(len(y_testXG) * acc, len(y_testXG), method='wilson')}\")\n",
        "print(f\"Best Hyperparameters: {optuna_xg_clf.best_params_}\")\n",
        "print(f\"Execution time: {end-start:.2f}s\")\n",
        "scores.loc[len(scores)] = [acc, conf_int_XGB,\"Optuna XGBoost\", XGB_execution_time]"
      ]
    },
    {
      "cell_type": "markdown",
      "id": "789e758b-1640-430f-bbb4-2c9f867c3fe3",
      "metadata": {
        "id": "789e758b-1640-430f-bbb4-2c9f867c3fe3"
      },
      "source": [
        "## 5. Results and Final Model"
      ]
    },
    {
      "cell_type": "code",
      "source": [
        "print(\"Trial with the highest accuracy:\")\n",
        "print(scores)\n",
        "print(scores.loc[scores['Accuracy'].idxmax()])"
      ],
      "metadata": {
        "id": "j7ty0ofnAXUL",
        "colab": {
          "base_uri": "https://localhost:8080/"
        },
        "outputId": "95c167c1-98b0-4303-b324-50733f45f629"
      },
      "id": "j7ty0ofnAXUL",
      "execution_count": 50,
      "outputs": [
        {
          "output_type": "stream",
          "name": "stdout",
          "text": [
            "Trial with the highest accuracy:\n",
            "    Accuracy                             Confidence I.  \\\n",
            "0   0.661215  (0.6151183254381379, 0.7044433960715594)   \n",
            "1   0.862150   (0.826254000125583, 0.8916020409469251)   \n",
            "2   0.663866   (0.6133497471047232, 0.710892374026204)   \n",
            "3   0.865546   (0.8262419149390103, 0.897067432199212)   \n",
            "4   0.504202  (0.4525694233012901, 0.5557444772405286)   \n",
            "5   0.876751  (0.8385863370500117, 0.9068934115330605)   \n",
            "6   0.879552  (0.8416858724095998, 0.9093364765346846)   \n",
            "7   0.873950  (0.8354923232885403, 0.9044448249333195)   \n",
            "8   0.843137  (0.8017837591101722, 0.8771847851383507)   \n",
            "9   0.873950  (0.8354923232885403, 0.9044448249333195)   \n",
            "10  0.854342  (0.8139768734273197, 0.8871620722660528)   \n",
            "11  0.868347  (0.8293202540645846, 0.8995316934348502)   \n",
            "12  0.862745  (0.8231685289796234, 0.8945982177973867)   \n",
            "13  0.932773  (0.9019208854387541, 0.9544108703685665)   \n",
            "14  0.935574  (0.9051848782553078, 0.9566894779132253)   \n",
            "15  0.509804  (0.4581200340609858, 0.5612790672032576)   \n",
            "16  0.927171  (0.8954287716633132, 0.9498177834215827)   \n",
            "17  0.941176  (0.9117523092058187, 0.9612072476851393)   \n",
            "\n",
            "                       Method    Runtime  \n",
            "0                  Simple KNN   0.005117  \n",
            "1                 Simple Tree   0.011362  \n",
            "2                Improved KNN   0.007701  \n",
            "3               Improved Tree   0.014728  \n",
            "4                       Dummy   0.002060  \n",
            "5              GridSearch KNN   0.002060  \n",
            "6             GridSearch Tree   0.002060  \n",
            "7            RandomSearch KNN   1.673238  \n",
            "8           RandomSearch Tree   1.219167  \n",
            "9    RandomSearch_Sampled KNN   3.189522  \n",
            "10  RandomSearch_Sampled Tree   1.164330  \n",
            "11                 Optuna KNN  11.342410  \n",
            "12                Optuna Tree   7.979087  \n",
            "13                 Default RF   0.444555  \n",
            "14                  Optuna RF  90.461492  \n",
            "15                Default SVM   0.109708  \n",
            "16            Default XGBoost   1.062860  \n",
            "17             Optuna XGBoost  30.171631  \n",
            "Accuracy                                         0.941176\n",
            "Confidence I.    (0.9117523092058187, 0.9612072476851393)\n",
            "Method                                     Optuna XGBoost\n",
            "Runtime                                         30.171631\n",
            "Name: 17, dtype: object\n"
          ]
        }
      ]
    },
    {
      "cell_type": "markdown",
      "source": [
        "Based on accuracy scores, we found the XGBboost method, optimized with optuna, to produce the strongest classification model, while having an acceptable runtime. It will be used to build our final model."
      ],
      "metadata": {
        "id": "Z9mSbkmT1dDq"
      },
      "id": "Z9mSbkmT1dDq"
    },
    {
      "cell_type": "code",
      "execution_count": 51,
      "id": "F64hOYsWzmzw",
      "metadata": {
        "id": "F64hOYsWzmzw",
        "colab": {
          "base_uri": "https://localhost:8080/",
          "height": 992
        },
        "outputId": "74021ed4-1925-425f-d06d-712b28321c53"
      },
      "outputs": [
        {
          "output_type": "display_data",
          "data": {
            "text/plain": [
              "<Figure size 1000x700 with 1 Axes>"
            ],
            "image/png": "[encoded data removed]"
          },
          "metadata": {}
        },
        {
          "output_type": "stream",
          "name": "stderr",
          "text": [
            "<ipython-input-51-360cd2d0408b>:19: ExperimentalWarning: plot_param_importances is experimental (supported from v2.2.0). The interface can change in the future.\n",
            "  plot_param_importances(trial)\n"
          ]
        },
        {
          "output_type": "display_data",
          "data": {
            "text/plain": [
              "<Figure size 2500x2000 with 0 Axes>"
            ]
          },
          "metadata": {}
        },
        {
          "output_type": "display_data",
          "data": {
            "text/plain": [
              "<Figure size 640x480 with 1 Axes>"
            ],
            "image/png": "[encoded data removed]"
          },
          "metadata": {}
        }
      ],
      "source": [
        "import seaborn as sns\n",
        "\n",
        "importances = optuna_xg_clf.best_estimator_.feature_importances_\n",
        "indices = np.argsort(importances)[::-1]\n",
        "\n",
        "plt.figure(figsize=(10,7))\n",
        "plt.title(\"Feature Importances in predicting employee attrition\")\n",
        "plt.bar(range(X.shape[1]), importances[indices])\n",
        "plt.xticks(range(X.shape[1]), [feature_names[i] for i in indices], rotation=90)\n",
        "plt.tight_layout()\n",
        "plt.show()\n",
        "\n",
        "from optuna.visualization.matplotlib import plot_param_importances\n",
        "fig = plt.figure(figsize=(25,20))\n",
        "trial = optuna_xg_clf.study_\n",
        "plot_param_importances(trial)\n",
        "plt.show()"
      ]
    },
    {
      "cell_type": "markdown",
      "source": [
        "### Training of the final model on the full dataset\n"
      ],
      "metadata": {
        "id": "XVe2z8geS-W3"
      },
      "id": "XVe2z8geS-W3"
    },
    {
      "cell_type": "markdown",
      "source": [
        "Now we will train our model against using the entire training set, using the best hyperparameters found from Optuna."
      ],
      "metadata": {
        "id": "GY2QwoY8f_UM"
      },
      "id": "GY2QwoY8f_UM"
    },
    {
      "cell_type": "code",
      "source": [
        "print(optuna_xg_clf.best_params_)"
      ],
      "metadata": {
        "colab": {
          "base_uri": "https://localhost:8080/"
        },
        "id": "gerqOBrRhB6V",
        "outputId": "5277e1eb-3fb3-4575-c90b-89a80abd2fba"
      },
      "id": "gerqOBrRhB6V",
      "execution_count": 59,
      "outputs": [
        {
          "output_type": "stream",
          "name": "stdout",
          "text": [
            "{'n_estimators': 261, 'max_depth': 7, 'learning_rate': 0.19646376239990151, 'subsample': 0.7065456737968283, 'colsample_bytree': 0.7425789859548375}\n"
          ]
        }
      ]
    },
    {
      "cell_type": "code",
      "source": [
        "final_model = xgboost_model = XGBClassifier(\n",
        "    n_estimators=optuna_xg_clf.best_params_['n_estimators'],\n",
        "    max_depth=optuna_xg_clf.best_params_['max_depth'],\n",
        "    learning_rate=optuna_xg_clf.best_params_['learning_rate'],\n",
        "    subsample=optuna_xg_clf.best_params_['subsample'],\n",
        "    colsample_bytree=optuna_xg_clf.best_params_['colsample_bytree'],\n",
        "    random_state=NIU)\n",
        "\n",
        "y_XG = y.map({'No': 0, 'Yes': 1})\n",
        "\n",
        "start = time.time()\n",
        "final_model.fit(X, y_XG)\n",
        "end = time.time()\n",
        "\n",
        "print(f\"Execution time: {end-start}s\")"
      ],
      "metadata": {
        "colab": {
          "base_uri": "https://localhost:8080/",
          "height": 257
        },
        "id": "tfrZ5Ip3gP9U",
        "outputId": "91fc63a3-1f8d-4049-bdb0-ec74ff4a94d3"
      },
      "id": "tfrZ5Ip3gP9U",
      "execution_count": 58,
      "outputs": [
        {
          "output_type": "execute_result",
          "data": {
            "text/plain": [
              "XGBClassifier(base_score=None, booster=None, callbacks=None,\n",
              "              colsample_bylevel=None, colsample_bynode=None,\n",
              "              colsample_bytree=0.7425789859548375, device=None,\n",
              "              early_stopping_rounds=None, enable_categorical=False,\n",
              "              eval_metric=None, feature_types=None, gamma=None,\n",
              "              grow_policy=None, importance_type=None,\n",
              "              interaction_constraints=None, learning_rate=0.19646376239990151,\n",
              "              max_bin=None, max_cat_threshold=None, max_cat_to_onehot=None,\n",
              "              max_delta_step=None, max_depth=7, max_leaves=None,\n",
              "              min_child_weight=None, missing=nan, monotone_constraints=None,\n",
              "              multi_strategy=None, n_estimators=261, n_jobs=None,\n",
              "              num_parallel_tree=None, random_state=100547834, ...)"
            ],
            "text/html": [
              "<style>#sk-container-id-2 {\n",
              "  /* Definition of color scheme common for light and dark mode */\n",
              "  --sklearn-color-text: black;\n",
              "  --sklearn-color-line: gray;\n",
              "  /* Definition of color scheme for unfitted estimators */\n",
              "  --sklearn-color-unfitted-level-0: #fff5e6;\n",
              "  --sklearn-color-unfitted-level-1: #f6e4d2;\n",
              "  --sklearn-color-unfitted-level-2: #ffe0b3;\n",
              "  --sklearn-color-unfitted-level-3: chocolate;\n",
              "  /* Definition of color scheme for fitted estimators */\n",
              "  --sklearn-color-fitted-level-0: #f0f8ff;\n",
              "  --sklearn-color-fitted-level-1: #d4ebff;\n",
              "  --sklearn-color-fitted-level-2: #b3dbfd;\n",
              "  --sklearn-color-fitted-level-3: cornflowerblue;\n",
              "\n",
              "  /* Specific color for light theme */\n",
              "  --sklearn-color-text-on-default-background: var(--sg-text-color, var(--theme-code-foreground, var(--jp-content-font-color1, black)));\n",
              "  --sklearn-color-background: var(--sg-background-color, var(--theme-background, var(--jp-layout-color0, white)));\n",
              "  --sklearn-color-border-box: var(--sg-text-color, var(--theme-code-foreground, var(--jp-content-font-color1, black)));\n",
              "  --sklearn-color-icon: #696969;\n",
              "\n",
              "  @media (prefers-color-scheme: dark) {\n",
              "    /* Redefinition of color scheme for dark theme */\n",
              "    --sklearn-color-text-on-default-background: var(--sg-text-color, var(--theme-code-foreground, var(--jp-content-font-color1, white)));\n",
              "    --sklearn-color-background: var(--sg-background-color, var(--theme-background, var(--jp-layout-color0, #111)));\n",
              "    --sklearn-color-border-box: var(--sg-text-color, var(--theme-code-foreground, var(--jp-content-font-color1, white)));\n",
              "    --sklearn-color-icon: #878787;\n",
              "  }\n",
              "}\n",
              "\n",
              "#sk-container-id-2 {\n",
              "  color: var(--sklearn-color-text);\n",
              "}\n",
              "\n",
              "#sk-container-id-2 pre {\n",
              "  padding: 0;\n",
              "}\n",
              "\n",
              "#sk-container-id-2 input.sk-hidden--visually {\n",
              "  border: 0;\n",
              "  clip: rect(1px 1px 1px 1px);\n",
              "  clip: rect(1px, 1px, 1px, 1px);\n",
              "  height: 1px;\n",
              "  margin: -1px;\n",
              "  overflow: hidden;\n",
              "  padding: 0;\n",
              "  position: absolute;\n",
              "  width: 1px;\n",
              "}\n",
              "\n",
              "#sk-container-id-2 div.sk-dashed-wrapped {\n",
              "  border: 1px dashed var(--sklearn-color-line);\n",
              "  margin: 0 0.4em 0.5em 0.4em;\n",
              "  box-sizing: border-box;\n",
              "  padding-bottom: 0.4em;\n",
              "  background-color: var(--sklearn-color-background);\n",
              "}\n",
              "\n",
              "#sk-container-id-2 div.sk-container {\n",
              "  /* jupyter's `normalize.less` sets `[hidden] { display: none; }`\n",
              "     but bootstrap.min.css set `[hidden] { display: none !important; }`\n",
              "     so we also need the `!important` here to be able to override the\n",
              "     default hidden behavior on the sphinx rendered scikit-learn.org.\n",
              "     See: https://github.com/scikit-learn/scikit-learn/issues/21755 */\n",
              "  display: inline-block !important;\n",
              "  position: relative;\n",
              "}\n",
              "\n",
              "#sk-container-id-2 div.sk-text-repr-fallback {\n",
              "  display: none;\n",
              "}\n",
              "\n",
              "div.sk-parallel-item,\n",
              "div.sk-serial,\n",
              "div.sk-item {\n",
              "  /* draw centered vertical line to link estimators */\n",
              "  background-image: linear-gradient(var(--sklearn-color-text-on-default-background), var(--sklearn-color-text-on-default-background));\n",
              "  background-size: 2px 100%;\n",
              "  background-repeat: no-repeat;\n",
              "  background-position: center center;\n",
              "}\n",
              "\n",
              "/* Parallel-specific style estimator block */\n",
              "\n",
              "#sk-container-id-2 div.sk-parallel-item::after {\n",
              "  content: \"\";\n",
              "  width: 100%;\n",
              "  border-bottom: 2px solid var(--sklearn-color-text-on-default-background);\n",
              "  flex-grow: 1;\n",
              "}\n",
              "\n",
              "#sk-container-id-2 div.sk-parallel {\n",
              "  display: flex;\n",
              "  align-items: stretch;\n",
              "  justify-content: center;\n",
              "  background-color: var(--sklearn-color-background);\n",
              "  position: relative;\n",
              "}\n",
              "\n",
              "#sk-container-id-2 div.sk-parallel-item {\n",
              "  display: flex;\n",
              "  flex-direction: column;\n",
              "}\n",
              "\n",
              "#sk-container-id-2 div.sk-parallel-item:first-child::after {\n",
              "  align-self: flex-end;\n",
              "  width: 50%;\n",
              "}\n",
              "\n",
              "#sk-container-id-2 div.sk-parallel-item:last-child::after {\n",
              "  align-self: flex-start;\n",
              "  width: 50%;\n",
              "}\n",
              "\n",
              "#sk-container-id-2 div.sk-parallel-item:only-child::after {\n",
              "  width: 0;\n",
              "}\n",
              "\n",
              "/* Serial-specific style estimator block */\n",
              "\n",
              "#sk-container-id-2 div.sk-serial {\n",
              "  display: flex;\n",
              "  flex-direction: column;\n",
              "  align-items: center;\n",
              "  background-color: var(--sklearn-color-background);\n",
              "  padding-right: 1em;\n",
              "  padding-left: 1em;\n",
              "}\n",
              "\n",
              "\n",
              "/* Toggleable style: style used for estimator/Pipeline/ColumnTransformer box that is\n",
              "clickable and can be expanded/collapsed.\n",
              "- Pipeline and ColumnTransformer use this feature and define the default style\n",
              "- Estimators will overwrite some part of the style using the `sk-estimator` class\n",
              "*/\n",
              "\n",
              "/* Pipeline and ColumnTransformer style (default) */\n",
              "\n",
              "#sk-container-id-2 div.sk-toggleable {\n",
              "  /* Default theme specific background. It is overwritten whether we have a\n",
              "  specific estimator or a Pipeline/ColumnTransformer */\n",
              "  background-color: var(--sklearn-color-background);\n",
              "}\n",
              "\n",
              "/* Toggleable label */\n",
              "#sk-container-id-2 label.sk-toggleable__label {\n",
              "  cursor: pointer;\n",
              "  display: block;\n",
              "  width: 100%;\n",
              "  margin-bottom: 0;\n",
              "  padding: 0.5em;\n",
              "  box-sizing: border-box;\n",
              "  text-align: center;\n",
              "}\n",
              "\n",
              "#sk-container-id-2 label.sk-toggleable__label-arrow:before {\n",
              "  /* Arrow on the left of the label */\n",
              "  content: \"▸\";\n",
              "  float: left;\n",
              "  margin-right: 0.25em;\n",
              "  color: var(--sklearn-color-icon);\n",
              "}\n",
              "\n",
              "#sk-container-id-2 label.sk-toggleable__label-arrow:hover:before {\n",
              "  color: var(--sklearn-color-text);\n",
              "}\n",
              "\n",
              "/* Toggleable content - dropdown */\n",
              "\n",
              "#sk-container-id-2 div.sk-toggleable__content {\n",
              "  max-height: 0;\n",
              "  max-width: 0;\n",
              "  overflow: hidden;\n",
              "  text-align: left;\n",
              "  /* unfitted */\n",
              "  background-color: var(--sklearn-color-unfitted-level-0);\n",
              "}\n",
              "\n",
              "#sk-container-id-2 div.sk-toggleable__content.fitted {\n",
              "  /* fitted */\n",
              "  background-color: var(--sklearn-color-fitted-level-0);\n",
              "}\n",
              "\n",
              "#sk-container-id-2 div.sk-toggleable__content pre {\n",
              "  margin: 0.2em;\n",
              "  border-radius: 0.25em;\n",
              "  color: var(--sklearn-color-text);\n",
              "  /* unfitted */\n",
              "  background-color: var(--sklearn-color-unfitted-level-0);\n",
              "}\n",
              "\n",
              "#sk-container-id-2 div.sk-toggleable__content.fitted pre {\n",
              "  /* unfitted */\n",
              "  background-color: var(--sklearn-color-fitted-level-0);\n",
              "}\n",
              "\n",
              "#sk-container-id-2 input.sk-toggleable__control:checked~div.sk-toggleable__content {\n",
              "  /* Expand drop-down */\n",
              "  max-height: 200px;\n",
              "  max-width: 100%;\n",
              "  overflow: auto;\n",
              "}\n",
              "\n",
              "#sk-container-id-2 input.sk-toggleable__control:checked~label.sk-toggleable__label-arrow:before {\n",
              "  content: \"▾\";\n",
              "}\n",
              "\n",
              "/* Pipeline/ColumnTransformer-specific style */\n",
              "\n",
              "#sk-container-id-2 div.sk-label input.sk-toggleable__control:checked~label.sk-toggleable__label {\n",
              "  color: var(--sklearn-color-text);\n",
              "  background-color: var(--sklearn-color-unfitted-level-2);\n",
              "}\n",
              "\n",
              "#sk-container-id-2 div.sk-label.fitted input.sk-toggleable__control:checked~label.sk-toggleable__label {\n",
              "  background-color: var(--sklearn-color-fitted-level-2);\n",
              "}\n",
              "\n",
              "/* Estimator-specific style */\n",
              "\n",
              "/* Colorize estimator box */\n",
              "#sk-container-id-2 div.sk-estimator input.sk-toggleable__control:checked~label.sk-toggleable__label {\n",
              "  /* unfitted */\n",
              "  background-color: var(--sklearn-color-unfitted-level-2);\n",
              "}\n",
              "\n",
              "#sk-container-id-2 div.sk-estimator.fitted input.sk-toggleable__control:checked~label.sk-toggleable__label {\n",
              "  /* fitted */\n",
              "  background-color: var(--sklearn-color-fitted-level-2);\n",
              "}\n",
              "\n",
              "#sk-container-id-2 div.sk-label label.sk-toggleable__label,\n",
              "#sk-container-id-2 div.sk-label label {\n",
              "  /* The background is the default theme color */\n",
              "  color: var(--sklearn-color-text-on-default-background);\n",
              "}\n",
              "\n",
              "/* On hover, darken the color of the background */\n",
              "#sk-container-id-2 div.sk-label:hover label.sk-toggleable__label {\n",
              "  color: var(--sklearn-color-text);\n",
              "  background-color: var(--sklearn-color-unfitted-level-2);\n",
              "}\n",
              "\n",
              "/* Label box, darken color on hover, fitted */\n",
              "#sk-container-id-2 div.sk-label.fitted:hover label.sk-toggleable__label.fitted {\n",
              "  color: var(--sklearn-color-text);\n",
              "  background-color: var(--sklearn-color-fitted-level-2);\n",
              "}\n",
              "\n",
              "/* Estimator label */\n",
              "\n",
              "#sk-container-id-2 div.sk-label label {\n",
              "  font-family: monospace;\n",
              "  font-weight: bold;\n",
              "  display: inline-block;\n",
              "  line-height: 1.2em;\n",
              "}\n",
              "\n",
              "#sk-container-id-2 div.sk-label-container {\n",
              "  text-align: center;\n",
              "}\n",
              "\n",
              "/* Estimator-specific */\n",
              "#sk-container-id-2 div.sk-estimator {\n",
              "  font-family: monospace;\n",
              "  border: 1px dotted var(--sklearn-color-border-box);\n",
              "  border-radius: 0.25em;\n",
              "  box-sizing: border-box;\n",
              "  margin-bottom: 0.5em;\n",
              "  /* unfitted */\n",
              "  background-color: var(--sklearn-color-unfitted-level-0);\n",
              "}\n",
              "\n",
              "#sk-container-id-2 div.sk-estimator.fitted {\n",
              "  /* fitted */\n",
              "  background-color: var(--sklearn-color-fitted-level-0);\n",
              "}\n",
              "\n",
              "/* on hover */\n",
              "#sk-container-id-2 div.sk-estimator:hover {\n",
              "  /* unfitted */\n",
              "  background-color: var(--sklearn-color-unfitted-level-2);\n",
              "}\n",
              "\n",
              "#sk-container-id-2 div.sk-estimator.fitted:hover {\n",
              "  /* fitted */\n",
              "  background-color: var(--sklearn-color-fitted-level-2);\n",
              "}\n",
              "\n",
              "/* Specification for estimator info (e.g. \"i\" and \"?\") */\n",
              "\n",
              "/* Common style for \"i\" and \"?\" */\n",
              "\n",
              ".sk-estimator-doc-link,\n",
              "a:link.sk-estimator-doc-link,\n",
              "a:visited.sk-estimator-doc-link {\n",
              "  float: right;\n",
              "  font-size: smaller;\n",
              "  line-height: 1em;\n",
              "  font-family: monospace;\n",
              "  background-color: var(--sklearn-color-background);\n",
              "  border-radius: 1em;\n",
              "  height: 1em;\n",
              "  width: 1em;\n",
              "  text-decoration: none !important;\n",
              "  margin-left: 1ex;\n",
              "  /* unfitted */\n",
              "  border: var(--sklearn-color-unfitted-level-1) 1pt solid;\n",
              "  color: var(--sklearn-color-unfitted-level-1);\n",
              "}\n",
              "\n",
              ".sk-estimator-doc-link.fitted,\n",
              "a:link.sk-estimator-doc-link.fitted,\n",
              "a:visited.sk-estimator-doc-link.fitted {\n",
              "  /* fitted */\n",
              "  border: var(--sklearn-color-fitted-level-1) 1pt solid;\n",
              "  color: var(--sklearn-color-fitted-level-1);\n",
              "}\n",
              "\n",
              "/* On hover */\n",
              "div.sk-estimator:hover .sk-estimator-doc-link:hover,\n",
              ".sk-estimator-doc-link:hover,\n",
              "div.sk-label-container:hover .sk-estimator-doc-link:hover,\n",
              ".sk-estimator-doc-link:hover {\n",
              "  /* unfitted */\n",
              "  background-color: var(--sklearn-color-unfitted-level-3);\n",
              "  color: var(--sklearn-color-background);\n",
              "  text-decoration: none;\n",
              "}\n",
              "\n",
              "div.sk-estimator.fitted:hover .sk-estimator-doc-link.fitted:hover,\n",
              ".sk-estimator-doc-link.fitted:hover,\n",
              "div.sk-label-container:hover .sk-estimator-doc-link.fitted:hover,\n",
              ".sk-estimator-doc-link.fitted:hover {\n",
              "  /* fitted */\n",
              "  background-color: var(--sklearn-color-fitted-level-3);\n",
              "  color: var(--sklearn-color-background);\n",
              "  text-decoration: none;\n",
              "}\n",
              "\n",
              "/* Span, style for the box shown on hovering the info icon */\n",
              ".sk-estimator-doc-link span {\n",
              "  display: none;\n",
              "  z-index: 9999;\n",
              "  position: relative;\n",
              "  font-weight: normal;\n",
              "  right: .2ex;\n",
              "  padding: .5ex;\n",
              "  margin: .5ex;\n",
              "  width: min-content;\n",
              "  min-width: 20ex;\n",
              "  max-width: 50ex;\n",
              "  color: var(--sklearn-color-text);\n",
              "  box-shadow: 2pt 2pt 4pt #999;\n",
              "  /* unfitted */\n",
              "  background: var(--sklearn-color-unfitted-level-0);\n",
              "  border: .5pt solid var(--sklearn-color-unfitted-level-3);\n",
              "}\n",
              "\n",
              ".sk-estimator-doc-link.fitted span {\n",
              "  /* fitted */\n",
              "  background: var(--sklearn-color-fitted-level-0);\n",
              "  border: var(--sklearn-color-fitted-level-3);\n",
              "}\n",
              "\n",
              ".sk-estimator-doc-link:hover span {\n",
              "  display: block;\n",
              "}\n",
              "\n",
              "/* \"?\"-specific style due to the `<a>` HTML tag */\n",
              "\n",
              "#sk-container-id-2 a.estimator_doc_link {\n",
              "  float: right;\n",
              "  font-size: 1rem;\n",
              "  line-height: 1em;\n",
              "  font-family: monospace;\n",
              "  background-color: var(--sklearn-color-background);\n",
              "  border-radius: 1rem;\n",
              "  height: 1rem;\n",
              "  width: 1rem;\n",
              "  text-decoration: none;\n",
              "  /* unfitted */\n",
              "  color: var(--sklearn-color-unfitted-level-1);\n",
              "  border: var(--sklearn-color-unfitted-level-1) 1pt solid;\n",
              "}\n",
              "\n",
              "#sk-container-id-2 a.estimator_doc_link.fitted {\n",
              "  /* fitted */\n",
              "  border: var(--sklearn-color-fitted-level-1) 1pt solid;\n",
              "  color: var(--sklearn-color-fitted-level-1);\n",
              "}\n",
              "\n",
              "/* On hover */\n",
              "#sk-container-id-2 a.estimator_doc_link:hover {\n",
              "  /* unfitted */\n",
              "  background-color: var(--sklearn-color-unfitted-level-3);\n",
              "  color: var(--sklearn-color-background);\n",
              "  text-decoration: none;\n",
              "}\n",
              "\n",
              "#sk-container-id-2 a.estimator_doc_link.fitted:hover {\n",
              "  /* fitted */\n",
              "  background-color: var(--sklearn-color-fitted-level-3);\n",
              "}\n",
              "</style><div id=\"sk-container-id-2\" class=\"sk-top-container\"><div class=\"sk-text-repr-fallback\"><pre>XGBClassifier(base_score=None, booster=None, callbacks=None,\n",
              "              colsample_bylevel=None, colsample_bynode=None,\n",
              "              colsample_bytree=0.7425789859548375, device=None,\n",
              "              early_stopping_rounds=None, enable_categorical=False,\n",
              "              eval_metric=None, feature_types=None, gamma=None,\n",
              "              grow_policy=None, importance_type=None,\n",
              "              interaction_constraints=None, learning_rate=0.19646376239990151,\n",
              "              max_bin=None, max_cat_threshold=None, max_cat_to_onehot=None,\n",
              "              max_delta_step=None, max_depth=7, max_leaves=None,\n",
              "              min_child_weight=None, missing=nan, monotone_constraints=None,\n",
              "              multi_strategy=None, n_estimators=261, n_jobs=None,\n",
              "              num_parallel_tree=None, random_state=100547834, ...)</pre><b>In a Jupyter environment, please rerun this cell to show the HTML representation or trust the notebook. <br />On GitHub, the HTML representation is unable to render, please try loading this page with nbviewer.org.</b></div><div class=\"sk-container\" hidden><div class=\"sk-item\"><div class=\"sk-estimator fitted sk-toggleable\"><input class=\"sk-toggleable__control sk-hidden--visually\" id=\"sk-estimator-id-4\" type=\"checkbox\" checked><label for=\"sk-estimator-id-4\" class=\"sk-toggleable__label fitted sk-toggleable__label-arrow fitted\">&nbsp;XGBClassifier<span class=\"sk-estimator-doc-link fitted\">i<span>Fitted</span></span></label><div class=\"sk-toggleable__content fitted\"><pre>XGBClassifier(base_score=None, booster=None, callbacks=None,\n",
              "              colsample_bylevel=None, colsample_bynode=None,\n",
              "              colsample_bytree=0.7425789859548375, device=None,\n",
              "              early_stopping_rounds=None, enable_categorical=False,\n",
              "              eval_metric=None, feature_types=None, gamma=None,\n",
              "              grow_policy=None, importance_type=None,\n",
              "              interaction_constraints=None, learning_rate=0.19646376239990151,\n",
              "              max_bin=None, max_cat_threshold=None, max_cat_to_onehot=None,\n",
              "              max_delta_step=None, max_depth=7, max_leaves=None,\n",
              "              min_child_weight=None, missing=nan, monotone_constraints=None,\n",
              "              multi_strategy=None, n_estimators=261, n_jobs=None,\n",
              "              num_parallel_tree=None, random_state=100547834, ...)</pre></div> </div></div></div></div>"
            ]
          },
          "metadata": {},
          "execution_count": 58
        }
      ]
    },
    {
      "cell_type": "markdown",
      "source": [
        "Upload the competition dataset, if needed, called \"attrition_compet_26.pkl\"."
      ],
      "metadata": {
        "id": "J29py6T0hMuq"
      },
      "id": "J29py6T0hMuq"
    },
    {
      "cell_type": "code",
      "source": [
        "uploaded = files.upload()"
      ],
      "metadata": {
        "colab": {
          "base_uri": "https://localhost:8080/",
          "height": 73
        },
        "id": "0Knd3cxnhISa",
        "outputId": "68900ea5-145d-425a-bb2a-06347275ba82"
      },
      "id": "0Knd3cxnhISa",
      "execution_count": 60,
      "outputs": [
        {
          "output_type": "display_data",
          "data": {
            "text/plain": [
              "<IPython.core.display.HTML object>"
            ],
            "text/html": [
              "\n",
              "     <input type=\"file\" id=\"files-abaa4d65-dcd8-489c-b068-b716339e8feb\" name=\"files[]\" multiple disabled\n",
              "        style=\"border:none\" />\n",
              "     <output id=\"result-abaa4d65-dcd8-489c-b068-b716339e8feb\">\n",
              "      Upload widget is only available when the cell has been executed in the\n",
              "      current browser session. Please rerun this cell to enable.\n",
              "      </output>\n",
              "      <script>// Copyright 2017 Google LLC\n",
              "//\n",
              "// Licensed under the Apache License, Version 2.0 (the \"License\");\n",
              "// you may not use this file except in compliance with the License.\n",
              "// You may obtain a copy of the License at\n",
              "//\n",
              "//      http://www.apache.org/licenses/LICENSE-2.0\n",
              "//\n",
              "// Unless required by applicable law or agreed to in writing, software\n",
              "// distributed under the License is distributed on an \"AS IS\" BASIS,\n",
              "// WITHOUT WARRANTIES OR CONDITIONS OF ANY KIND, either express or implied.\n",
              "// See the License for the specific language governing permissions and\n",
              "// limitations under the License.\n",
              "\n",
              "/**\n",
              " * @fileoverview Helpers for google.colab Python module.\n",
              " */\n",
              "(function(scope) {\n",
              "function span(text, styleAttributes = {}) {\n",
              "  const element = document.createElement('span');\n",
              "  element.textContent = text;\n",
              "  for (const key of Object.keys(styleAttributes)) {\n",
              "    element.style[key] = styleAttributes[key];\n",
              "  }\n",
              "  return element;\n",
              "}\n",
              "\n",
              "// Max number of bytes which will be uploaded at a time.\n",
              "const MAX_PAYLOAD_SIZE = 100 * 1024;\n",
              "\n",
              "function _uploadFiles(inputId, outputId) {\n",
              "  const steps = uploadFilesStep(inputId, outputId);\n",
              "  const outputElement = document.getElementById(outputId);\n",
              "  // Cache steps on the outputElement to make it available for the next call\n",
              "  // to uploadFilesContinue from Python.\n",
              "  outputElement.steps = steps;\n",
              "\n",
              "  return _uploadFilesContinue(outputId);\n",
              "}\n",
              "\n",
              "// This is roughly an async generator (not supported in the browser yet),\n",
              "// where there are multiple asynchronous steps and the Python side is going\n",
              "// to poll for completion of each step.\n",
              "// This uses a Promise to block the python side on completion of each step,\n",
              "// then passes the result of the previous step as the input to the next step.\n",
              "function _uploadFilesContinue(outputId) {\n",
              "  const outputElement = document.getElementById(outputId);\n",
              "  const steps = outputElement.steps;\n",
              "\n",
              "  const next = steps.next(outputElement.lastPromiseValue);\n",
              "  return Promise.resolve(next.value.promise).then((value) => {\n",
              "    // Cache the last promise value to make it available to the next\n",
              "    // step of the generator.\n",
              "    outputElement.lastPromiseValue = value;\n",
              "    return next.value.response;\n",
              "  });\n",
              "}\n",
              "\n",
              "/**\n",
              " * Generator function which is called between each async step of the upload\n",
              " * process.\n",
              " * @param {string} inputId Element ID of the input file picker element.\n",
              " * @param {string} outputId Element ID of the output display.\n",
              " * @return {!Iterable<!Object>} Iterable of next steps.\n",
              " */\n",
              "function* uploadFilesStep(inputId, outputId) {\n",
              "  const inputElement = document.getElementById(inputId);\n",
              "  inputElement.disabled = false;\n",
              "\n",
              "  const outputElement = document.getElementById(outputId);\n",
              "  outputElement.innerHTML = '';\n",
              "\n",
              "  const pickedPromise = new Promise((resolve) => {\n",
              "    inputElement.addEventListener('change', (e) => {\n",
              "      resolve(e.target.files);\n",
              "    });\n",
              "  });\n",
              "\n",
              "  const cancel = document.createElement('button');\n",
              "  inputElement.parentElement.appendChild(cancel);\n",
              "  cancel.textContent = 'Cancel upload';\n",
              "  const cancelPromise = new Promise((resolve) => {\n",
              "    cancel.onclick = () => {\n",
              "      resolve(null);\n",
              "    };\n",
              "  });\n",
              "\n",
              "  // Wait for the user to pick the files.\n",
              "  const files = yield {\n",
              "    promise: Promise.race([pickedPromise, cancelPromise]),\n",
              "    response: {\n",
              "      action: 'starting',\n",
              "    }\n",
              "  };\n",
              "\n",
              "  cancel.remove();\n",
              "\n",
              "  // Disable the input element since further picks are not allowed.\n",
              "  inputElement.disabled = true;\n",
              "\n",
              "  if (!files) {\n",
              "    return {\n",
              "      response: {\n",
              "        action: 'complete',\n",
              "      }\n",
              "    };\n",
              "  }\n",
              "\n",
              "  for (const file of files) {\n",
              "    const li = document.createElement('li');\n",
              "    li.append(span(file.name, {fontWeight: 'bold'}));\n",
              "    li.append(span(\n",
              "        `(${file.type || 'n/a'}) - ${file.size} bytes, ` +\n",
              "        `last modified: ${\n",
              "            file.lastModifiedDate ? file.lastModifiedDate.toLocaleDateString() :\n",
              "                                    'n/a'} - `));\n",
              "    const percent = span('0% done');\n",
              "    li.appendChild(percent);\n",
              "\n",
              "    outputElement.appendChild(li);\n",
              "\n",
              "    const fileDataPromise = new Promise((resolve) => {\n",
              "      const reader = new FileReader();\n",
              "      reader.onload = (e) => {\n",
              "        resolve(e.target.result);\n",
              "      };\n",
              "      reader.readAsArrayBuffer(file);\n",
              "    });\n",
              "    // Wait for the data to be ready.\n",
              "    let fileData = yield {\n",
              "      promise: fileDataPromise,\n",
              "      response: {\n",
              "        action: 'continue',\n",
              "      }\n",
              "    };\n",
              "\n",
              "    // Use a chunked sending to avoid message size limits. See b/62115660.\n",
              "    let position = 0;\n",
              "    do {\n",
              "      const length = Math.min(fileData.byteLength - position, MAX_PAYLOAD_SIZE);\n",
              "      const chunk = new Uint8Array(fileData, position, length);\n",
              "      position += length;\n",
              "\n",
              "      const base64 = btoa(String.fromCharCode.apply(null, chunk));\n",
              "      yield {\n",
              "        response: {\n",
              "          action: 'append',\n",
              "          file: file.name,\n",
              "          data: base64,\n",
              "        },\n",
              "      };\n",
              "\n",
              "      let percentDone = fileData.byteLength === 0 ?\n",
              "          100 :\n",
              "          Math.round((position / fileData.byteLength) * 100);\n",
              "      percent.textContent = `${percentDone}% done`;\n",
              "\n",
              "    } while (position < fileData.byteLength);\n",
              "  }\n",
              "\n",
              "  // All done.\n",
              "  yield {\n",
              "    response: {\n",
              "      action: 'complete',\n",
              "    }\n",
              "  };\n",
              "}\n",
              "\n",
              "scope.google = scope.google || {};\n",
              "scope.google.colab = scope.google.colab || {};\n",
              "scope.google.colab._files = {\n",
              "  _uploadFiles,\n",
              "  _uploadFilesContinue,\n",
              "};\n",
              "})(self);\n",
              "</script> "
            ]
          },
          "metadata": {}
        },
        {
          "output_type": "stream",
          "name": "stdout",
          "text": [
            "Saving attrition_compet_26.pkl to attrition_compet_26.pkl\n"
          ]
        }
      ]
    },
    {
      "cell_type": "markdown",
      "source": [
        "Data preproccesing"
      ],
      "metadata": {
        "id": "SHmuhFTCYsKi"
      },
      "id": "SHmuhFTCYsKi"
    },
    {
      "cell_type": "code",
      "source": [
        "X_compet = pd.read_pickle(\"attrition_compet_26.pkl\")\n",
        "\n",
        "# Display the shape of features and target\n",
        "print(\"Shape of X (features):\", X_compet.shape)\n",
        "\n",
        "# Feature names and target options\n",
        "feature_names = X_compet.columns.tolist()\n",
        "\n",
        "print(\"Feature names:\", feature_names)\n",
        "print(\"Target options:\", target_names)\n",
        "\n",
        "for col in categorical_cols:\n",
        "    X_compet[col] = le.fit_transform(X_compet[col])\n",
        "\n",
        "X_compet.drop(sg_val_cols, axis=1, inplace=True)\n",
        "\n",
        "print(\"The following features contain missing values (NaN):\")\n",
        "\n",
        "for i, val in X_compet.isnull().mean().items():\n",
        "    if not val == 0:\n",
        "        print(f'{i}: {val*100}%')\n",
        "\n",
        "X_compet = pd.DataFrame(ii.fit_transform(X))"
      ],
      "metadata": {
        "id": "dxSQWJfNXayc",
        "colab": {
          "base_uri": "https://localhost:8080/"
        },
        "outputId": "4b7748a3-8b01-4e42-c50e-b1169bc9e0c8"
      },
      "id": "dxSQWJfNXayc",
      "execution_count": 61,
      "outputs": [
        {
          "output_type": "stream",
          "name": "stdout",
          "text": [
            "Shape of X (features): (200, 30)\n",
            "Feature names: ['hrs', 'absences', 'JobInvolvement', 'PerformanceRating', 'EnvironmentSatisfaction', 'JobSatisfaction', 'WorkLifeBalance', 'Age', 'BusinessTravel', 'Department', 'DistanceFromHome', 'Education', 'EducationField', 'EmployeeCount', 'EmployeeID', 'Gender', 'JobLevel', 'JobRole', 'MaritalStatus', 'MonthlyIncome', 'NumCompaniesWorked', 'Over18', 'PercentSalaryHike', 'StandardHours', 'StockOptionLevel', 'TotalWorkingYears', 'TrainingTimesLastYear', 'YearsAtCompany', 'YearsSinceLastPromotion', 'YearsWithCurrManager']\n",
            "Target options: ['Yes' 'No']\n",
            "The following features contain missing values (NaN):\n",
            "PerformanceRating: 15.5%\n",
            "WorkLifeBalance: 1.0%\n",
            "Education: 8.0%\n",
            "NumCompaniesWorked: 1.0%\n",
            "TotalWorkingYears: 0.5%\n",
            "TrainingTimesLastYear: 6.0%\n"
          ]
        }
      ]
    },
    {
      "cell_type": "markdown",
      "source": [
        "Applying our model to the dataset and saving our model in pickle format and predictions in csv format"
      ],
      "metadata": {
        "id": "7wpsIOqCYvGk"
      },
      "id": "7wpsIOqCYvGk"
    },
    {
      "cell_type": "code",
      "source": [
        "import pickle\n",
        "\n",
        "y_competition_pred = final_model.predict(X_compet)\n",
        "y_competition_pred = pd.Series(y_competition_pred).map({0: 'No', 1: 'Yes'})\n",
        "\n",
        "competition_results = pd.DataFrame({'Id': range(len(y_competition_pred)), 'Prediction': y_competition_pred})\n",
        "competition_results.to_csv('competition_predictions.csv', index=False)\n",
        "\n",
        "# Save the model to a file\n",
        "with open('final_xgboost_model.pkl', 'wb') as model_file:\n",
        "    pickle.dump(final_model, model_file)\n"
      ],
      "metadata": {
        "id": "bhBZmFmVYuQ-"
      },
      "id": "bhBZmFmVYuQ-",
      "execution_count": 62,
      "outputs": []
    }
  ],
  "metadata": {
    "colab": {
      "provenance": []
    },
    "kernelspec": {
      "display_name": "Python 3 (ipykernel)",
      "language": "python",
      "name": "python3"
    },
    "language_info": {
      "codemirror_mode": {
        "name": "ipython",
        "version": 3
      },
      "file_extension": ".py",
      "mimetype": "text/x-python",
      "name": "python",
      "nbconvert_exporter": "python",
      "pygments_lexer": "ipython3",
      "version": "3.12.4"
    }
  },
  "nbformat": 4,
  "nbformat_minor": 5
}
