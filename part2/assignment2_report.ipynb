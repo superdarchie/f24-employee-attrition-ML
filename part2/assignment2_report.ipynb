{
  "nbformat": 4,
  "nbformat_minor": 0,
  "metadata": {
    "colab": {
      "provenance": []
    },
    "kernelspec": {
      "name": "python3",
      "display_name": "Python 3"
    },
    "language_info": {
      "name": "python"
    }
  },
  "cells": [
    {
      "cell_type": "markdown",
      "source": [
        "### Members - NIU\n"
      ],
      "metadata": {
        "id": "vvo29Pmt9wa9"
      }
    },
    {
      "cell_type": "markdown",
      "source": [
        "Dallon Archibald - 100547834\\\n",
        "Keanu Simons - 100545207"
      ],
      "metadata": {
        "id": "sOtd2S2K9zLn"
      }
    },
    {
      "cell_type": "code",
      "execution_count": 1,
      "metadata": {
        "id": "XDS3jF4t8Fp1"
      },
      "outputs": [],
      "source": [
        "import numpy as np\n",
        "\n",
        "NIU = 100547834\n",
        "np.random.seed(NIU)"
      ]
    },
    {
      "cell_type": "markdown",
      "source": [
        "From Assignment 1, we identified XGBoost to produce the highest accuracy. This approach will be expanded on for our model while encorporating **feature selection**."
      ],
      "metadata": {
        "id": "2hQbcEViv50j"
      }
    },
    {
      "cell_type": "markdown",
      "source": [
        "## 1. EDA & Preprocessing"
      ],
      "metadata": {
        "id": "OENaqVXf-Ocb"
      }
    },
    {
      "cell_type": "markdown",
      "source": [
        "First, we will load the data from a pickle (.pkl) file. This should be located at the root of the directory. Otherwise, you must upload the appropiate file, \"attrition_available_26.pkl\", from your local directory."
      ],
      "metadata": {
        "id": "89heXSZ6-cKt"
      }
    },
    {
      "cell_type": "code",
      "source": [
        "from google.colab import files\n",
        "import io\n",
        "import os\n",
        "\n",
        "if not os.path.exists(\"attrition_available_26.pkl\"):\n",
        "  uploaded = files.upload()"
      ],
      "metadata": {
        "id": "EGAaLJNc-fsE"
      },
      "execution_count": 2,
      "outputs": []
    },
    {
      "cell_type": "markdown",
      "source": [
        "Our EDA and preprocessing is consistent with our approach from Assignment 1. However, we have moved some steps into pipelines for consistency and organization."
      ],
      "metadata": {
        "id": "BFjj7LEt1s8x"
      }
    },
    {
      "cell_type": "code",
      "source": [
        "import pandas as pd\n",
        "from sklearn.preprocessing import LabelEncoder\n",
        "from sklearn.experimental import enable_iterative_imputer\n",
        "from sklearn.impute import IterativeImputer\n",
        "\n",
        "# read the file data\n",
        "employee_data_df = pd.read_pickle(\"attrition_available_26.pkl\")\n",
        "\n",
        "# separate the predictors from the target column\n",
        "X = employee_data_df.drop('Attrition', axis=1)\n",
        "y = employee_data_df['Attrition']\n",
        "\n",
        "target_names = y.unique()\n",
        "\n",
        "# encode categorical columns\n",
        "categorical_cols = X.select_dtypes(include=['object', 'category', 'bool']).columns.tolist()\n",
        "categorical_cols_copy = X[categorical_cols].copy()\n",
        "le = LabelEncoder()\n",
        "\n",
        "for col in categorical_cols:\n",
        "    X[col] = le.fit_transform(X[col])\n",
        "\n",
        "# remove constant and irrelevant columns\n",
        "sg_val_cols = employee_data_df.columns[employee_data_df.nunique() == 1].tolist()\n",
        "sg_val_cols.append('EmployeeID')\n",
        "X.drop(sg_val_cols, axis=1, inplace=True)\n",
        "\n",
        "# Display the shape of the features\n",
        "print(\"Shape of X (features):\", X.shape)\n",
        "\n",
        "# Feature names and target options\n",
        "feature_names = X.columns.tolist()\n",
        "print(\"Feature names:\", feature_names)\n",
        "print(\"Target groups:\", target_names)"
      ],
      "metadata": {
        "id": "AVkBilRE-kFi",
        "colab": {
          "base_uri": "https://localhost:8080/"
        },
        "outputId": "19ec8674-f07d-426e-c548-e81c29dfe3d8"
      },
      "execution_count": 3,
      "outputs": [
        {
          "output_type": "stream",
          "name": "stdout",
          "text": [
            "Shape of X (features): (1426, 26)\n",
            "Feature names: ['hrs', 'absences', 'JobInvolvement', 'PerformanceRating', 'EnvironmentSatisfaction', 'JobSatisfaction', 'WorkLifeBalance', 'Age', 'BusinessTravel', 'Department', 'DistanceFromHome', 'Education', 'EducationField', 'Gender', 'JobLevel', 'JobRole', 'MaritalStatus', 'MonthlyIncome', 'NumCompaniesWorked', 'PercentSalaryHike', 'StockOptionLevel', 'TotalWorkingYears', 'TrainingTimesLastYear', 'YearsAtCompany', 'YearsSinceLastPromotion', 'YearsWithCurrManager']\n",
            "Target groups: ['Yes' 'No']\n"
          ]
        }
      ]
    },
    {
      "cell_type": "markdown",
      "source": [
        "Now we can assemble a \"preprocessor\" pipeline to streamline our workflow and minimize data leakage."
      ],
      "metadata": {
        "id": "6_Zda39wzbUJ"
      }
    },
    {
      "cell_type": "code",
      "source": [
        "from sklearn.compose import ColumnTransformer\n",
        "from sklearn.pipeline import Pipeline\n",
        "from sklearn.preprocessing import StandardScaler\n",
        "from sklearn.base import BaseEstimator, TransformerMixin\n",
        "\n",
        "numerical_cols = X.select_dtypes(exclude=['object', 'category', 'bool']).columns.tolist()\n",
        "\n",
        "# FROM CHATGPT: Transformer to convert NumPy array back to DataFrame\n",
        "# prompted based on errors received when converting our preprocessing to a pipeline\n",
        "class ToDataFrame(BaseEstimator, TransformerMixin):\n",
        "    def __init__(self, columns):\n",
        "        self.columns = columns\n",
        "\n",
        "    def fit(self, X, y=None):\n",
        "        return self\n",
        "\n",
        "    def transform(self, X):\n",
        "        return pd.DataFrame(X, columns=self.columns)\n",
        "\n",
        "preprocessor = Pipeline([\n",
        "    ('iterative_imputer', IterativeImputer()), # fill missing values before scaling\n",
        "    ('to_dataframe', ToDataFrame(columns=numerical_cols)), # convert to DataFrame after imputer\n",
        "    ('scale', ColumnTransformer([\n",
        "        ('num', StandardScaler(), numerical_cols)\n",
        "    ], remainder='passthrough'))  # use a column transformer so that our categorical columns remain unscaled\n",
        "])"
      ],
      "metadata": {
        "id": "3uknNfeAzyBY"
      },
      "execution_count": 4,
      "outputs": []
    },
    {
      "cell_type": "code",
      "source": [
        "from sklearn.model_selection import train_test_split\n",
        "\n",
        "# create train/test splits and map target values to numerics for using XGBoost\n",
        "X_train, X_test, y_train, y_test = train_test_split(X, y, test_size=0.25, random_state=NIU)\n",
        "\n",
        "y_trainXG = y_train.map({'No': 0, 'Yes': 1})\n",
        "y_testXG = y_test.map({'No': 0, 'Yes': 1})"
      ],
      "metadata": {
        "id": "wQLF52whc9rm"
      },
      "execution_count": 5,
      "outputs": []
    },
    {
      "cell_type": "markdown",
      "source": [
        "## 2. Feature Selection"
      ],
      "metadata": {
        "id": "PiZOCOfr2AEZ"
      }
    },
    {
      "cell_type": "markdown",
      "source": [
        "In our pipeline, we will incorporate **feature selection** using two approaches."
      ],
      "metadata": {
        "id": "aHQHp5vU2-Wl"
      }
    },
    {
      "cell_type": "code",
      "source": [
        "from xgboost import XGBClassifier\n",
        "from sklearn.feature_selection import SelectKBest, f_classif, mutual_info_classif\n",
        "\n",
        "# declaring objects used in this section\n",
        "scaler = StandardScaler()\n",
        "XGB = XGBClassifier(random_state = NIU)"
      ],
      "metadata": {
        "id": "Dl3aJj7luRIS"
      },
      "execution_count": 6,
      "outputs": []
    },
    {
      "cell_type": "markdown",
      "source": [
        "### SelectKBest and criterion f_classif"
      ],
      "metadata": {
        "id": "ACOsVdP_beTd"
      }
    },
    {
      "cell_type": "code",
      "source": [
        "selector_f = SelectKBest(f_classif)\n",
        "\n",
        "# include model and f selector in pipeline\n",
        "xgb_pipe_full_f = Pipeline([\n",
        "  ('preprocessing', preprocessor),\n",
        "  ('select', selector_f),\n",
        "  ('xgb', XGB)\n",
        "])\n",
        "\n",
        "# train and evaluate\n",
        "xgb_pipe_full_f.fit(X_train, y_trainXG)\n",
        "y_pred_f = xgb_pipe_full_f.predict(X_test)\n",
        "\n",
        "print(\"For f_classif:\\n\")\n",
        "print(f\"Features selected boolean array: {xgb_pipe_full_f.named_steps['select'].get_support()}\")\n",
        "print(f\"Locations where features selected: {np.where(xgb_pipe_full_f.named_steps['select'].get_support())}\")\n",
        "feature_names_before_selection = xgb_pipe_full_f.named_steps['preprocessing'].named_steps['scale'].get_feature_names_out()\n",
        "feature_names_after_selection = xgb_pipe_full_f.named_steps['select'].get_feature_names_out(feature_names_before_selection)\n",
        "print(f\"Number of features selected: {len(feature_names_after_selection)}\")\n",
        "print(f\"Feature names after selection: {feature_names_after_selection}\")"
      ],
      "metadata": {
        "id": "cXhW8PnvbizL",
        "colab": {
          "base_uri": "https://localhost:8080/"
        },
        "outputId": "76b15251-58a7-4d20-eec6-72e2e223078c"
      },
      "execution_count": 7,
      "outputs": [
        {
          "output_type": "stream",
          "name": "stdout",
          "text": [
            "For f_classif:\n",
            "\n",
            "Features selected boolean array: [ True False False False  True  True  True  True False False False False\n",
            "  True False False False  True False False False False  True False  True\n",
            " False  True]\n",
            "Locations where features selected: (array([ 0,  4,  5,  6,  7, 12, 16, 21, 23, 25]),)\n",
            "Number of features selected: 10\n",
            "Feature names after selection: ['num__hrs' 'num__EnvironmentSatisfaction' 'num__JobSatisfaction'\n",
            " 'num__WorkLifeBalance' 'num__Age' 'num__EducationField'\n",
            " 'num__MaritalStatus' 'num__TotalWorkingYears' 'num__YearsAtCompany'\n",
            " 'num__YearsWithCurrManager']\n"
          ]
        }
      ]
    },
    {
      "cell_type": "markdown",
      "source": [
        "### SelectKBest and criterion mutual_info_classif"
      ],
      "metadata": {
        "id": "yp8j2tGadPCR"
      }
    },
    {
      "cell_type": "code",
      "source": [
        "selector_mutual = SelectKBest(mutual_info_classif)\n",
        "\n",
        "# include model and mutual_info selector in pipeline\n",
        "xgb_pipe_full_mutual = Pipeline([\n",
        "  ('preprocessing', preprocessor),\n",
        "  ('select', selector_mutual),\n",
        "  ('xgb', XGB)\n",
        "])\n",
        "\n",
        "# train and evaluate\n",
        "xgb_pipe_full_mutual.fit(X_train, y_trainXG)\n",
        "y_pred_mutual = xgb_pipe_full_mutual.predict(X_test)\n",
        "\n",
        "print(\"For mutual_info_classif:\\n\")\n",
        "print(f\"Features selected boolean array: {xgb_pipe_full_mutual.named_steps['select'].get_support()}\")\n",
        "print(f\"Locations where features selected: {np.where(xgb_pipe_full_mutual.named_steps['select'].get_support())}\")\n",
        "feature_names_before_selection = xgb_pipe_full_mutual.named_steps['preprocessing'].named_steps['scale'].get_feature_names_out()\n",
        "feature_names_after_selection = xgb_pipe_full_mutual.named_steps['select'].get_feature_names_out(feature_names_before_selection)\n",
        "print(f\"Number of features selected: {len(feature_names_after_selection)}\")\n",
        "print(f\"Feature names after selection: {feature_names_after_selection}\")"
      ],
      "metadata": {
        "colab": {
          "base_uri": "https://localhost:8080/"
        },
        "id": "HHl3VcKkd6bz",
        "outputId": "4496a80a-ec0c-41af-d6c5-8a69576dc377"
      },
      "execution_count": 8,
      "outputs": [
        {
          "output_type": "stream",
          "name": "stdout",
          "text": [
            "For mutual_info_classif:\n",
            "\n",
            "Features selected boolean array: [ True False False False False False False  True  True False  True False\n",
            " False False False False False  True False False  True  True False  True\n",
            "  True  True]\n",
            "Locations where features selected: (array([ 0,  7,  8, 10, 17, 20, 21, 23, 24, 25]),)\n",
            "Number of features selected: 10\n",
            "Feature names after selection: ['num__hrs' 'num__Age' 'num__BusinessTravel' 'num__DistanceFromHome'\n",
            " 'num__MonthlyIncome' 'num__StockOptionLevel' 'num__TotalWorkingYears'\n",
            " 'num__YearsAtCompany' 'num__YearsSinceLastPromotion'\n",
            " 'num__YearsWithCurrManager']\n"
          ]
        }
      ]
    },
    {
      "cell_type": "markdown",
      "source": [
        "### Evaluation"
      ],
      "metadata": {
        "id": "kcusX-6fqDZI"
      }
    },
    {
      "cell_type": "code",
      "source": [
        "from sklearn.metrics import accuracy_score\n",
        "\n",
        "acc_f = accuracy_score(y_testXG, y_pred_f)\n",
        "print(\"f_classif:\")\n",
        "print(f\"Accuracy of the XGBoost model with f_classif feature selection: {round(acc_f*100,4)}%\\n\")\n",
        "\n",
        "acc_mutual = accuracy_score(y_testXG, y_pred_mutual)\n",
        "print(\"mutual_info_classif:\")\n",
        "print(f\"Accuracy of the XGBoost model with mutual_info_classif feature selection: {round(acc_mutual*100,4)}%\")"
      ],
      "metadata": {
        "colab": {
          "base_uri": "https://localhost:8080/"
        },
        "id": "KPeWrcPCrIlX",
        "outputId": "5ec6ee92-06fd-490e-d27e-967c750f6130"
      },
      "execution_count": 9,
      "outputs": [
        {
          "output_type": "stream",
          "name": "stdout",
          "text": [
            "f_classif:\n",
            "Accuracy of the XGBoost model with f_classif feature selection: 91.3165%\n",
            "\n",
            "mutual_info_classif:\n",
            "Accuracy of the XGBoost model with mutual_info_classif feature selection: 90.1961%\n"
          ]
        }
      ]
    },
    {
      "cell_type": "markdown",
      "source": [
        "We observe that both models perform well using feature selection with the `f_classif` criterion yielding a slightly better accuracy."
      ],
      "metadata": {
        "id": "zoBRZo2IzPGF"
      }
    },
    {
      "cell_type": "markdown",
      "source": [
        "## 3. Grid Search (HPO)"
      ],
      "metadata": {
        "id": "rBdKvkvVQmyZ"
      }
    },
    {
      "cell_type": "markdown",
      "source": [
        "In this section, the only hyper-parameter we will tune is `k`, the number of features, for each approach"
      ],
      "metadata": {
        "id": "6jVhQbmg1Z5q"
      }
    },
    {
      "cell_type": "code",
      "source": [
        "from sklearn.model_selection import GridSearchCV\n",
        "from sklearn.model_selection import KFold\n",
        "\n",
        "# create a grid with the possible options for k, between 1 and the total number of features\n",
        "param_grid = {'select__k': list(range(1,len(X.columns)))}\n",
        "\n",
        "# create 3-folds\n",
        "inner = KFold(n_splits=3, shuffle=True, random_state = NIU)"
      ],
      "metadata": {
        "id": "Ae_QdpG0uK8J"
      },
      "execution_count": 10,
      "outputs": []
    },
    {
      "cell_type": "markdown",
      "source": [
        "### Tuning `k`"
      ],
      "metadata": {
        "id": "_rhOl_Sxs7kv"
      }
    },
    {
      "cell_type": "code",
      "source": [
        "# feature selection with criterin f_classif\n",
        "tune_scale_XGB_f = GridSearchCV(xgb_pipe_full_f,\n",
        "                                param_grid,\n",
        "                                scoring=\"accuracy\",\n",
        "                                cv=inner)\n",
        "\n",
        "# train\n",
        "tune_scale_XGB_f.fit(X_train, y_trainXG)\n",
        "\n",
        "# evaluate using the best k identified\n",
        "trained_pipeline_f = tune_scale_XGB_f.best_estimator_\n",
        "y_pred_HPO_f = trained_pipeline_f.predict(X_test)"
      ],
      "metadata": {
        "id": "ptqLz3-TQqWZ"
      },
      "execution_count": 11,
      "outputs": []
    },
    {
      "cell_type": "code",
      "source": [
        "# feature selection with criterin mutual_info_classif\n",
        "tune_scale_XGB_mutual = GridSearchCV(xgb_pipe_full_mutual,\n",
        "                                     param_grid,\n",
        "                                     scoring=\"accuracy\",\n",
        "                                     cv=inner)\n",
        "\n",
        "# train\n",
        "tune_scale_XGB_mutual.fit(X_train, y_trainXG)\n",
        "\n",
        "# evaluate using the best k identified\n",
        "trained_pipeline_mutual = tune_scale_XGB_mutual.best_estimator_\n",
        "y_pred_HPO_mutual = trained_pipeline_mutual.predict(X_test)"
      ],
      "metadata": {
        "id": "59kOXEDdtlJI"
      },
      "execution_count": 12,
      "outputs": []
    },
    {
      "cell_type": "markdown",
      "source": [
        "## 4. `k` HPO Evaluation"
      ],
      "metadata": {
        "id": "mub15IgY5CTL"
      }
    },
    {
      "cell_type": "markdown",
      "source": [
        "### Analyzing Features Selected"
      ],
      "metadata": {
        "id": "h0nDtncP6TxQ"
      }
    },
    {
      "cell_type": "code",
      "source": [
        "print(\"For f_classif with Grid Search HPO:\\n\")\n",
        "feature_names_before_selection_f = trained_pipeline_f.named_steps['preprocessing'].named_steps['scale'].get_feature_names_out()\n",
        "feature_names_after_selection_f = trained_pipeline_f.named_steps['select'].get_feature_names_out(feature_names_before_selection_f)\n",
        "print(f\"Number of features selected: {len(feature_names_after_selection_f)}\")\n",
        "print(f\"Names of features selected: {feature_names_after_selection_f}\\n\")\n",
        "\n",
        "\n",
        "print(\"==========\\n\")\n",
        "\n",
        "print(\"For mutual_info_classif with Grid Search HPO:\\n\")\n",
        "feature_names_before_selection_mut = trained_pipeline_mutual.named_steps['preprocessing'].named_steps['scale'].get_feature_names_out()\n",
        "feature_names_after_selection_mut = trained_pipeline_mutual.named_steps['select'].get_feature_names_out(feature_names_before_selection_mut)\n",
        "print(f\"Number of features selected: {len(feature_names_after_selection_mut)}\")\n",
        "print(f\"Names of features selected: {feature_names_after_selection_mut}\")"
      ],
      "metadata": {
        "colab": {
          "base_uri": "https://localhost:8080/"
        },
        "id": "jn_aFouN6VvA",
        "outputId": "45470ab1-5eb5-4fd4-8e7d-8945f30a4c37"
      },
      "execution_count": 13,
      "outputs": [
        {
          "output_type": "stream",
          "name": "stdout",
          "text": [
            "For f_classif with Grid Search HPO:\n",
            "\n",
            "Number of features selected: 21\n",
            "Names of features selected: ['num__hrs' 'num__absences' 'num__PerformanceRating'\n",
            " 'num__EnvironmentSatisfaction' 'num__JobSatisfaction'\n",
            " 'num__WorkLifeBalance' 'num__Age' 'num__Department'\n",
            " 'num__DistanceFromHome' 'num__Education' 'num__EducationField'\n",
            " 'num__JobLevel' 'num__MaritalStatus' 'num__MonthlyIncome'\n",
            " 'num__NumCompaniesWorked' 'num__StockOptionLevel'\n",
            " 'num__TotalWorkingYears' 'num__TrainingTimesLastYear'\n",
            " 'num__YearsAtCompany' 'num__YearsSinceLastPromotion'\n",
            " 'num__YearsWithCurrManager']\n",
            "\n",
            "==========\n",
            "\n",
            "For mutual_info_classif with Grid Search HPO:\n",
            "\n",
            "Number of features selected: 25\n",
            "Names of features selected: ['num__hrs' 'num__JobInvolvement' 'num__PerformanceRating'\n",
            " 'num__EnvironmentSatisfaction' 'num__JobSatisfaction'\n",
            " 'num__WorkLifeBalance' 'num__Age' 'num__BusinessTravel' 'num__Department'\n",
            " 'num__DistanceFromHome' 'num__Education' 'num__EducationField'\n",
            " 'num__Gender' 'num__JobLevel' 'num__JobRole' 'num__MaritalStatus'\n",
            " 'num__MonthlyIncome' 'num__NumCompaniesWorked' 'num__PercentSalaryHike'\n",
            " 'num__StockOptionLevel' 'num__TotalWorkingYears'\n",
            " 'num__TrainingTimesLastYear' 'num__YearsAtCompany'\n",
            " 'num__YearsSinceLastPromotion' 'num__YearsWithCurrManager']\n"
          ]
        }
      ]
    },
    {
      "cell_type": "markdown",
      "source": [
        "### Comparison"
      ],
      "metadata": {
        "id": "gf0pQCJj6pfV"
      }
    },
    {
      "cell_type": "code",
      "source": [
        "print(f\"Accuracy of the XGBoost model with f_classif feature selection and HPO for k: {round(accuracy_score(y_testXG, y_pred_HPO_f)*100,4)}%\\n\")\n",
        "\n",
        "print(f\"Accuracy of the XGBoost model with mutual_info_classif feature selection and HPO for k: {round(accuracy_score(y_testXG, y_pred_HPO_mutual)*100,4)}%\")"
      ],
      "metadata": {
        "colab": {
          "base_uri": "https://localhost:8080/"
        },
        "id": "kB8IYpj56qyY",
        "outputId": "35667472-9aae-4ac2-a4d6-07e17543272d"
      },
      "execution_count": 14,
      "outputs": [
        {
          "output_type": "stream",
          "name": "stdout",
          "text": [
            "Accuracy of the XGBoost model with f_classif feature selection and HPO for k: 93.8375%\n",
            "\n",
            "Accuracy of the XGBoost model with mutual_info_classif feature selection and HPO for k: 91.5966%\n"
          ]
        }
      ]
    },
    {
      "cell_type": "markdown",
      "source": [
        "Both models with HPO for the number of features selected (`k`) produce an improved accuracy from the best approach without HPO. Using accuracy as our metric, we find that the `f_classif` criterion continues to give the highest score."
      ],
      "metadata": {
        "id": "LU938jRy82qe"
      }
    },
    {
      "cell_type": "markdown",
      "source": [
        "Compared to the previous assignment, our HPO thus far is optimistic. Our model with feature selection and tuning for `k` beats the default XGBoost model from the previous assignment. The accuracy was increased from 92.7171% before to 93.8375%, showing an **improvement of 1.1204%**. However, our model is outperformed by the final XGBoost model with HPO on its parameters, which had an accuracy of 94.1176%."
      ],
      "metadata": {
        "id": "sHmKsDi8DQDS"
      }
    },
    {
      "cell_type": "markdown",
      "source": [
        "## 5. XGBoost with Optuna HPO"
      ],
      "metadata": {
        "id": "-XRzPF9u-3bE"
      }
    },
    {
      "cell_type": "markdown",
      "source": [
        "Now we will perform HPO on the hyper-parameters for XGBoost."
      ],
      "metadata": {
        "id": "oSshaBKx3VQH"
      }
    },
    {
      "cell_type": "markdown",
      "source": [
        "### Pipeline Set-up"
      ],
      "metadata": {
        "id": "HUmUE8_GGrsW"
      }
    },
    {
      "cell_type": "code",
      "source": [
        "# fixing number of features to the optimal amount identified\n",
        "best_k = len(feature_names_after_selection_f)\n",
        "selector_f = SelectKBest(f_classif, k=best_k)"
      ],
      "metadata": {
        "id": "jz3gQlO7AXRL"
      },
      "execution_count": 15,
      "outputs": []
    },
    {
      "cell_type": "code",
      "source": [
        "!pip install optuna\n",
        "!pip install optuna-integration --user\n",
        "!pip install optuna-integration[sklearn]"
      ],
      "metadata": {
        "colab": {
          "base_uri": "https://localhost:8080/"
        },
        "id": "0QTceeFHF_Kc",
        "outputId": "2419d6cb-a324-4762-e90f-ca70d5c27306"
      },
      "execution_count": 16,
      "outputs": [
        {
          "output_type": "stream",
          "name": "stdout",
          "text": [
            "Requirement already satisfied: optuna in /usr/local/lib/python3.10/dist-packages (4.1.0)\n",
            "Requirement already satisfied: alembic>=1.5.0 in /usr/local/lib/python3.10/dist-packages (from optuna) (1.14.0)\n",
            "Requirement already satisfied: colorlog in /usr/local/lib/python3.10/dist-packages (from optuna) (6.9.0)\n",
            "Requirement already satisfied: numpy in /usr/local/lib/python3.10/dist-packages (from optuna) (1.26.4)\n",
            "Requirement already satisfied: packaging>=20.0 in /usr/local/lib/python3.10/dist-packages (from optuna) (24.2)\n",
            "Requirement already satisfied: sqlalchemy>=1.4.2 in /usr/local/lib/python3.10/dist-packages (from optuna) (2.0.36)\n",
            "Requirement already satisfied: tqdm in /usr/local/lib/python3.10/dist-packages (from optuna) (4.66.6)\n",
            "Requirement already satisfied: PyYAML in /usr/local/lib/python3.10/dist-packages (from optuna) (6.0.2)\n",
            "Requirement already satisfied: Mako in /usr/local/lib/python3.10/dist-packages (from alembic>=1.5.0->optuna) (1.3.8)\n",
            "Requirement already satisfied: typing-extensions>=4 in /usr/local/lib/python3.10/dist-packages (from alembic>=1.5.0->optuna) (4.12.2)\n",
            "Requirement already satisfied: greenlet!=0.4.17 in /usr/local/lib/python3.10/dist-packages (from sqlalchemy>=1.4.2->optuna) (3.1.1)\n",
            "Requirement already satisfied: MarkupSafe>=0.9.2 in /usr/local/lib/python3.10/dist-packages (from Mako->alembic>=1.5.0->optuna) (3.0.2)\n",
            "Requirement already satisfied: optuna-integration in /root/.local/lib/python3.10/site-packages (4.1.0)\n",
            "Requirement already satisfied: optuna in /usr/local/lib/python3.10/dist-packages (from optuna-integration) (4.1.0)\n",
            "Requirement already satisfied: alembic>=1.5.0 in /usr/local/lib/python3.10/dist-packages (from optuna->optuna-integration) (1.14.0)\n",
            "Requirement already satisfied: colorlog in /usr/local/lib/python3.10/dist-packages (from optuna->optuna-integration) (6.9.0)\n",
            "Requirement already satisfied: numpy in /usr/local/lib/python3.10/dist-packages (from optuna->optuna-integration) (1.26.4)\n",
            "Requirement already satisfied: packaging>=20.0 in /usr/local/lib/python3.10/dist-packages (from optuna->optuna-integration) (24.2)\n",
            "Requirement already satisfied: sqlalchemy>=1.4.2 in /usr/local/lib/python3.10/dist-packages (from optuna->optuna-integration) (2.0.36)\n",
            "Requirement already satisfied: tqdm in /usr/local/lib/python3.10/dist-packages (from optuna->optuna-integration) (4.66.6)\n",
            "Requirement already satisfied: PyYAML in /usr/local/lib/python3.10/dist-packages (from optuna->optuna-integration) (6.0.2)\n",
            "Requirement already satisfied: Mako in /usr/local/lib/python3.10/dist-packages (from alembic>=1.5.0->optuna->optuna-integration) (1.3.8)\n",
            "Requirement already satisfied: typing-extensions>=4 in /usr/local/lib/python3.10/dist-packages (from alembic>=1.5.0->optuna->optuna-integration) (4.12.2)\n",
            "Requirement already satisfied: greenlet!=0.4.17 in /usr/local/lib/python3.10/dist-packages (from sqlalchemy>=1.4.2->optuna->optuna-integration) (3.1.1)\n",
            "Requirement already satisfied: MarkupSafe>=0.9.2 in /usr/local/lib/python3.10/dist-packages (from Mako->alembic>=1.5.0->optuna->optuna-integration) (3.0.2)\n",
            "Requirement already satisfied: optuna-integration[sklearn] in /root/.local/lib/python3.10/site-packages (4.1.0)\n",
            "Requirement already satisfied: optuna in /usr/local/lib/python3.10/dist-packages (from optuna-integration[sklearn]) (4.1.0)\n",
            "Requirement already satisfied: pandas in /usr/local/lib/python3.10/dist-packages (from optuna-integration[sklearn]) (2.2.2)\n",
            "Requirement already satisfied: scikit-learn in /usr/local/lib/python3.10/dist-packages (from optuna-integration[sklearn]) (1.5.2)\n",
            "Requirement already satisfied: scipy in /usr/local/lib/python3.10/dist-packages (from optuna-integration[sklearn]) (1.13.1)\n",
            "Requirement already satisfied: alembic>=1.5.0 in /usr/local/lib/python3.10/dist-packages (from optuna->optuna-integration[sklearn]) (1.14.0)\n",
            "Requirement already satisfied: colorlog in /usr/local/lib/python3.10/dist-packages (from optuna->optuna-integration[sklearn]) (6.9.0)\n",
            "Requirement already satisfied: numpy in /usr/local/lib/python3.10/dist-packages (from optuna->optuna-integration[sklearn]) (1.26.4)\n",
            "Requirement already satisfied: packaging>=20.0 in /usr/local/lib/python3.10/dist-packages (from optuna->optuna-integration[sklearn]) (24.2)\n",
            "Requirement already satisfied: sqlalchemy>=1.4.2 in /usr/local/lib/python3.10/dist-packages (from optuna->optuna-integration[sklearn]) (2.0.36)\n",
            "Requirement already satisfied: tqdm in /usr/local/lib/python3.10/dist-packages (from optuna->optuna-integration[sklearn]) (4.66.6)\n",
            "Requirement already satisfied: PyYAML in /usr/local/lib/python3.10/dist-packages (from optuna->optuna-integration[sklearn]) (6.0.2)\n",
            "Requirement already satisfied: python-dateutil>=2.8.2 in /usr/local/lib/python3.10/dist-packages (from pandas->optuna-integration[sklearn]) (2.8.2)\n",
            "Requirement already satisfied: pytz>=2020.1 in /usr/local/lib/python3.10/dist-packages (from pandas->optuna-integration[sklearn]) (2024.2)\n",
            "Requirement already satisfied: tzdata>=2022.7 in /usr/local/lib/python3.10/dist-packages (from pandas->optuna-integration[sklearn]) (2024.2)\n",
            "Requirement already satisfied: joblib>=1.2.0 in /usr/local/lib/python3.10/dist-packages (from scikit-learn->optuna-integration[sklearn]) (1.4.2)\n",
            "Requirement already satisfied: threadpoolctl>=3.1.0 in /usr/local/lib/python3.10/dist-packages (from scikit-learn->optuna-integration[sklearn]) (3.5.0)\n",
            "Requirement already satisfied: Mako in /usr/local/lib/python3.10/dist-packages (from alembic>=1.5.0->optuna->optuna-integration[sklearn]) (1.3.8)\n",
            "Requirement already satisfied: typing-extensions>=4 in /usr/local/lib/python3.10/dist-packages (from alembic>=1.5.0->optuna->optuna-integration[sklearn]) (4.12.2)\n",
            "Requirement already satisfied: six>=1.5 in /usr/local/lib/python3.10/dist-packages (from python-dateutil>=2.8.2->pandas->optuna-integration[sklearn]) (1.17.0)\n",
            "Requirement already satisfied: greenlet!=0.4.17 in /usr/local/lib/python3.10/dist-packages (from sqlalchemy>=1.4.2->optuna->optuna-integration[sklearn]) (3.1.1)\n",
            "Requirement already satisfied: MarkupSafe>=0.9.2 in /usr/local/lib/python3.10/dist-packages (from Mako->alembic>=1.5.0->optuna->optuna-integration[sklearn]) (3.0.2)\n"
          ]
        }
      ]
    },
    {
      "cell_type": "code",
      "source": [
        "# FROM ASSIGNMENT 1\n",
        "from optuna.distributions import IntDistribution as IntDist, FloatDistribution as FltDist\n",
        "\n",
        "param_optuna_xgb = {\n",
        "    'xgb__n_estimators': IntDist(50, 300),     # Boosting rounds\n",
        "    'xgb__max_depth': IntDist(3, 10),          # Controls model complexity\n",
        "    'xgb__learning_rate': FltDist(0.01, 0.3),  # Lower values require more boosting rounds\n",
        "    'xgb__subsample': FltDist(0.6, 1),         # Helps prevent overfitting by using a subset of data\n",
        "    'xgb__colsample_bytree': FltDist(0.6, 1),  # Controls feature sampling\n",
        "}"
      ],
      "metadata": {
        "id": "W2ftFBsjFiSZ"
      },
      "execution_count": 17,
      "outputs": []
    },
    {
      "cell_type": "code",
      "source": [
        "# reassembling the model pipeline\n",
        "xgb_pipe_full_f = Pipeline([\n",
        "  ('preprocessing', preprocessor),\n",
        "  ('select', selector_f),\n",
        "  ('xgb', XGB)\n",
        "])"
      ],
      "metadata": {
        "id": "apWmklXyCfwZ"
      },
      "execution_count": 18,
      "outputs": []
    },
    {
      "cell_type": "markdown",
      "source": [
        "### Optuna Approach"
      ],
      "metadata": {
        "id": "7tA8Nwv-GwQN"
      }
    },
    {
      "cell_type": "code",
      "source": [
        "import optuna\n",
        "\n",
        "# perform Optuna search with 50 trials\n",
        "opt_budget = 50\n",
        "optuna_xgb_clf = optuna.integration.OptunaSearchCV(xgb_pipe_full_f,\n",
        "                                                   param_optuna_xgb,\n",
        "                                                   scoring='accuracy',\n",
        "                                                   n_trials=opt_budget,\n",
        "                                                   n_jobs=1, verbose=1,\n",
        "                                                   timeout=600,\n",
        "                                                   random_state=NIU,\n",
        "                                                   refit=True)\n",
        "\n",
        "# train and predict\n",
        "optuna_xgb_clf.fit(X_train, y_trainXG)\n",
        "y_pred = optuna_xgb_clf.predict(X_test)"
      ],
      "metadata": {
        "colab": {
          "base_uri": "https://localhost:8080/"
        },
        "id": "qqpxx3JfG8gI",
        "outputId": "eb8a65a1-150f-48bd-bcd4-fddc94c75fbe"
      },
      "execution_count": 19,
      "outputs": [
        {
          "output_type": "stream",
          "name": "stderr",
          "text": [
            "<ipython-input-19-eb346651458f>:5: ExperimentalWarning: OptunaSearchCV is experimental (supported from v0.17.0). The interface can change in the future.\n",
            "  optuna_xgb_clf = optuna.integration.OptunaSearchCV(xgb_pipe_full_f,\n",
            "[I 2024-12-13 22:52:22,171] A new study created in memory with name: no-name-03af3771-3c5a-4cfa-a653-e8b0cb8532aa\n",
            "INFO:optuna_integration.sklearn.sklearn:Searching the best hyperparameters using 1069 samples...\n",
            "[I 2024-12-13 22:52:30,141] Trial 0 finished with value: 0.7512131981922688 and parameters: {'xgb__n_estimators': 109, 'xgb__max_depth': 3, 'xgb__learning_rate': 0.018824661554805402, 'xgb__subsample': 0.6544935572451392, 'xgb__colsample_bytree': 0.8298472582221841}. Best is trial 0 with value: 0.7512131981922688.\n",
            "[I 2024-12-13 22:52:48,081] Trial 1 finished with value: 0.8999341845465315 and parameters: {'xgb__n_estimators': 122, 'xgb__max_depth': 10, 'xgb__learning_rate': 0.07049977690311085, 'xgb__subsample': 0.8418091483754582, 'xgb__colsample_bytree': 0.7940711376847844}. Best is trial 1 with value: 0.8999341845465315.\n",
            "[I 2024-12-13 22:53:01,621] Trial 2 finished with value: 0.8896581984116538 and parameters: {'xgb__n_estimators': 184, 'xgb__max_depth': 9, 'xgb__learning_rate': 0.03949715466960233, 'xgb__subsample': 0.6443901525708896, 'xgb__colsample_bytree': 0.9873341492554149}. Best is trial 1 with value: 0.8999341845465315.\n",
            "[I 2024-12-13 22:53:04,907] Trial 3 finished with value: 0.8962002544864202 and parameters: {'xgb__n_estimators': 182, 'xgb__max_depth': 6, 'xgb__learning_rate': 0.2640857366816786, 'xgb__subsample': 0.7714513009539946, 'xgb__colsample_bytree': 0.8109719370015165}. Best is trial 1 with value: 0.8999341845465315.\n",
            "[I 2024-12-13 22:53:08,336] Trial 4 finished with value: 0.8868325216094073 and parameters: {'xgb__n_estimators': 276, 'xgb__max_depth': 5, 'xgb__learning_rate': 0.27181100960682797, 'xgb__subsample': 0.6361576158349607, 'xgb__colsample_bytree': 0.9364068331978698}. Best is trial 1 with value: 0.8999341845465315.\n",
            "[I 2024-12-13 22:53:12,469] Trial 5 finished with value: 0.8428809617831601 and parameters: {'xgb__n_estimators': 99, 'xgb__max_depth': 4, 'xgb__learning_rate': 0.07170516452538912, 'xgb__subsample': 0.9128143496736871, 'xgb__colsample_bytree': 0.8767695634985904}. Best is trial 1 with value: 0.8999341845465315.\n",
            "[I 2024-12-13 22:53:16,291] Trial 6 finished with value: 0.8877802641393533 and parameters: {'xgb__n_estimators': 232, 'xgb__max_depth': 5, 'xgb__learning_rate': 0.18233578523745123, 'xgb__subsample': 0.6306515215147345, 'xgb__colsample_bytree': 0.824194314402423}. Best is trial 1 with value: 0.8999341845465315.\n",
            "[I 2024-12-13 22:53:19,613] Trial 7 finished with value: 0.8943354833048133 and parameters: {'xgb__n_estimators': 234, 'xgb__max_depth': 10, 'xgb__learning_rate': 0.23627366624771917, 'xgb__subsample': 0.7949726038085672, 'xgb__colsample_bytree': 0.6976520011628329}. Best is trial 1 with value: 0.8999341845465315.\n",
            "[I 2024-12-13 22:53:22,728] Trial 8 finished with value: 0.8662366723706725 and parameters: {'xgb__n_estimators': 217, 'xgb__max_depth': 3, 'xgb__learning_rate': 0.21145676024296156, 'xgb__subsample': 0.7125439720029405, 'xgb__colsample_bytree': 0.92964452240676}. Best is trial 1 with value: 0.8999341845465315.\n",
            "[I 2024-12-13 22:53:28,699] Trial 9 finished with value: 0.8924443859418192 and parameters: {'xgb__n_estimators': 246, 'xgb__max_depth': 8, 'xgb__learning_rate': 0.1899815512060156, 'xgb__subsample': 0.7192396322081154, 'xgb__colsample_bytree': 0.6618876100491541}. Best is trial 1 with value: 0.8999341845465315.\n",
            "[I 2024-12-13 22:53:32,710] Trial 10 finished with value: 0.8924487736387171 and parameters: {'xgb__n_estimators': 52, 'xgb__max_depth': 8, 'xgb__learning_rate': 0.10331432552131761, 'xgb__subsample': 0.893891259537102, 'xgb__colsample_bytree': 0.7283343130272578}. Best is trial 1 with value: 0.8999341845465315.\n",
            "[I 2024-12-13 22:53:36,810] Trial 11 finished with value: 0.8989996051072792 and parameters: {'xgb__n_estimators': 144, 'xgb__max_depth': 7, 'xgb__learning_rate': 0.1363439383049782, 'xgb__subsample': 0.8401645951885531, 'xgb__colsample_bytree': 0.76549841383095}. Best is trial 1 with value: 0.8999341845465315.\n",
            "[I 2024-12-13 22:53:42,565] Trial 12 finished with value: 0.8952568996533721 and parameters: {'xgb__n_estimators': 131, 'xgb__max_depth': 7, 'xgb__learning_rate': 0.12425762308747222, 'xgb__subsample': 0.8584368488344897, 'xgb__colsample_bytree': 0.769295210833599}. Best is trial 1 with value: 0.8999341845465315.\n",
            "[I 2024-12-13 22:53:45,958] Trial 13 finished with value: 0.9008775393795798 and parameters: {'xgb__n_estimators': 141, 'xgb__max_depth': 10, 'xgb__learning_rate': 0.13719037443037216, 'xgb__subsample': 0.958942106659387, 'xgb__colsample_bytree': 0.7481674351252641}. Best is trial 13 with value: 0.9008775393795798.\n",
            "[I 2024-12-13 22:53:48,547] Trial 14 finished with value: 0.907419595454346 and parameters: {'xgb__n_estimators': 69, 'xgb__max_depth': 10, 'xgb__learning_rate': 0.07694005923017846, 'xgb__subsample': 0.9949307290731089, 'xgb__colsample_bytree': 0.611334480883694}. Best is trial 14 with value: 0.907419595454346.\n",
            "[I 2024-12-13 22:53:51,492] Trial 15 finished with value: 0.8896538107147558 and parameters: {'xgb__n_estimators': 51, 'xgb__max_depth': 9, 'xgb__learning_rate': 0.093303032095459, 'xgb__subsample': 0.9925924752203422, 'xgb__colsample_bytree': 0.6282588397872659}. Best is trial 14 with value: 0.907419595454346.\n",
            "[I 2024-12-13 22:53:56,918] Trial 16 finished with value: 0.8989908297134834 and parameters: {'xgb__n_estimators': 82, 'xgb__max_depth': 10, 'xgb__learning_rate': 0.13714239065641, 'xgb__subsample': 0.9981803801397316, 'xgb__colsample_bytree': 0.6073846424827576}. Best is trial 14 with value: 0.907419595454346.\n",
            "[I 2024-12-13 22:54:00,363] Trial 17 finished with value: 0.8943354833048133 and parameters: {'xgb__n_estimators': 156, 'xgb__max_depth': 9, 'xgb__learning_rate': 0.16536910404134317, 'xgb__subsample': 0.9507060957923684, 'xgb__colsample_bytree': 0.6928532622627827}. Best is trial 14 with value: 0.907419595454346.\n",
            "[I 2024-12-13 22:54:03,369] Trial 18 finished with value: 0.8924575490325128 and parameters: {'xgb__n_estimators': 84, 'xgb__max_depth': 8, 'xgb__learning_rate': 0.05528183094924316, 'xgb__subsample': 0.9442267469379472, 'xgb__colsample_bytree': 0.6473520943823132}. Best is trial 14 with value: 0.907419595454346.\n",
            "[I 2024-12-13 22:54:09,304] Trial 19 finished with value: 0.8961914790926244 and parameters: {'xgb__n_estimators': 161, 'xgb__max_depth': 10, 'xgb__learning_rate': 0.10230414096575192, 'xgb__subsample': 0.9430687727382524, 'xgb__colsample_bytree': 0.7276346885460474}. Best is trial 14 with value: 0.907419595454346.\n",
            "[I 2024-12-13 22:54:12,355] Trial 20 finished with value: 0.866258610855162 and parameters: {'xgb__n_estimators': 78, 'xgb__max_depth': 9, 'xgb__learning_rate': 0.014743213059641817, 'xgb__subsample': 0.8987434714989675, 'xgb__colsample_bytree': 0.6008806088325302}. Best is trial 14 with value: 0.907419595454346.\n",
            "[I 2024-12-13 22:54:15,417] Trial 21 finished with value: 0.8989996051072792 and parameters: {'xgb__n_estimators': 121, 'xgb__max_depth': 10, 'xgb__learning_rate': 0.0869042371738929, 'xgb__subsample': 0.8510912986245567, 'xgb__colsample_bytree': 0.8669119100411086}. Best is trial 14 with value: 0.907419595454346.\n",
            "[I 2024-12-13 22:54:18,878] Trial 22 finished with value: 0.9046114694396911 and parameters: {'xgb__n_estimators': 201, 'xgb__max_depth': 10, 'xgb__learning_rate': 0.06785562223688765, 'xgb__subsample': 0.9721469570283595, 'xgb__colsample_bytree': 0.7598042508425074}. Best is trial 14 with value: 0.907419595454346.\n",
            "[I 2024-12-13 22:54:25,461] Trial 23 finished with value: 0.8971348339256725 and parameters: {'xgb__n_estimators': 198, 'xgb__max_depth': 9, 'xgb__learning_rate': 0.046860538148045, 'xgb__subsample': 0.9708451386657952, 'xgb__colsample_bytree': 0.7417022369454902}. Best is trial 14 with value: 0.907419595454346.\n",
            "[I 2024-12-13 22:54:28,876] Trial 24 finished with value: 0.9036768900004388 and parameters: {'xgb__n_estimators': 204, 'xgb__max_depth': 10, 'xgb__learning_rate': 0.12069115888191712, 'xgb__subsample': 0.9218714410422978, 'xgb__colsample_bytree': 0.6812543789256178}. Best is trial 14 with value: 0.907419595454346.\n",
            "[I 2024-12-13 22:54:32,999] Trial 25 finished with value: 0.9036725023035409 and parameters: {'xgb__n_estimators': 283, 'xgb__max_depth': 8, 'xgb__learning_rate': 0.11718806693961746, 'xgb__subsample': 0.905187213924637, 'xgb__colsample_bytree': 0.6846116210277807}. Best is trial 14 with value: 0.907419595454346.\n",
            "[I 2024-12-13 22:54:39,246] Trial 26 finished with value: 0.9055460488789435 and parameters: {'xgb__n_estimators': 203, 'xgb__max_depth': 9, 'xgb__learning_rate': 0.06973259541027671, 'xgb__subsample': 0.9282840393263104, 'xgb__colsample_bytree': 0.6641487388514947}. Best is trial 14 with value: 0.907419595454346.\n",
            "[I 2024-12-13 22:54:43,622] Trial 27 finished with value: 0.8943310956079153 and parameters: {'xgb__n_estimators': 250, 'xgb__max_depth': 9, 'xgb__learning_rate': 0.0361043173413828, 'xgb__subsample': 0.997068779625772, 'xgb__colsample_bytree': 0.6350124853717778}. Best is trial 14 with value: 0.907419595454346.\n",
            "[I 2024-12-13 22:54:50,133] Trial 28 finished with value: 0.8924575490325128 and parameters: {'xgb__n_estimators': 168, 'xgb__max_depth': 7, 'xgb__learning_rate': 0.07480364336608163, 'xgb__subsample': 0.9691593438990255, 'xgb__colsample_bytree': 0.6611803658060397}. Best is trial 14 with value: 0.907419595454346.\n",
            "[I 2024-12-13 22:54:54,237] Trial 29 finished with value: 0.8933833530779693 and parameters: {'xgb__n_estimators': 265, 'xgb__max_depth': 8, 'xgb__learning_rate': 0.029917286855877835, 'xgb__subsample': 0.8728574982766375, 'xgb__colsample_bytree': 0.7100794864340667}. Best is trial 14 with value: 0.907419595454346.\n",
            "[I 2024-12-13 22:54:58,104] Trial 30 finished with value: 0.8990039928041773 and parameters: {'xgb__n_estimators': 212, 'xgb__max_depth': 9, 'xgb__learning_rate': 0.05862998932293606, 'xgb__subsample': 0.9354569280344426, 'xgb__colsample_bytree': 0.6162157221778637}. Best is trial 14 with value: 0.907419595454346.\n",
            "[I 2024-12-13 22:55:04,460] Trial 31 finished with value: 0.8980650256680269 and parameters: {'xgb__n_estimators': 198, 'xgb__max_depth': 10, 'xgb__learning_rate': 0.11058522721566147, 'xgb__subsample': 0.9195065992200702, 'xgb__colsample_bytree': 0.6820677765286897}. Best is trial 14 with value: 0.907419595454346.\n",
            "[I 2024-12-13 22:55:07,790] Trial 32 finished with value: 0.899008380501075 and parameters: {'xgb__n_estimators': 197, 'xgb__max_depth': 10, 'xgb__learning_rate': 0.08525624378305605, 'xgb__subsample': 0.9699421091575837, 'xgb__colsample_bytree': 0.6594140005834048}. Best is trial 14 with value: 0.907419595454346.\n",
            "[I 2024-12-13 22:55:11,369] Trial 33 finished with value: 0.9046026940458953 and parameters: {'xgb__n_estimators': 218, 'xgb__max_depth': 10, 'xgb__learning_rate': 0.06432172700562891, 'xgb__subsample': 0.9255090362979171, 'xgb__colsample_bytree': 0.7892700137268516}. Best is trial 14 with value: 0.907419595454346.\n",
            "[I 2024-12-13 22:55:17,739] Trial 34 finished with value: 0.8859111052608485 and parameters: {'xgb__n_estimators': 181, 'xgb__max_depth': 9, 'xgb__learning_rate': 0.015714950764890316, 'xgb__subsample': 0.8789912592368001, 'xgb__colsample_bytree': 0.7811040508364367}. Best is trial 14 with value: 0.907419595454346.\n",
            "[I 2024-12-13 22:55:21,511] Trial 35 finished with value: 0.8999429599403272 and parameters: {'xgb__n_estimators': 229, 'xgb__max_depth': 10, 'xgb__learning_rate': 0.058987507339781343, 'xgb__subsample': 0.9740534904541363, 'xgb__colsample_bytree': 0.8018163959676909}. Best is trial 14 with value: 0.907419595454346.\n",
            "[I 2024-12-13 22:55:24,655] Trial 36 finished with value: 0.8933965161686631 and parameters: {'xgb__n_estimators': 219, 'xgb__max_depth': 9, 'xgb__learning_rate': 0.291717757916499, 'xgb__subsample': 0.8129006145803309, 'xgb__colsample_bytree': 0.8412911546062846}. Best is trial 14 with value: 0.907419595454346.\n",
            "[I 2024-12-13 22:55:29,924] Trial 37 finished with value: 0.8868281339125094 and parameters: {'xgb__n_estimators': 179, 'xgb__max_depth': 6, 'xgb__learning_rate': 0.07172438699801255, 'xgb__subsample': 0.7522104120027447, 'xgb__colsample_bytree': 0.8571028686744874}. Best is trial 14 with value: 0.907419595454346.\n",
            "[I 2024-12-13 22:55:35,110] Trial 38 finished with value: 0.8905840024571102 and parameters: {'xgb__n_estimators': 257, 'xgb__max_depth': 10, 'xgb__learning_rate': 0.028300542712128472, 'xgb__subsample': 0.604144742919316, 'xgb__colsample_bytree': 0.901799389078952}. Best is trial 14 with value: 0.907419595454346.\n",
            "[I 2024-12-13 22:55:39,158] Trial 39 finished with value: 0.8943223202141196 and parameters: {'xgb__n_estimators': 300, 'xgb__max_depth': 9, 'xgb__learning_rate': 0.054182987704031516, 'xgb__subsample': 0.927017273629456, 'xgb__colsample_bytree': 0.8051066530611379}. Best is trial 14 with value: 0.907419595454346.\n",
            "[I 2024-12-13 22:55:44,124] Trial 40 finished with value: 0.8896581984116538 and parameters: {'xgb__n_estimators': 233, 'xgb__max_depth': 5, 'xgb__learning_rate': 0.07485870497118129, 'xgb__subsample': 0.9851450650153089, 'xgb__colsample_bytree': 0.8295944698367027}. Best is trial 14 with value: 0.907419595454346.\n",
            "[I 2024-12-13 22:55:48,654] Trial 41 finished with value: 0.9036593392128471 and parameters: {'xgb__n_estimators': 207, 'xgb__max_depth': 10, 'xgb__learning_rate': 0.15451551125771243, 'xgb__subsample': 0.9188178819644763, 'xgb__colsample_bytree': 0.7124327271265875}. Best is trial 14 with value: 0.907419595454346.\n",
            "[I 2024-12-13 22:55:52,272] Trial 42 finished with value: 0.9055504365758413 and parameters: {'xgb__n_estimators': 197, 'xgb__max_depth': 10, 'xgb__learning_rate': 0.09309980549122411, 'xgb__subsample': 0.8892725664836943, 'xgb__colsample_bytree': 0.6365851849005704}. Best is trial 14 with value: 0.907419595454346.\n",
            "[I 2024-12-13 22:55:57,298] Trial 43 finished with value: 0.8990039928041771 and parameters: {'xgb__n_estimators': 226, 'xgb__max_depth': 10, 'xgb__learning_rate': 0.09288887060410174, 'xgb__subsample': 0.8877106919245137, 'xgb__colsample_bytree': 0.6308921627733226}. Best is trial 14 with value: 0.907419595454346.\n",
            "[I 2024-12-13 22:56:02,438] Trial 44 finished with value: 0.8990039928041773 and parameters: {'xgb__n_estimators': 189, 'xgb__max_depth': 10, 'xgb__learning_rate': 0.06811332254173938, 'xgb__subsample': 0.9542621630948042, 'xgb__colsample_bytree': 0.9776926950873241}. Best is trial 14 with value: 0.907419595454346.\n",
            "[I 2024-12-13 22:56:05,805] Trial 45 finished with value: 0.8148172524242024 and parameters: {'xgb__n_estimators': 242, 'xgb__max_depth': 3, 'xgb__learning_rate': 0.04470906740872556, 'xgb__subsample': 0.9427636531145418, 'xgb__colsample_bytree': 0.6535485065325716}. Best is trial 14 with value: 0.907419595454346.\n",
            "[I 2024-12-13 22:56:14,216] Trial 46 finished with value: 0.892444385941819 and parameters: {'xgb__n_estimators': 170, 'xgb__max_depth': 8, 'xgb__learning_rate': 0.10092055748561976, 'xgb__subsample': 0.8157814175034093, 'xgb__colsample_bytree': 0.783928427844577}. Best is trial 14 with value: 0.907419595454346.\n",
            "[I 2024-12-13 22:56:18,902] Trial 47 finished with value: 0.8887148435786056 and parameters: {'xgb__n_estimators': 191, 'xgb__max_depth': 9, 'xgb__learning_rate': 0.08149053394393356, 'xgb__subsample': 0.6740816894999426, 'xgb__colsample_bytree': 0.7591082715706854}. Best is trial 14 with value: 0.907419595454346.\n",
            "[I 2024-12-13 22:56:22,080] Trial 48 finished with value: 0.8961783160019307 and parameters: {'xgb__n_estimators': 150, 'xgb__max_depth': 10, 'xgb__learning_rate': 0.23539854360873144, 'xgb__subsample': 0.8655533240016025, 'xgb__colsample_bytree': 0.620313125353531}. Best is trial 14 with value: 0.907419595454346.\n",
            "[I 2024-12-13 22:56:27,822] Trial 49 finished with value: 0.867171251809925 and parameters: {'xgb__n_estimators': 216, 'xgb__max_depth': 4, 'xgb__learning_rate': 0.06645515197953066, 'xgb__subsample': 0.8306272049810116, 'xgb__colsample_bytree': 0.6419188016447241}. Best is trial 14 with value: 0.907419595454346.\n",
            "INFO:optuna_integration.sklearn.sklearn:Finished hyperparameter search!\n",
            "INFO:optuna_integration.sklearn.sklearn:Refitting the estimator using 1069 samples...\n",
            "INFO:optuna_integration.sklearn.sklearn:Finished refitting! (elapsed time: 0.516 sec.)\n"
          ]
        }
      ]
    },
    {
      "cell_type": "code",
      "source": [
        "# view the features selected\n",
        "Locations = np.where(optuna_xgb_clf.best_estimator_.named_steps['select'].get_support())[0]\n",
        "selected_features = [feature_names[i] for i in Locations]\n",
        "\n",
        "print(\"Selected Features:\", selected_features)\n",
        "print(\"Number of features selected:\", len(selected_features))"
      ],
      "metadata": {
        "colab": {
          "base_uri": "https://localhost:8080/"
        },
        "id": "U0NSt0LA4bXe",
        "outputId": "b1749a1a-1b2b-4f49-b39d-cf5879fc6e1d"
      },
      "execution_count": 20,
      "outputs": [
        {
          "output_type": "stream",
          "name": "stdout",
          "text": [
            "Selected Features: ['hrs', 'absences', 'PerformanceRating', 'EnvironmentSatisfaction', 'JobSatisfaction', 'WorkLifeBalance', 'Age', 'Department', 'DistanceFromHome', 'Education', 'EducationField', 'JobLevel', 'MaritalStatus', 'MonthlyIncome', 'NumCompaniesWorked', 'StockOptionLevel', 'TotalWorkingYears', 'TrainingTimesLastYear', 'YearsAtCompany', 'YearsSinceLastPromotion', 'YearsWithCurrManager']\n",
            "Number of features selected: 21\n"
          ]
        }
      ]
    },
    {
      "cell_type": "markdown",
      "source": [
        "## 6. Examining Results"
      ],
      "metadata": {
        "id": "oYsapmXFOAhk"
      }
    },
    {
      "cell_type": "code",
      "source": [
        "final_acc = accuracy_score(y_testXG, y_pred)\n",
        "print(f\"XGBoost model accuracy with f_classif criterion and HPO: {round(final_acc*100, 4)}%\")"
      ],
      "metadata": {
        "colab": {
          "base_uri": "https://localhost:8080/"
        },
        "id": "PtPT_IAp5FZ4",
        "outputId": "87d30d9a-0b90-465d-93a7-416112e3a072"
      },
      "execution_count": 21,
      "outputs": [
        {
          "output_type": "stream",
          "name": "stdout",
          "text": [
            "XGBoost model accuracy with f_classif criterion and HPO: 94.1176%\n"
          ]
        }
      ]
    },
    {
      "cell_type": "markdown",
      "source": [
        "After additionally applying Optuna HPO, we obtain an improved accuracy for our XGBoost model compared to using default hyper-parameters. On the testing dataset, our accuracy is now 94.1176%, up 0.2801%."
      ],
      "metadata": {
        "id": "mNxU_CCtOKiN"
      }
    },
    {
      "cell_type": "markdown",
      "source": [
        "However, compared to our final model produced from Assignment 1, we observe that our accuracy scores are exactly the same, including even the confidence intervals."
      ],
      "metadata": {
        "id": "Lzo_Cu8N5ui9"
      }
    },
    {
      "cell_type": "code",
      "source": [
        "from statsmodels.stats.proportion import proportion_confint\n",
        "\n",
        "conf_int_XGB = proportion_confint(len(y_testXG) * final_acc, len(y_testXG), method=\"wilson\")\n",
        "print(\"XGB with HPO (Assignment 1) -- (0.9117523092058187, 0.9612072476851393)\")\n",
        "print(f\"XGB with feature selection and HPO (Assignment 2) -- {conf_int_XGB}\")"
      ],
      "metadata": {
        "colab": {
          "base_uri": "https://localhost:8080/"
        },
        "id": "T4BvrHc-M5Z_",
        "outputId": "d608e1f7-01ca-465e-b785-0cf95082b077"
      },
      "execution_count": 22,
      "outputs": [
        {
          "output_type": "stream",
          "name": "stdout",
          "text": [
            "XGB with HPO (Assignment 1) -- (0.9117523092058187, 0.9612072476851393)\n",
            "XGB with feature selection and HPO (Assignment 2) -- (0.9117523092058187, 0.9612072476851393)\n"
          ]
        }
      ]
    },
    {
      "cell_type": "markdown",
      "source": [
        "Interestingly, these values were obtained with different hyper-parameters for our XGBoost model."
      ],
      "metadata": {
        "id": "-GEDxzkf8KpV"
      }
    },
    {
      "cell_type": "code",
      "source": [
        "print(\"Assignment 1, best_params_:\")\n",
        "print(\"{'n_estimators': 157,\\n'max_depth': 9,\\n'learning_rate': 0.09811338700649763,\\n'subsample': 0.9248027925331067,\\n'colsample_bytree': 0.7464780338351065}\\n\")\n",
        "print(\"Assignment 2, best_params_:\")\n",
        "optuna_xgb_clf.best_params_"
      ],
      "metadata": {
        "colab": {
          "base_uri": "https://localhost:8080/"
        },
        "id": "GgyV_TYi8Fb5",
        "outputId": "0a2764c0-665e-4099-97ea-8781f290bef3"
      },
      "execution_count": 23,
      "outputs": [
        {
          "output_type": "stream",
          "name": "stdout",
          "text": [
            "Assignment 1, best_params_:\n",
            "{'n_estimators': 157,\n",
            "'max_depth': 9,\n",
            "'learning_rate': 0.09811338700649763,\n",
            "'subsample': 0.9248027925331067,\n",
            "'colsample_bytree': 0.7464780338351065}\n",
            "\n",
            "Assignment 2, best_params_:\n"
          ]
        },
        {
          "output_type": "execute_result",
          "data": {
            "text/plain": [
              "{'xgb__n_estimators': 69,\n",
              " 'xgb__max_depth': 10,\n",
              " 'xgb__learning_rate': 0.07694005923017846,\n",
              " 'xgb__subsample': 0.9949307290731089,\n",
              " 'xgb__colsample_bytree': 0.611334480883694}"
            ]
          },
          "metadata": {},
          "execution_count": 23
        }
      ]
    },
    {
      "cell_type": "markdown",
      "source": [
        "Acknowledging this, the similar accuracies are caused by us reading from the same, mass data. While the accuracy was not improved, it should generalize more and show higher performance for new data."
      ],
      "metadata": {
        "id": "3NpTYCO99vDP"
      }
    },
    {
      "cell_type": "markdown",
      "source": [
        "## 7. Competition Set and Final Model"
      ],
      "metadata": {
        "id": "554bGTy4Oe7o"
      }
    },
    {
      "cell_type": "markdown",
      "source": [
        "We can now train our final model and make predictions against the competition dataset."
      ],
      "metadata": {
        "id": "8S4DTp--Bvbd"
      }
    },
    {
      "cell_type": "code",
      "source": [
        "# creating our final model\n",
        "final_model = XGBClassifier(\n",
        "  n_estimators=optuna_xgb_clf.best_params_['xgb__n_estimators'],\n",
        "  max_depth=optuna_xgb_clf.best_params_['xgb__max_depth'],\n",
        "  learning_rate=optuna_xgb_clf.best_params_['xgb__learning_rate'],\n",
        "  subsample=optuna_xgb_clf.best_params_['xgb__subsample'],\n",
        "  colsample_bytree=optuna_xgb_clf.best_params_['xgb__colsample_bytree'],\n",
        "  random_state=NIU\n",
        ")\n",
        "\n",
        "# reassembling the pipeline\n",
        "final_pipe = Pipeline([\n",
        "  ('preprocessing', preprocessor),\n",
        "  ('select', selector_f),\n",
        "  ('xgb', final_model)\n",
        "])\n",
        "\n",
        "# train using the entire dataset\n",
        "y_XG = y.map({'No': 0, 'Yes': 1})\n",
        "final_pipe.fit(X, y_XG)"
      ],
      "metadata": {
        "colab": {
          "base_uri": "https://localhost:8080/",
          "height": 370
        },
        "id": "jMEJAWHyB0OO",
        "outputId": "397e97fa-6b3f-4c8e-b621-4b3428cd770a"
      },
      "execution_count": 24,
      "outputs": [
        {
          "output_type": "execute_result",
          "data": {
            "text/plain": [
              "Pipeline(steps=[('preprocessing',\n",
              "                 Pipeline(steps=[('iterative_imputer', IterativeImputer()),\n",
              "                                 ('to_dataframe',\n",
              "                                  ToDataFrame(columns=['hrs', 'absences',\n",
              "                                                       'JobInvolvement',\n",
              "                                                       'PerformanceRating',\n",
              "                                                       'EnvironmentSatisfaction',\n",
              "                                                       'JobSatisfaction',\n",
              "                                                       'WorkLifeBalance', 'Age',\n",
              "                                                       'BusinessTravel',\n",
              "                                                       'Department',\n",
              "                                                       'DistanceFromHome',\n",
              "                                                       'Education',\n",
              "                                                       'EducationField',\n",
              "                                                       'Gender', 'JobLevel',\n",
              "                                                       'Jo...\n",
              "                               importance_type=None,\n",
              "                               interaction_constraints=None,\n",
              "                               learning_rate=0.07694005923017846, max_bin=None,\n",
              "                               max_cat_threshold=None, max_cat_to_onehot=None,\n",
              "                               max_delta_step=None, max_depth=10,\n",
              "                               max_leaves=None, min_child_weight=None,\n",
              "                               missing=nan, monotone_constraints=None,\n",
              "                               multi_strategy=None, n_estimators=69,\n",
              "                               n_jobs=None, num_parallel_tree=None,\n",
              "                               random_state=100547834, ...))])"
            ],
            "text/html": [
              "<style>#sk-container-id-1 {\n",
              "  /* Definition of color scheme common for light and dark mode */\n",
              "  --sklearn-color-text: black;\n",
              "  --sklearn-color-line: gray;\n",
              "  /* Definition of color scheme for unfitted estimators */\n",
              "  --sklearn-color-unfitted-level-0: #fff5e6;\n",
              "  --sklearn-color-unfitted-level-1: #f6e4d2;\n",
              "  --sklearn-color-unfitted-level-2: #ffe0b3;\n",
              "  --sklearn-color-unfitted-level-3: chocolate;\n",
              "  /* Definition of color scheme for fitted estimators */\n",
              "  --sklearn-color-fitted-level-0: #f0f8ff;\n",
              "  --sklearn-color-fitted-level-1: #d4ebff;\n",
              "  --sklearn-color-fitted-level-2: #b3dbfd;\n",
              "  --sklearn-color-fitted-level-3: cornflowerblue;\n",
              "\n",
              "  /* Specific color for light theme */\n",
              "  --sklearn-color-text-on-default-background: var(--sg-text-color, var(--theme-code-foreground, var(--jp-content-font-color1, black)));\n",
              "  --sklearn-color-background: var(--sg-background-color, var(--theme-background, var(--jp-layout-color0, white)));\n",
              "  --sklearn-color-border-box: var(--sg-text-color, var(--theme-code-foreground, var(--jp-content-font-color1, black)));\n",
              "  --sklearn-color-icon: #696969;\n",
              "\n",
              "  @media (prefers-color-scheme: dark) {\n",
              "    /* Redefinition of color scheme for dark theme */\n",
              "    --sklearn-color-text-on-default-background: var(--sg-text-color, var(--theme-code-foreground, var(--jp-content-font-color1, white)));\n",
              "    --sklearn-color-background: var(--sg-background-color, var(--theme-background, var(--jp-layout-color0, #111)));\n",
              "    --sklearn-color-border-box: var(--sg-text-color, var(--theme-code-foreground, var(--jp-content-font-color1, white)));\n",
              "    --sklearn-color-icon: #878787;\n",
              "  }\n",
              "}\n",
              "\n",
              "#sk-container-id-1 {\n",
              "  color: var(--sklearn-color-text);\n",
              "}\n",
              "\n",
              "#sk-container-id-1 pre {\n",
              "  padding: 0;\n",
              "}\n",
              "\n",
              "#sk-container-id-1 input.sk-hidden--visually {\n",
              "  border: 0;\n",
              "  clip: rect(1px 1px 1px 1px);\n",
              "  clip: rect(1px, 1px, 1px, 1px);\n",
              "  height: 1px;\n",
              "  margin: -1px;\n",
              "  overflow: hidden;\n",
              "  padding: 0;\n",
              "  position: absolute;\n",
              "  width: 1px;\n",
              "}\n",
              "\n",
              "#sk-container-id-1 div.sk-dashed-wrapped {\n",
              "  border: 1px dashed var(--sklearn-color-line);\n",
              "  margin: 0 0.4em 0.5em 0.4em;\n",
              "  box-sizing: border-box;\n",
              "  padding-bottom: 0.4em;\n",
              "  background-color: var(--sklearn-color-background);\n",
              "}\n",
              "\n",
              "#sk-container-id-1 div.sk-container {\n",
              "  /* jupyter's `normalize.less` sets `[hidden] { display: none; }`\n",
              "     but bootstrap.min.css set `[hidden] { display: none !important; }`\n",
              "     so we also need the `!important` here to be able to override the\n",
              "     default hidden behavior on the sphinx rendered scikit-learn.org.\n",
              "     See: https://github.com/scikit-learn/scikit-learn/issues/21755 */\n",
              "  display: inline-block !important;\n",
              "  position: relative;\n",
              "}\n",
              "\n",
              "#sk-container-id-1 div.sk-text-repr-fallback {\n",
              "  display: none;\n",
              "}\n",
              "\n",
              "div.sk-parallel-item,\n",
              "div.sk-serial,\n",
              "div.sk-item {\n",
              "  /* draw centered vertical line to link estimators */\n",
              "  background-image: linear-gradient(var(--sklearn-color-text-on-default-background), var(--sklearn-color-text-on-default-background));\n",
              "  background-size: 2px 100%;\n",
              "  background-repeat: no-repeat;\n",
              "  background-position: center center;\n",
              "}\n",
              "\n",
              "/* Parallel-specific style estimator block */\n",
              "\n",
              "#sk-container-id-1 div.sk-parallel-item::after {\n",
              "  content: \"\";\n",
              "  width: 100%;\n",
              "  border-bottom: 2px solid var(--sklearn-color-text-on-default-background);\n",
              "  flex-grow: 1;\n",
              "}\n",
              "\n",
              "#sk-container-id-1 div.sk-parallel {\n",
              "  display: flex;\n",
              "  align-items: stretch;\n",
              "  justify-content: center;\n",
              "  background-color: var(--sklearn-color-background);\n",
              "  position: relative;\n",
              "}\n",
              "\n",
              "#sk-container-id-1 div.sk-parallel-item {\n",
              "  display: flex;\n",
              "  flex-direction: column;\n",
              "}\n",
              "\n",
              "#sk-container-id-1 div.sk-parallel-item:first-child::after {\n",
              "  align-self: flex-end;\n",
              "  width: 50%;\n",
              "}\n",
              "\n",
              "#sk-container-id-1 div.sk-parallel-item:last-child::after {\n",
              "  align-self: flex-start;\n",
              "  width: 50%;\n",
              "}\n",
              "\n",
              "#sk-container-id-1 div.sk-parallel-item:only-child::after {\n",
              "  width: 0;\n",
              "}\n",
              "\n",
              "/* Serial-specific style estimator block */\n",
              "\n",
              "#sk-container-id-1 div.sk-serial {\n",
              "  display: flex;\n",
              "  flex-direction: column;\n",
              "  align-items: center;\n",
              "  background-color: var(--sklearn-color-background);\n",
              "  padding-right: 1em;\n",
              "  padding-left: 1em;\n",
              "}\n",
              "\n",
              "\n",
              "/* Toggleable style: style used for estimator/Pipeline/ColumnTransformer box that is\n",
              "clickable and can be expanded/collapsed.\n",
              "- Pipeline and ColumnTransformer use this feature and define the default style\n",
              "- Estimators will overwrite some part of the style using the `sk-estimator` class\n",
              "*/\n",
              "\n",
              "/* Pipeline and ColumnTransformer style (default) */\n",
              "\n",
              "#sk-container-id-1 div.sk-toggleable {\n",
              "  /* Default theme specific background. It is overwritten whether we have a\n",
              "  specific estimator or a Pipeline/ColumnTransformer */\n",
              "  background-color: var(--sklearn-color-background);\n",
              "}\n",
              "\n",
              "/* Toggleable label */\n",
              "#sk-container-id-1 label.sk-toggleable__label {\n",
              "  cursor: pointer;\n",
              "  display: block;\n",
              "  width: 100%;\n",
              "  margin-bottom: 0;\n",
              "  padding: 0.5em;\n",
              "  box-sizing: border-box;\n",
              "  text-align: center;\n",
              "}\n",
              "\n",
              "#sk-container-id-1 label.sk-toggleable__label-arrow:before {\n",
              "  /* Arrow on the left of the label */\n",
              "  content: \"▸\";\n",
              "  float: left;\n",
              "  margin-right: 0.25em;\n",
              "  color: var(--sklearn-color-icon);\n",
              "}\n",
              "\n",
              "#sk-container-id-1 label.sk-toggleable__label-arrow:hover:before {\n",
              "  color: var(--sklearn-color-text);\n",
              "}\n",
              "\n",
              "/* Toggleable content - dropdown */\n",
              "\n",
              "#sk-container-id-1 div.sk-toggleable__content {\n",
              "  max-height: 0;\n",
              "  max-width: 0;\n",
              "  overflow: hidden;\n",
              "  text-align: left;\n",
              "  /* unfitted */\n",
              "  background-color: var(--sklearn-color-unfitted-level-0);\n",
              "}\n",
              "\n",
              "#sk-container-id-1 div.sk-toggleable__content.fitted {\n",
              "  /* fitted */\n",
              "  background-color: var(--sklearn-color-fitted-level-0);\n",
              "}\n",
              "\n",
              "#sk-container-id-1 div.sk-toggleable__content pre {\n",
              "  margin: 0.2em;\n",
              "  border-radius: 0.25em;\n",
              "  color: var(--sklearn-color-text);\n",
              "  /* unfitted */\n",
              "  background-color: var(--sklearn-color-unfitted-level-0);\n",
              "}\n",
              "\n",
              "#sk-container-id-1 div.sk-toggleable__content.fitted pre {\n",
              "  /* unfitted */\n",
              "  background-color: var(--sklearn-color-fitted-level-0);\n",
              "}\n",
              "\n",
              "#sk-container-id-1 input.sk-toggleable__control:checked~div.sk-toggleable__content {\n",
              "  /* Expand drop-down */\n",
              "  max-height: 200px;\n",
              "  max-width: 100%;\n",
              "  overflow: auto;\n",
              "}\n",
              "\n",
              "#sk-container-id-1 input.sk-toggleable__control:checked~label.sk-toggleable__label-arrow:before {\n",
              "  content: \"▾\";\n",
              "}\n",
              "\n",
              "/* Pipeline/ColumnTransformer-specific style */\n",
              "\n",
              "#sk-container-id-1 div.sk-label input.sk-toggleable__control:checked~label.sk-toggleable__label {\n",
              "  color: var(--sklearn-color-text);\n",
              "  background-color: var(--sklearn-color-unfitted-level-2);\n",
              "}\n",
              "\n",
              "#sk-container-id-1 div.sk-label.fitted input.sk-toggleable__control:checked~label.sk-toggleable__label {\n",
              "  background-color: var(--sklearn-color-fitted-level-2);\n",
              "}\n",
              "\n",
              "/* Estimator-specific style */\n",
              "\n",
              "/* Colorize estimator box */\n",
              "#sk-container-id-1 div.sk-estimator input.sk-toggleable__control:checked~label.sk-toggleable__label {\n",
              "  /* unfitted */\n",
              "  background-color: var(--sklearn-color-unfitted-level-2);\n",
              "}\n",
              "\n",
              "#sk-container-id-1 div.sk-estimator.fitted input.sk-toggleable__control:checked~label.sk-toggleable__label {\n",
              "  /* fitted */\n",
              "  background-color: var(--sklearn-color-fitted-level-2);\n",
              "}\n",
              "\n",
              "#sk-container-id-1 div.sk-label label.sk-toggleable__label,\n",
              "#sk-container-id-1 div.sk-label label {\n",
              "  /* The background is the default theme color */\n",
              "  color: var(--sklearn-color-text-on-default-background);\n",
              "}\n",
              "\n",
              "/* On hover, darken the color of the background */\n",
              "#sk-container-id-1 div.sk-label:hover label.sk-toggleable__label {\n",
              "  color: var(--sklearn-color-text);\n",
              "  background-color: var(--sklearn-color-unfitted-level-2);\n",
              "}\n",
              "\n",
              "/* Label box, darken color on hover, fitted */\n",
              "#sk-container-id-1 div.sk-label.fitted:hover label.sk-toggleable__label.fitted {\n",
              "  color: var(--sklearn-color-text);\n",
              "  background-color: var(--sklearn-color-fitted-level-2);\n",
              "}\n",
              "\n",
              "/* Estimator label */\n",
              "\n",
              "#sk-container-id-1 div.sk-label label {\n",
              "  font-family: monospace;\n",
              "  font-weight: bold;\n",
              "  display: inline-block;\n",
              "  line-height: 1.2em;\n",
              "}\n",
              "\n",
              "#sk-container-id-1 div.sk-label-container {\n",
              "  text-align: center;\n",
              "}\n",
              "\n",
              "/* Estimator-specific */\n",
              "#sk-container-id-1 div.sk-estimator {\n",
              "  font-family: monospace;\n",
              "  border: 1px dotted var(--sklearn-color-border-box);\n",
              "  border-radius: 0.25em;\n",
              "  box-sizing: border-box;\n",
              "  margin-bottom: 0.5em;\n",
              "  /* unfitted */\n",
              "  background-color: var(--sklearn-color-unfitted-level-0);\n",
              "}\n",
              "\n",
              "#sk-container-id-1 div.sk-estimator.fitted {\n",
              "  /* fitted */\n",
              "  background-color: var(--sklearn-color-fitted-level-0);\n",
              "}\n",
              "\n",
              "/* on hover */\n",
              "#sk-container-id-1 div.sk-estimator:hover {\n",
              "  /* unfitted */\n",
              "  background-color: var(--sklearn-color-unfitted-level-2);\n",
              "}\n",
              "\n",
              "#sk-container-id-1 div.sk-estimator.fitted:hover {\n",
              "  /* fitted */\n",
              "  background-color: var(--sklearn-color-fitted-level-2);\n",
              "}\n",
              "\n",
              "/* Specification for estimator info (e.g. \"i\" and \"?\") */\n",
              "\n",
              "/* Common style for \"i\" and \"?\" */\n",
              "\n",
              ".sk-estimator-doc-link,\n",
              "a:link.sk-estimator-doc-link,\n",
              "a:visited.sk-estimator-doc-link {\n",
              "  float: right;\n",
              "  font-size: smaller;\n",
              "  line-height: 1em;\n",
              "  font-family: monospace;\n",
              "  background-color: var(--sklearn-color-background);\n",
              "  border-radius: 1em;\n",
              "  height: 1em;\n",
              "  width: 1em;\n",
              "  text-decoration: none !important;\n",
              "  margin-left: 1ex;\n",
              "  /* unfitted */\n",
              "  border: var(--sklearn-color-unfitted-level-1) 1pt solid;\n",
              "  color: var(--sklearn-color-unfitted-level-1);\n",
              "}\n",
              "\n",
              ".sk-estimator-doc-link.fitted,\n",
              "a:link.sk-estimator-doc-link.fitted,\n",
              "a:visited.sk-estimator-doc-link.fitted {\n",
              "  /* fitted */\n",
              "  border: var(--sklearn-color-fitted-level-1) 1pt solid;\n",
              "  color: var(--sklearn-color-fitted-level-1);\n",
              "}\n",
              "\n",
              "/* On hover */\n",
              "div.sk-estimator:hover .sk-estimator-doc-link:hover,\n",
              ".sk-estimator-doc-link:hover,\n",
              "div.sk-label-container:hover .sk-estimator-doc-link:hover,\n",
              ".sk-estimator-doc-link:hover {\n",
              "  /* unfitted */\n",
              "  background-color: var(--sklearn-color-unfitted-level-3);\n",
              "  color: var(--sklearn-color-background);\n",
              "  text-decoration: none;\n",
              "}\n",
              "\n",
              "div.sk-estimator.fitted:hover .sk-estimator-doc-link.fitted:hover,\n",
              ".sk-estimator-doc-link.fitted:hover,\n",
              "div.sk-label-container:hover .sk-estimator-doc-link.fitted:hover,\n",
              ".sk-estimator-doc-link.fitted:hover {\n",
              "  /* fitted */\n",
              "  background-color: var(--sklearn-color-fitted-level-3);\n",
              "  color: var(--sklearn-color-background);\n",
              "  text-decoration: none;\n",
              "}\n",
              "\n",
              "/* Span, style for the box shown on hovering the info icon */\n",
              ".sk-estimator-doc-link span {\n",
              "  display: none;\n",
              "  z-index: 9999;\n",
              "  position: relative;\n",
              "  font-weight: normal;\n",
              "  right: .2ex;\n",
              "  padding: .5ex;\n",
              "  margin: .5ex;\n",
              "  width: min-content;\n",
              "  min-width: 20ex;\n",
              "  max-width: 50ex;\n",
              "  color: var(--sklearn-color-text);\n",
              "  box-shadow: 2pt 2pt 4pt #999;\n",
              "  /* unfitted */\n",
              "  background: var(--sklearn-color-unfitted-level-0);\n",
              "  border: .5pt solid var(--sklearn-color-unfitted-level-3);\n",
              "}\n",
              "\n",
              ".sk-estimator-doc-link.fitted span {\n",
              "  /* fitted */\n",
              "  background: var(--sklearn-color-fitted-level-0);\n",
              "  border: var(--sklearn-color-fitted-level-3);\n",
              "}\n",
              "\n",
              ".sk-estimator-doc-link:hover span {\n",
              "  display: block;\n",
              "}\n",
              "\n",
              "/* \"?\"-specific style due to the `<a>` HTML tag */\n",
              "\n",
              "#sk-container-id-1 a.estimator_doc_link {\n",
              "  float: right;\n",
              "  font-size: 1rem;\n",
              "  line-height: 1em;\n",
              "  font-family: monospace;\n",
              "  background-color: var(--sklearn-color-background);\n",
              "  border-radius: 1rem;\n",
              "  height: 1rem;\n",
              "  width: 1rem;\n",
              "  text-decoration: none;\n",
              "  /* unfitted */\n",
              "  color: var(--sklearn-color-unfitted-level-1);\n",
              "  border: var(--sklearn-color-unfitted-level-1) 1pt solid;\n",
              "}\n",
              "\n",
              "#sk-container-id-1 a.estimator_doc_link.fitted {\n",
              "  /* fitted */\n",
              "  border: var(--sklearn-color-fitted-level-1) 1pt solid;\n",
              "  color: var(--sklearn-color-fitted-level-1);\n",
              "}\n",
              "\n",
              "/* On hover */\n",
              "#sk-container-id-1 a.estimator_doc_link:hover {\n",
              "  /* unfitted */\n",
              "  background-color: var(--sklearn-color-unfitted-level-3);\n",
              "  color: var(--sklearn-color-background);\n",
              "  text-decoration: none;\n",
              "}\n",
              "\n",
              "#sk-container-id-1 a.estimator_doc_link.fitted:hover {\n",
              "  /* fitted */\n",
              "  background-color: var(--sklearn-color-fitted-level-3);\n",
              "}\n",
              "</style><div id=\"sk-container-id-1\" class=\"sk-top-container\"><div class=\"sk-text-repr-fallback\"><pre>Pipeline(steps=[(&#x27;preprocessing&#x27;,\n",
              "                 Pipeline(steps=[(&#x27;iterative_imputer&#x27;, IterativeImputer()),\n",
              "                                 (&#x27;to_dataframe&#x27;,\n",
              "                                  ToDataFrame(columns=[&#x27;hrs&#x27;, &#x27;absences&#x27;,\n",
              "                                                       &#x27;JobInvolvement&#x27;,\n",
              "                                                       &#x27;PerformanceRating&#x27;,\n",
              "                                                       &#x27;EnvironmentSatisfaction&#x27;,\n",
              "                                                       &#x27;JobSatisfaction&#x27;,\n",
              "                                                       &#x27;WorkLifeBalance&#x27;, &#x27;Age&#x27;,\n",
              "                                                       &#x27;BusinessTravel&#x27;,\n",
              "                                                       &#x27;Department&#x27;,\n",
              "                                                       &#x27;DistanceFromHome&#x27;,\n",
              "                                                       &#x27;Education&#x27;,\n",
              "                                                       &#x27;EducationField&#x27;,\n",
              "                                                       &#x27;Gender&#x27;, &#x27;JobLevel&#x27;,\n",
              "                                                       &#x27;Jo...\n",
              "                               importance_type=None,\n",
              "                               interaction_constraints=None,\n",
              "                               learning_rate=0.07694005923017846, max_bin=None,\n",
              "                               max_cat_threshold=None, max_cat_to_onehot=None,\n",
              "                               max_delta_step=None, max_depth=10,\n",
              "                               max_leaves=None, min_child_weight=None,\n",
              "                               missing=nan, monotone_constraints=None,\n",
              "                               multi_strategy=None, n_estimators=69,\n",
              "                               n_jobs=None, num_parallel_tree=None,\n",
              "                               random_state=100547834, ...))])</pre><b>In a Jupyter environment, please rerun this cell to show the HTML representation or trust the notebook. <br />On GitHub, the HTML representation is unable to render, please try loading this page with nbviewer.org.</b></div><div class=\"sk-container\" hidden><div class=\"sk-item sk-dashed-wrapped\"><div class=\"sk-label-container\"><div class=\"sk-label fitted sk-toggleable\"><input class=\"sk-toggleable__control sk-hidden--visually\" id=\"sk-estimator-id-1\" type=\"checkbox\" ><label for=\"sk-estimator-id-1\" class=\"sk-toggleable__label fitted sk-toggleable__label-arrow fitted\">&nbsp;&nbsp;Pipeline<a class=\"sk-estimator-doc-link fitted\" rel=\"noreferrer\" target=\"_blank\" href=\"https://scikit-learn.org/1.5/modules/generated/sklearn.pipeline.Pipeline.html\">?<span>Documentation for Pipeline</span></a><span class=\"sk-estimator-doc-link fitted\">i<span>Fitted</span></span></label><div class=\"sk-toggleable__content fitted\"><pre>Pipeline(steps=[(&#x27;preprocessing&#x27;,\n",
              "                 Pipeline(steps=[(&#x27;iterative_imputer&#x27;, IterativeImputer()),\n",
              "                                 (&#x27;to_dataframe&#x27;,\n",
              "                                  ToDataFrame(columns=[&#x27;hrs&#x27;, &#x27;absences&#x27;,\n",
              "                                                       &#x27;JobInvolvement&#x27;,\n",
              "                                                       &#x27;PerformanceRating&#x27;,\n",
              "                                                       &#x27;EnvironmentSatisfaction&#x27;,\n",
              "                                                       &#x27;JobSatisfaction&#x27;,\n",
              "                                                       &#x27;WorkLifeBalance&#x27;, &#x27;Age&#x27;,\n",
              "                                                       &#x27;BusinessTravel&#x27;,\n",
              "                                                       &#x27;Department&#x27;,\n",
              "                                                       &#x27;DistanceFromHome&#x27;,\n",
              "                                                       &#x27;Education&#x27;,\n",
              "                                                       &#x27;EducationField&#x27;,\n",
              "                                                       &#x27;Gender&#x27;, &#x27;JobLevel&#x27;,\n",
              "                                                       &#x27;Jo...\n",
              "                               importance_type=None,\n",
              "                               interaction_constraints=None,\n",
              "                               learning_rate=0.07694005923017846, max_bin=None,\n",
              "                               max_cat_threshold=None, max_cat_to_onehot=None,\n",
              "                               max_delta_step=None, max_depth=10,\n",
              "                               max_leaves=None, min_child_weight=None,\n",
              "                               missing=nan, monotone_constraints=None,\n",
              "                               multi_strategy=None, n_estimators=69,\n",
              "                               n_jobs=None, num_parallel_tree=None,\n",
              "                               random_state=100547834, ...))])</pre></div> </div></div><div class=\"sk-serial\"><div class=\"sk-item\"><div class=\"sk-label-container\"><div class=\"sk-label fitted sk-toggleable\"><input class=\"sk-toggleable__control sk-hidden--visually\" id=\"sk-estimator-id-2\" type=\"checkbox\" ><label for=\"sk-estimator-id-2\" class=\"sk-toggleable__label fitted sk-toggleable__label-arrow fitted\">&nbsp;preprocessing: Pipeline<a class=\"sk-estimator-doc-link fitted\" rel=\"noreferrer\" target=\"_blank\" href=\"https://scikit-learn.org/1.5/modules/generated/sklearn.pipeline.Pipeline.html\">?<span>Documentation for preprocessing: Pipeline</span></a></label><div class=\"sk-toggleable__content fitted\"><pre>Pipeline(steps=[(&#x27;iterative_imputer&#x27;, IterativeImputer()),\n",
              "                (&#x27;to_dataframe&#x27;,\n",
              "                 ToDataFrame(columns=[&#x27;hrs&#x27;, &#x27;absences&#x27;, &#x27;JobInvolvement&#x27;,\n",
              "                                      &#x27;PerformanceRating&#x27;,\n",
              "                                      &#x27;EnvironmentSatisfaction&#x27;,\n",
              "                                      &#x27;JobSatisfaction&#x27;, &#x27;WorkLifeBalance&#x27;,\n",
              "                                      &#x27;Age&#x27;, &#x27;BusinessTravel&#x27;, &#x27;Department&#x27;,\n",
              "                                      &#x27;DistanceFromHome&#x27;, &#x27;Education&#x27;,\n",
              "                                      &#x27;EducationField&#x27;, &#x27;Gender&#x27;, &#x27;JobLevel&#x27;,\n",
              "                                      &#x27;JobRole&#x27;, &#x27;MaritalStatus&#x27;,\n",
              "                                      &#x27;MonthlyIn...\n",
              "                                                   &#x27;JobSatisfaction&#x27;,\n",
              "                                                   &#x27;WorkLifeBalance&#x27;, &#x27;Age&#x27;,\n",
              "                                                   &#x27;BusinessTravel&#x27;,\n",
              "                                                   &#x27;Department&#x27;,\n",
              "                                                   &#x27;DistanceFromHome&#x27;,\n",
              "                                                   &#x27;Education&#x27;,\n",
              "                                                   &#x27;EducationField&#x27;, &#x27;Gender&#x27;,\n",
              "                                                   &#x27;JobLevel&#x27;, &#x27;JobRole&#x27;,\n",
              "                                                   &#x27;MaritalStatus&#x27;,\n",
              "                                                   &#x27;MonthlyIncome&#x27;,\n",
              "                                                   &#x27;NumCompaniesWorked&#x27;,\n",
              "                                                   &#x27;PercentSalaryHike&#x27;,\n",
              "                                                   &#x27;StockOptionLevel&#x27;,\n",
              "                                                   &#x27;TotalWorkingYears&#x27;,\n",
              "                                                   &#x27;TrainingTimesLastYear&#x27;,\n",
              "                                                   &#x27;YearsAtCompany&#x27;,\n",
              "                                                   &#x27;YearsSinceLastPromotion&#x27;,\n",
              "                                                   &#x27;YearsWithCurrManager&#x27;])]))])</pre></div> </div></div><div class=\"sk-serial\"><div class=\"sk-item\"><div class=\"sk-estimator fitted sk-toggleable\"><input class=\"sk-toggleable__control sk-hidden--visually\" id=\"sk-estimator-id-3\" type=\"checkbox\" ><label for=\"sk-estimator-id-3\" class=\"sk-toggleable__label fitted sk-toggleable__label-arrow fitted\">&nbsp;IterativeImputer<a class=\"sk-estimator-doc-link fitted\" rel=\"noreferrer\" target=\"_blank\" href=\"https://scikit-learn.org/1.5/modules/generated/sklearn.impute.IterativeImputer.html\">?<span>Documentation for IterativeImputer</span></a></label><div class=\"sk-toggleable__content fitted\"><pre>IterativeImputer()</pre></div> </div></div><div class=\"sk-item\"><div class=\"sk-estimator fitted sk-toggleable\"><input class=\"sk-toggleable__control sk-hidden--visually\" id=\"sk-estimator-id-4\" type=\"checkbox\" ><label for=\"sk-estimator-id-4\" class=\"sk-toggleable__label fitted sk-toggleable__label-arrow fitted\">ToDataFrame</label><div class=\"sk-toggleable__content fitted\"><pre>ToDataFrame(columns=[&#x27;hrs&#x27;, &#x27;absences&#x27;, &#x27;JobInvolvement&#x27;, &#x27;PerformanceRating&#x27;,\n",
              "                     &#x27;EnvironmentSatisfaction&#x27;, &#x27;JobSatisfaction&#x27;,\n",
              "                     &#x27;WorkLifeBalance&#x27;, &#x27;Age&#x27;, &#x27;BusinessTravel&#x27;, &#x27;Department&#x27;,\n",
              "                     &#x27;DistanceFromHome&#x27;, &#x27;Education&#x27;, &#x27;EducationField&#x27;,\n",
              "                     &#x27;Gender&#x27;, &#x27;JobLevel&#x27;, &#x27;JobRole&#x27;, &#x27;MaritalStatus&#x27;,\n",
              "                     &#x27;MonthlyIncome&#x27;, &#x27;NumCompaniesWorked&#x27;, &#x27;PercentSalaryHike&#x27;,\n",
              "                     &#x27;StockOptionLevel&#x27;, &#x27;TotalWorkingYears&#x27;,\n",
              "                     &#x27;TrainingTimesLastYear&#x27;, &#x27;YearsAtCompany&#x27;,\n",
              "                     &#x27;YearsSinceLastPromotion&#x27;, &#x27;YearsWithCurrManager&#x27;])</pre></div> </div></div><div class=\"sk-item sk-dashed-wrapped\"><div class=\"sk-label-container\"><div class=\"sk-label fitted sk-toggleable\"><input class=\"sk-toggleable__control sk-hidden--visually\" id=\"sk-estimator-id-5\" type=\"checkbox\" ><label for=\"sk-estimator-id-5\" class=\"sk-toggleable__label fitted sk-toggleable__label-arrow fitted\">&nbsp;scale: ColumnTransformer<a class=\"sk-estimator-doc-link fitted\" rel=\"noreferrer\" target=\"_blank\" href=\"https://scikit-learn.org/1.5/modules/generated/sklearn.compose.ColumnTransformer.html\">?<span>Documentation for scale: ColumnTransformer</span></a></label><div class=\"sk-toggleable__content fitted\"><pre>ColumnTransformer(remainder=&#x27;passthrough&#x27;,\n",
              "                  transformers=[(&#x27;num&#x27;, StandardScaler(),\n",
              "                                 [&#x27;hrs&#x27;, &#x27;absences&#x27;, &#x27;JobInvolvement&#x27;,\n",
              "                                  &#x27;PerformanceRating&#x27;,\n",
              "                                  &#x27;EnvironmentSatisfaction&#x27;, &#x27;JobSatisfaction&#x27;,\n",
              "                                  &#x27;WorkLifeBalance&#x27;, &#x27;Age&#x27;, &#x27;BusinessTravel&#x27;,\n",
              "                                  &#x27;Department&#x27;, &#x27;DistanceFromHome&#x27;, &#x27;Education&#x27;,\n",
              "                                  &#x27;EducationField&#x27;, &#x27;Gender&#x27;, &#x27;JobLevel&#x27;,\n",
              "                                  &#x27;JobRole&#x27;, &#x27;MaritalStatus&#x27;, &#x27;MonthlyIncome&#x27;,\n",
              "                                  &#x27;NumCompaniesWorked&#x27;, &#x27;PercentSalaryHike&#x27;,\n",
              "                                  &#x27;StockOptionLevel&#x27;, &#x27;TotalWorkingYears&#x27;,\n",
              "                                  &#x27;TrainingTimesLastYear&#x27;, &#x27;YearsAtCompany&#x27;,\n",
              "                                  &#x27;YearsSinceLastPromotion&#x27;,\n",
              "                                  &#x27;YearsWithCurrManager&#x27;])])</pre></div> </div></div><div class=\"sk-parallel\"><div class=\"sk-parallel-item\"><div class=\"sk-item\"><div class=\"sk-label-container\"><div class=\"sk-label fitted sk-toggleable\"><input class=\"sk-toggleable__control sk-hidden--visually\" id=\"sk-estimator-id-6\" type=\"checkbox\" ><label for=\"sk-estimator-id-6\" class=\"sk-toggleable__label fitted sk-toggleable__label-arrow fitted\">num</label><div class=\"sk-toggleable__content fitted\"><pre>[&#x27;hrs&#x27;, &#x27;absences&#x27;, &#x27;JobInvolvement&#x27;, &#x27;PerformanceRating&#x27;, &#x27;EnvironmentSatisfaction&#x27;, &#x27;JobSatisfaction&#x27;, &#x27;WorkLifeBalance&#x27;, &#x27;Age&#x27;, &#x27;BusinessTravel&#x27;, &#x27;Department&#x27;, &#x27;DistanceFromHome&#x27;, &#x27;Education&#x27;, &#x27;EducationField&#x27;, &#x27;Gender&#x27;, &#x27;JobLevel&#x27;, &#x27;JobRole&#x27;, &#x27;MaritalStatus&#x27;, &#x27;MonthlyIncome&#x27;, &#x27;NumCompaniesWorked&#x27;, &#x27;PercentSalaryHike&#x27;, &#x27;StockOptionLevel&#x27;, &#x27;TotalWorkingYears&#x27;, &#x27;TrainingTimesLastYear&#x27;, &#x27;YearsAtCompany&#x27;, &#x27;YearsSinceLastPromotion&#x27;, &#x27;YearsWithCurrManager&#x27;]</pre></div> </div></div><div class=\"sk-serial\"><div class=\"sk-item\"><div class=\"sk-estimator fitted sk-toggleable\"><input class=\"sk-toggleable__control sk-hidden--visually\" id=\"sk-estimator-id-7\" type=\"checkbox\" ><label for=\"sk-estimator-id-7\" class=\"sk-toggleable__label fitted sk-toggleable__label-arrow fitted\">&nbsp;StandardScaler<a class=\"sk-estimator-doc-link fitted\" rel=\"noreferrer\" target=\"_blank\" href=\"https://scikit-learn.org/1.5/modules/generated/sklearn.preprocessing.StandardScaler.html\">?<span>Documentation for StandardScaler</span></a></label><div class=\"sk-toggleable__content fitted\"><pre>StandardScaler()</pre></div> </div></div></div></div></div><div class=\"sk-parallel-item\"><div class=\"sk-item\"><div class=\"sk-label-container\"><div class=\"sk-label fitted sk-toggleable\"><input class=\"sk-toggleable__control sk-hidden--visually\" id=\"sk-estimator-id-8\" type=\"checkbox\" ><label for=\"sk-estimator-id-8\" class=\"sk-toggleable__label fitted sk-toggleable__label-arrow fitted\">remainder</label><div class=\"sk-toggleable__content fitted\"><pre>[]</pre></div> </div></div><div class=\"sk-serial\"><div class=\"sk-item\"><div class=\"sk-estimator fitted sk-toggleable\"><input class=\"sk-toggleable__control sk-hidden--visually\" id=\"sk-estimator-id-9\" type=\"checkbox\" ><label for=\"sk-estimator-id-9\" class=\"sk-toggleable__label fitted sk-toggleable__label-arrow fitted\">passthrough</label><div class=\"sk-toggleable__content fitted\"><pre>passthrough</pre></div> </div></div></div></div></div></div></div></div></div><div class=\"sk-item\"><div class=\"sk-estimator fitted sk-toggleable\"><input class=\"sk-toggleable__control sk-hidden--visually\" id=\"sk-estimator-id-10\" type=\"checkbox\" ><label for=\"sk-estimator-id-10\" class=\"sk-toggleable__label fitted sk-toggleable__label-arrow fitted\">&nbsp;SelectKBest<a class=\"sk-estimator-doc-link fitted\" rel=\"noreferrer\" target=\"_blank\" href=\"https://scikit-learn.org/1.5/modules/generated/sklearn.feature_selection.SelectKBest.html\">?<span>Documentation for SelectKBest</span></a></label><div class=\"sk-toggleable__content fitted\"><pre>SelectKBest(k=21)</pre></div> </div></div><div class=\"sk-item\"><div class=\"sk-estimator fitted sk-toggleable\"><input class=\"sk-toggleable__control sk-hidden--visually\" id=\"sk-estimator-id-11\" type=\"checkbox\" ><label for=\"sk-estimator-id-11\" class=\"sk-toggleable__label fitted sk-toggleable__label-arrow fitted\">XGBClassifier</label><div class=\"sk-toggleable__content fitted\"><pre>XGBClassifier(base_score=None, booster=None, callbacks=None,\n",
              "              colsample_bylevel=None, colsample_bynode=None,\n",
              "              colsample_bytree=0.611334480883694, device=None,\n",
              "              early_stopping_rounds=None, enable_categorical=False,\n",
              "              eval_metric=None, feature_types=None, gamma=None,\n",
              "              grow_policy=None, importance_type=None,\n",
              "              interaction_constraints=None, learning_rate=0.07694005923017846,\n",
              "              max_bin=None, max_cat_threshold=None, max_cat_to_onehot=None,\n",
              "              max_delta_step=None, max_depth=10, max_leaves=None,\n",
              "              min_child_weight=None, missing=nan, monotone_constraints=None,\n",
              "              multi_strategy=None, n_estimators=69, n_jobs=None,\n",
              "              num_parallel_tree=None, random_state=100547834, ...)</pre></div> </div></div></div></div></div></div>"
            ]
          },
          "metadata": {},
          "execution_count": 24
        }
      ]
    },
    {
      "cell_type": "markdown",
      "source": [
        "Upload the competition dataset, if not already at the root of the directory, called \"attrition_compet_26.pkl\"."
      ],
      "metadata": {
        "id": "BUAcjHcnC_uP"
      }
    },
    {
      "cell_type": "code",
      "source": [
        "if not os.path.exists(\"attrition_compet_26.pkl\"):\n",
        "  uploaded = files.upload()"
      ],
      "metadata": {
        "id": "P6isCqLHC_V9",
        "colab": {
          "base_uri": "https://localhost:8080/",
          "height": 73
        },
        "outputId": "d2d15d1b-125e-455b-d65a-85b8cef64592"
      },
      "execution_count": 25,
      "outputs": [
        {
          "output_type": "display_data",
          "data": {
            "text/plain": [
              "<IPython.core.display.HTML object>"
            ],
            "text/html": [
              "\n",
              "     <input type=\"file\" id=\"files-f671482c-6b48-4d3d-a3d9-fca91f407ef9\" name=\"files[]\" multiple disabled\n",
              "        style=\"border:none\" />\n",
              "     <output id=\"result-f671482c-6b48-4d3d-a3d9-fca91f407ef9\">\n",
              "      Upload widget is only available when the cell has been executed in the\n",
              "      current browser session. Please rerun this cell to enable.\n",
              "      </output>\n",
              "      <script>// Copyright 2017 Google LLC\n",
              "//\n",
              "// Licensed under the Apache License, Version 2.0 (the \"License\");\n",
              "// you may not use this file except in compliance with the License.\n",
              "// You may obtain a copy of the License at\n",
              "//\n",
              "//      http://www.apache.org/licenses/LICENSE-2.0\n",
              "//\n",
              "// Unless required by applicable law or agreed to in writing, software\n",
              "// distributed under the License is distributed on an \"AS IS\" BASIS,\n",
              "// WITHOUT WARRANTIES OR CONDITIONS OF ANY KIND, either express or implied.\n",
              "// See the License for the specific language governing permissions and\n",
              "// limitations under the License.\n",
              "\n",
              "/**\n",
              " * @fileoverview Helpers for google.colab Python module.\n",
              " */\n",
              "(function(scope) {\n",
              "function span(text, styleAttributes = {}) {\n",
              "  const element = document.createElement('span');\n",
              "  element.textContent = text;\n",
              "  for (const key of Object.keys(styleAttributes)) {\n",
              "    element.style[key] = styleAttributes[key];\n",
              "  }\n",
              "  return element;\n",
              "}\n",
              "\n",
              "// Max number of bytes which will be uploaded at a time.\n",
              "const MAX_PAYLOAD_SIZE = 100 * 1024;\n",
              "\n",
              "function _uploadFiles(inputId, outputId) {\n",
              "  const steps = uploadFilesStep(inputId, outputId);\n",
              "  const outputElement = document.getElementById(outputId);\n",
              "  // Cache steps on the outputElement to make it available for the next call\n",
              "  // to uploadFilesContinue from Python.\n",
              "  outputElement.steps = steps;\n",
              "\n",
              "  return _uploadFilesContinue(outputId);\n",
              "}\n",
              "\n",
              "// This is roughly an async generator (not supported in the browser yet),\n",
              "// where there are multiple asynchronous steps and the Python side is going\n",
              "// to poll for completion of each step.\n",
              "// This uses a Promise to block the python side on completion of each step,\n",
              "// then passes the result of the previous step as the input to the next step.\n",
              "function _uploadFilesContinue(outputId) {\n",
              "  const outputElement = document.getElementById(outputId);\n",
              "  const steps = outputElement.steps;\n",
              "\n",
              "  const next = steps.next(outputElement.lastPromiseValue);\n",
              "  return Promise.resolve(next.value.promise).then((value) => {\n",
              "    // Cache the last promise value to make it available to the next\n",
              "    // step of the generator.\n",
              "    outputElement.lastPromiseValue = value;\n",
              "    return next.value.response;\n",
              "  });\n",
              "}\n",
              "\n",
              "/**\n",
              " * Generator function which is called between each async step of the upload\n",
              " * process.\n",
              " * @param {string} inputId Element ID of the input file picker element.\n",
              " * @param {string} outputId Element ID of the output display.\n",
              " * @return {!Iterable<!Object>} Iterable of next steps.\n",
              " */\n",
              "function* uploadFilesStep(inputId, outputId) {\n",
              "  const inputElement = document.getElementById(inputId);\n",
              "  inputElement.disabled = false;\n",
              "\n",
              "  const outputElement = document.getElementById(outputId);\n",
              "  outputElement.innerHTML = '';\n",
              "\n",
              "  const pickedPromise = new Promise((resolve) => {\n",
              "    inputElement.addEventListener('change', (e) => {\n",
              "      resolve(e.target.files);\n",
              "    });\n",
              "  });\n",
              "\n",
              "  const cancel = document.createElement('button');\n",
              "  inputElement.parentElement.appendChild(cancel);\n",
              "  cancel.textContent = 'Cancel upload';\n",
              "  const cancelPromise = new Promise((resolve) => {\n",
              "    cancel.onclick = () => {\n",
              "      resolve(null);\n",
              "    };\n",
              "  });\n",
              "\n",
              "  // Wait for the user to pick the files.\n",
              "  const files = yield {\n",
              "    promise: Promise.race([pickedPromise, cancelPromise]),\n",
              "    response: {\n",
              "      action: 'starting',\n",
              "    }\n",
              "  };\n",
              "\n",
              "  cancel.remove();\n",
              "\n",
              "  // Disable the input element since further picks are not allowed.\n",
              "  inputElement.disabled = true;\n",
              "\n",
              "  if (!files) {\n",
              "    return {\n",
              "      response: {\n",
              "        action: 'complete',\n",
              "      }\n",
              "    };\n",
              "  }\n",
              "\n",
              "  for (const file of files) {\n",
              "    const li = document.createElement('li');\n",
              "    li.append(span(file.name, {fontWeight: 'bold'}));\n",
              "    li.append(span(\n",
              "        `(${file.type || 'n/a'}) - ${file.size} bytes, ` +\n",
              "        `last modified: ${\n",
              "            file.lastModifiedDate ? file.lastModifiedDate.toLocaleDateString() :\n",
              "                                    'n/a'} - `));\n",
              "    const percent = span('0% done');\n",
              "    li.appendChild(percent);\n",
              "\n",
              "    outputElement.appendChild(li);\n",
              "\n",
              "    const fileDataPromise = new Promise((resolve) => {\n",
              "      const reader = new FileReader();\n",
              "      reader.onload = (e) => {\n",
              "        resolve(e.target.result);\n",
              "      };\n",
              "      reader.readAsArrayBuffer(file);\n",
              "    });\n",
              "    // Wait for the data to be ready.\n",
              "    let fileData = yield {\n",
              "      promise: fileDataPromise,\n",
              "      response: {\n",
              "        action: 'continue',\n",
              "      }\n",
              "    };\n",
              "\n",
              "    // Use a chunked sending to avoid message size limits. See b/62115660.\n",
              "    let position = 0;\n",
              "    do {\n",
              "      const length = Math.min(fileData.byteLength - position, MAX_PAYLOAD_SIZE);\n",
              "      const chunk = new Uint8Array(fileData, position, length);\n",
              "      position += length;\n",
              "\n",
              "      const base64 = btoa(String.fromCharCode.apply(null, chunk));\n",
              "      yield {\n",
              "        response: {\n",
              "          action: 'append',\n",
              "          file: file.name,\n",
              "          data: base64,\n",
              "        },\n",
              "      };\n",
              "\n",
              "      let percentDone = fileData.byteLength === 0 ?\n",
              "          100 :\n",
              "          Math.round((position / fileData.byteLength) * 100);\n",
              "      percent.textContent = `${percentDone}% done`;\n",
              "\n",
              "    } while (position < fileData.byteLength);\n",
              "  }\n",
              "\n",
              "  // All done.\n",
              "  yield {\n",
              "    response: {\n",
              "      action: 'complete',\n",
              "    }\n",
              "  };\n",
              "}\n",
              "\n",
              "scope.google = scope.google || {};\n",
              "scope.google.colab = scope.google.colab || {};\n",
              "scope.google.colab._files = {\n",
              "  _uploadFiles,\n",
              "  _uploadFilesContinue,\n",
              "};\n",
              "})(self);\n",
              "</script> "
            ]
          },
          "metadata": {}
        },
        {
          "output_type": "stream",
          "name": "stdout",
          "text": [
            "Saving attrition_compet_26.pkl to attrition_compet_26.pkl\n"
          ]
        }
      ]
    },
    {
      "cell_type": "markdown",
      "source": [
        "We will preprocess our data so that it is in the same structure as before."
      ],
      "metadata": {
        "id": "Vq-ethmjGuTl"
      }
    },
    {
      "cell_type": "code",
      "source": [
        "# Read the competition dataset\n",
        "X_compet = pd.read_pickle(\"attrition_compet_26.pkl\")\n",
        "\n",
        "# Convert categorical columns to numeric representations\n",
        "for col in categorical_cols:\n",
        "    X_compet[col] = le.fit_transform(X_compet[col])\n",
        "\n",
        "# Drop constant and irrelevant columns\n",
        "X_compet.drop(sg_val_cols, axis=1, inplace=True)\n",
        "\n",
        "# Display the shape of the features\n",
        "print(\"Shape of X (features):\", X_compet.shape)\n",
        "\n",
        "# Feature names and target options\n",
        "feature_names = X_compet.columns.tolist()\n",
        "print(\"Feature names:\", feature_names)\n",
        "print(\"Target groups:\", target_names)"
      ],
      "metadata": {
        "colab": {
          "base_uri": "https://localhost:8080/"
        },
        "id": "iHi2kGj0DLVm",
        "outputId": "6764b5a6-4610-4322-92bc-1b05870915d2"
      },
      "execution_count": 26,
      "outputs": [
        {
          "output_type": "stream",
          "name": "stdout",
          "text": [
            "Shape of X (features): (200, 26)\n",
            "Feature names: ['hrs', 'absences', 'JobInvolvement', 'PerformanceRating', 'EnvironmentSatisfaction', 'JobSatisfaction', 'WorkLifeBalance', 'Age', 'BusinessTravel', 'Department', 'DistanceFromHome', 'Education', 'EducationField', 'Gender', 'JobLevel', 'JobRole', 'MaritalStatus', 'MonthlyIncome', 'NumCompaniesWorked', 'PercentSalaryHike', 'StockOptionLevel', 'TotalWorkingYears', 'TrainingTimesLastYear', 'YearsAtCompany', 'YearsSinceLastPromotion', 'YearsWithCurrManager']\n",
            "Target groups: ['Yes' 'No']\n"
          ]
        }
      ]
    },
    {
      "cell_type": "markdown",
      "source": [
        "Finally, we can make predictions, saving our model using joblib and the predictions in csv format."
      ],
      "metadata": {
        "id": "MkqNIccoG4bT"
      }
    },
    {
      "cell_type": "code",
      "source": [
        "# Predict and convert numeric value to user-classification\n",
        "y_competition_pred = final_pipe.predict(X_compet)\n",
        "y_competition_pred = pd.Series(y_competition_pred).map({0: 'No', 1: 'Yes'})\n",
        "\n",
        "# Write results to a .csv file\n",
        "competition_results = pd.DataFrame({'Id': range(len(y_competition_pred)), 'Prediction': y_competition_pred})\n",
        "competition_results.to_csv('assignment2_competition_predictions.csv', index=False)"
      ],
      "metadata": {
        "id": "KuYn0p2YCh1I"
      },
      "execution_count": 27,
      "outputs": []
    },
    {
      "cell_type": "code",
      "source": [
        "from joblib import dump, load\n",
        "\n",
        "# Save the final model to a file\n",
        "dump(final_pipe, 'assignment2_final_model.joblib')"
      ],
      "metadata": {
        "colab": {
          "base_uri": "https://localhost:8080/"
        },
        "id": "DiYD-rfnOiTY",
        "outputId": "23b95cd0-091f-4df8-90de-e6f784e8b8bc"
      },
      "execution_count": 28,
      "outputs": [
        {
          "output_type": "execute_result",
          "data": {
            "text/plain": [
              "['assignment2_final_model.joblib']"
            ]
          },
          "metadata": {},
          "execution_count": 28
        }
      ]
    },
    {
      "cell_type": "code",
      "source": [
        "# The final pipeline can be retrieved by running this line\n",
        "final_pipe_reloaded = load('assignment2_final_model.joblib')"
      ],
      "metadata": {
        "id": "xkAKf4ElHbUe"
      },
      "execution_count": 29,
      "outputs": []
    }
  ]
}
